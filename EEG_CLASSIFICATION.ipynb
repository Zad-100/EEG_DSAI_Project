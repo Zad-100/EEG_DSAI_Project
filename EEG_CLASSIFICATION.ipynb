{
  "cells": [
    {
      "cell_type": "markdown",
      "metadata": {
        "id": "view-in-github",
        "colab_type": "text"
      },
      "source": [
        "<a href=\"https://colab.research.google.com/github/Zad-100/EEG_DSAI_Project/blob/main/EEG_CLASSIFICATION.ipynb\" target=\"_parent\"><img src=\"https://colab.research.google.com/assets/colab-badge.svg\" alt=\"Open In Colab\"/></a>"
      ]
    },
    {
      "cell_type": "code",
      "source": [
        "from google.colab import drive\n",
        "drive.mount('/content/gdrive')"
      ],
      "metadata": {
        "colab": {
          "base_uri": "https://localhost:8080/"
        },
        "id": "WF5WrP-1xiNK",
        "outputId": "dbe02964-1eac-4fbd-b3cd-e36aabcf094c"
      },
      "execution_count": null,
      "outputs": [
        {
          "output_type": "stream",
          "name": "stdout",
          "text": [
            "Mounted at /content/gdrive\n"
          ]
        }
      ]
    },
    {
      "cell_type": "code",
      "execution_count": null,
      "metadata": {
        "id": "sw4yK5yvTA3s"
      },
      "outputs": [],
      "source": [
        "import pandas as pd\n",
        "data=pd.read_csv(\"/content/gdrive/MyDrive/Dataset/mergedTrialData_withTarget.csv\")"
      ]
    },
    {
      "cell_type": "code",
      "execution_count": null,
      "metadata": {
        "colab": {
          "base_uri": "https://localhost:8080/",
          "height": 317
        },
        "id": "63X73dz1bOXf",
        "outputId": "b20ab8f1-6231-4395-cd5f-ec377864b4fa"
      },
      "outputs": [
        {
          "output_type": "execute_result",
          "data": {
            "text/plain": [
              "   Unnamed: 0  subject  trial  condition        ITI  rejected   Fz_N100  \\\n",
              "0           0        1      1          1        NaN         0 -9.761338   \n",
              "1           1        1      2          1  2025.3906         0  8.717519   \n",
              "2           2        1      3          1  2303.7109         0 -4.027286   \n",
              "3           3        1      4          1  2275.3906         0  0.394095   \n",
              "4           4        1      5          1  2464.8438         0 -9.368090   \n",
              "\n",
              "    FCz_N100    Cz_N100  FC3_N100  ...      Fz_B1     FCz_B1      Cz_B1  \\\n",
              "0 -11.545219 -16.775214 -3.576595  ... -14.815963 -23.173850 -25.626646   \n",
              "1  11.462619   7.979110  9.429738  ...  19.337457  18.359870  15.224155   \n",
              "2  -3.992038  -1.104119 -3.319471  ...   5.443106   1.081921   0.316871   \n",
              "3  -0.663186  -1.372871  3.974643  ...   5.417850   3.702130   7.823421   \n",
              "4 -12.029829 -10.280100 -7.846471  ...  -6.464376  -6.817497  -6.286747   \n",
              "\n",
              "      FC3_B1     FC4_B1      C3_B1      C4_B1     CP3_B1     CP4_B1  group  \n",
              "0 -13.285282 -23.223037 -23.622596 -19.071931 -19.529142 -26.677147      0  \n",
              "1  13.442292  16.981404  11.953868  10.168470   5.831319   6.503993      0  \n",
              "2   1.199502   0.929950   1.343815   3.131847   3.691148   0.338882      0  \n",
              "3   5.336565  -0.448384   7.983687   6.579145   8.474662   9.381523      0  \n",
              "4   0.212776  -5.815893   2.517058  -1.101036  -4.325141  -4.832745      0  \n",
              "\n",
              "[5 rows x 43 columns]"
            ],
            "text/html": [
              "\n",
              "  <div id=\"df-200767a4-b833-499d-91a1-d72acf957987\">\n",
              "    <div class=\"colab-df-container\">\n",
              "      <div>\n",
              "<style scoped>\n",
              "    .dataframe tbody tr th:only-of-type {\n",
              "        vertical-align: middle;\n",
              "    }\n",
              "\n",
              "    .dataframe tbody tr th {\n",
              "        vertical-align: top;\n",
              "    }\n",
              "\n",
              "    .dataframe thead th {\n",
              "        text-align: right;\n",
              "    }\n",
              "</style>\n",
              "<table border=\"1\" class=\"dataframe\">\n",
              "  <thead>\n",
              "    <tr style=\"text-align: right;\">\n",
              "      <th></th>\n",
              "      <th>Unnamed: 0</th>\n",
              "      <th>subject</th>\n",
              "      <th>trial</th>\n",
              "      <th>condition</th>\n",
              "      <th>ITI</th>\n",
              "      <th>rejected</th>\n",
              "      <th>Fz_N100</th>\n",
              "      <th>FCz_N100</th>\n",
              "      <th>Cz_N100</th>\n",
              "      <th>FC3_N100</th>\n",
              "      <th>...</th>\n",
              "      <th>Fz_B1</th>\n",
              "      <th>FCz_B1</th>\n",
              "      <th>Cz_B1</th>\n",
              "      <th>FC3_B1</th>\n",
              "      <th>FC4_B1</th>\n",
              "      <th>C3_B1</th>\n",
              "      <th>C4_B1</th>\n",
              "      <th>CP3_B1</th>\n",
              "      <th>CP4_B1</th>\n",
              "      <th>group</th>\n",
              "    </tr>\n",
              "  </thead>\n",
              "  <tbody>\n",
              "    <tr>\n",
              "      <th>0</th>\n",
              "      <td>0</td>\n",
              "      <td>1</td>\n",
              "      <td>1</td>\n",
              "      <td>1</td>\n",
              "      <td>NaN</td>\n",
              "      <td>0</td>\n",
              "      <td>-9.761338</td>\n",
              "      <td>-11.545219</td>\n",
              "      <td>-16.775214</td>\n",
              "      <td>-3.576595</td>\n",
              "      <td>...</td>\n",
              "      <td>-14.815963</td>\n",
              "      <td>-23.173850</td>\n",
              "      <td>-25.626646</td>\n",
              "      <td>-13.285282</td>\n",
              "      <td>-23.223037</td>\n",
              "      <td>-23.622596</td>\n",
              "      <td>-19.071931</td>\n",
              "      <td>-19.529142</td>\n",
              "      <td>-26.677147</td>\n",
              "      <td>0</td>\n",
              "    </tr>\n",
              "    <tr>\n",
              "      <th>1</th>\n",
              "      <td>1</td>\n",
              "      <td>1</td>\n",
              "      <td>2</td>\n",
              "      <td>1</td>\n",
              "      <td>2025.3906</td>\n",
              "      <td>0</td>\n",
              "      <td>8.717519</td>\n",
              "      <td>11.462619</td>\n",
              "      <td>7.979110</td>\n",
              "      <td>9.429738</td>\n",
              "      <td>...</td>\n",
              "      <td>19.337457</td>\n",
              "      <td>18.359870</td>\n",
              "      <td>15.224155</td>\n",
              "      <td>13.442292</td>\n",
              "      <td>16.981404</td>\n",
              "      <td>11.953868</td>\n",
              "      <td>10.168470</td>\n",
              "      <td>5.831319</td>\n",
              "      <td>6.503993</td>\n",
              "      <td>0</td>\n",
              "    </tr>\n",
              "    <tr>\n",
              "      <th>2</th>\n",
              "      <td>2</td>\n",
              "      <td>1</td>\n",
              "      <td>3</td>\n",
              "      <td>1</td>\n",
              "      <td>2303.7109</td>\n",
              "      <td>0</td>\n",
              "      <td>-4.027286</td>\n",
              "      <td>-3.992038</td>\n",
              "      <td>-1.104119</td>\n",
              "      <td>-3.319471</td>\n",
              "      <td>...</td>\n",
              "      <td>5.443106</td>\n",
              "      <td>1.081921</td>\n",
              "      <td>0.316871</td>\n",
              "      <td>1.199502</td>\n",
              "      <td>0.929950</td>\n",
              "      <td>1.343815</td>\n",
              "      <td>3.131847</td>\n",
              "      <td>3.691148</td>\n",
              "      <td>0.338882</td>\n",
              "      <td>0</td>\n",
              "    </tr>\n",
              "    <tr>\n",
              "      <th>3</th>\n",
              "      <td>3</td>\n",
              "      <td>1</td>\n",
              "      <td>4</td>\n",
              "      <td>1</td>\n",
              "      <td>2275.3906</td>\n",
              "      <td>0</td>\n",
              "      <td>0.394095</td>\n",
              "      <td>-0.663186</td>\n",
              "      <td>-1.372871</td>\n",
              "      <td>3.974643</td>\n",
              "      <td>...</td>\n",
              "      <td>5.417850</td>\n",
              "      <td>3.702130</td>\n",
              "      <td>7.823421</td>\n",
              "      <td>5.336565</td>\n",
              "      <td>-0.448384</td>\n",
              "      <td>7.983687</td>\n",
              "      <td>6.579145</td>\n",
              "      <td>8.474662</td>\n",
              "      <td>9.381523</td>\n",
              "      <td>0</td>\n",
              "    </tr>\n",
              "    <tr>\n",
              "      <th>4</th>\n",
              "      <td>4</td>\n",
              "      <td>1</td>\n",
              "      <td>5</td>\n",
              "      <td>1</td>\n",
              "      <td>2464.8438</td>\n",
              "      <td>0</td>\n",
              "      <td>-9.368090</td>\n",
              "      <td>-12.029829</td>\n",
              "      <td>-10.280100</td>\n",
              "      <td>-7.846471</td>\n",
              "      <td>...</td>\n",
              "      <td>-6.464376</td>\n",
              "      <td>-6.817497</td>\n",
              "      <td>-6.286747</td>\n",
              "      <td>0.212776</td>\n",
              "      <td>-5.815893</td>\n",
              "      <td>2.517058</td>\n",
              "      <td>-1.101036</td>\n",
              "      <td>-4.325141</td>\n",
              "      <td>-4.832745</td>\n",
              "      <td>0</td>\n",
              "    </tr>\n",
              "  </tbody>\n",
              "</table>\n",
              "<p>5 rows × 43 columns</p>\n",
              "</div>\n",
              "      <button class=\"colab-df-convert\" onclick=\"convertToInteractive('df-200767a4-b833-499d-91a1-d72acf957987')\"\n",
              "              title=\"Convert this dataframe to an interactive table.\"\n",
              "              style=\"display:none;\">\n",
              "        \n",
              "  <svg xmlns=\"http://www.w3.org/2000/svg\" height=\"24px\"viewBox=\"0 0 24 24\"\n",
              "       width=\"24px\">\n",
              "    <path d=\"M0 0h24v24H0V0z\" fill=\"none\"/>\n",
              "    <path d=\"M18.56 5.44l.94 2.06.94-2.06 2.06-.94-2.06-.94-.94-2.06-.94 2.06-2.06.94zm-11 1L8.5 8.5l.94-2.06 2.06-.94-2.06-.94L8.5 2.5l-.94 2.06-2.06.94zm10 10l.94 2.06.94-2.06 2.06-.94-2.06-.94-.94-2.06-.94 2.06-2.06.94z\"/><path d=\"M17.41 7.96l-1.37-1.37c-.4-.4-.92-.59-1.43-.59-.52 0-1.04.2-1.43.59L10.3 9.45l-7.72 7.72c-.78.78-.78 2.05 0 2.83L4 21.41c.39.39.9.59 1.41.59.51 0 1.02-.2 1.41-.59l7.78-7.78 2.81-2.81c.8-.78.8-2.07 0-2.86zM5.41 20L4 18.59l7.72-7.72 1.47 1.35L5.41 20z\"/>\n",
              "  </svg>\n",
              "      </button>\n",
              "      \n",
              "  <style>\n",
              "    .colab-df-container {\n",
              "      display:flex;\n",
              "      flex-wrap:wrap;\n",
              "      gap: 12px;\n",
              "    }\n",
              "\n",
              "    .colab-df-convert {\n",
              "      background-color: #E8F0FE;\n",
              "      border: none;\n",
              "      border-radius: 50%;\n",
              "      cursor: pointer;\n",
              "      display: none;\n",
              "      fill: #1967D2;\n",
              "      height: 32px;\n",
              "      padding: 0 0 0 0;\n",
              "      width: 32px;\n",
              "    }\n",
              "\n",
              "    .colab-df-convert:hover {\n",
              "      background-color: #E2EBFA;\n",
              "      box-shadow: 0px 1px 2px rgba(60, 64, 67, 0.3), 0px 1px 3px 1px rgba(60, 64, 67, 0.15);\n",
              "      fill: #174EA6;\n",
              "    }\n",
              "\n",
              "    [theme=dark] .colab-df-convert {\n",
              "      background-color: #3B4455;\n",
              "      fill: #D2E3FC;\n",
              "    }\n",
              "\n",
              "    [theme=dark] .colab-df-convert:hover {\n",
              "      background-color: #434B5C;\n",
              "      box-shadow: 0px 1px 3px 1px rgba(0, 0, 0, 0.15);\n",
              "      filter: drop-shadow(0px 1px 2px rgba(0, 0, 0, 0.3));\n",
              "      fill: #FFFFFF;\n",
              "    }\n",
              "  </style>\n",
              "\n",
              "      <script>\n",
              "        const buttonEl =\n",
              "          document.querySelector('#df-200767a4-b833-499d-91a1-d72acf957987 button.colab-df-convert');\n",
              "        buttonEl.style.display =\n",
              "          google.colab.kernel.accessAllowed ? 'block' : 'none';\n",
              "\n",
              "        async function convertToInteractive(key) {\n",
              "          const element = document.querySelector('#df-200767a4-b833-499d-91a1-d72acf957987');\n",
              "          const dataTable =\n",
              "            await google.colab.kernel.invokeFunction('convertToInteractive',\n",
              "                                                     [key], {});\n",
              "          if (!dataTable) return;\n",
              "\n",
              "          const docLinkHtml = 'Like what you see? Visit the ' +\n",
              "            '<a target=\"_blank\" href=https://colab.research.google.com/notebooks/data_table.ipynb>data table notebook</a>'\n",
              "            + ' to learn more about interactive tables.';\n",
              "          element.innerHTML = '';\n",
              "          dataTable['output_type'] = 'display_data';\n",
              "          await google.colab.output.renderOutput(dataTable, element);\n",
              "          const docLink = document.createElement('div');\n",
              "          docLink.innerHTML = docLinkHtml;\n",
              "          element.appendChild(docLink);\n",
              "        }\n",
              "      </script>\n",
              "    </div>\n",
              "  </div>\n",
              "  "
            ]
          },
          "metadata": {},
          "execution_count": 66
        }
      ],
      "source": [
        "data.head()"
      ]
    },
    {
      "cell_type": "code",
      "execution_count": null,
      "metadata": {
        "colab": {
          "base_uri": "https://localhost:8080/"
        },
        "id": "oyITN3L4bTu8",
        "outputId": "69e50dbd-4aea-41a3-e06d-d820f3062a74"
      },
      "outputs": [
        {
          "output_type": "stream",
          "name": "stdout",
          "text": [
            "<class 'pandas.core.frame.DataFrame'>\n",
            "RangeIndex: 23986 entries, 0 to 23985\n",
            "Data columns (total 43 columns):\n",
            " #   Column      Non-Null Count  Dtype  \n",
            "---  ------      --------------  -----  \n",
            " 0   Unnamed: 0  23986 non-null  int64  \n",
            " 1   subject     23986 non-null  int64  \n",
            " 2   trial       23986 non-null  int64  \n",
            " 3   condition   23986 non-null  int64  \n",
            " 4   ITI         23743 non-null  float64\n",
            " 5   rejected    23986 non-null  int64  \n",
            " 6   Fz_N100     23201 non-null  float64\n",
            " 7   FCz_N100    23201 non-null  float64\n",
            " 8   Cz_N100     23201 non-null  float64\n",
            " 9   FC3_N100    23201 non-null  float64\n",
            " 10  FC4_N100    23201 non-null  float64\n",
            " 11  C3_N100     23201 non-null  float64\n",
            " 12  C4_N100     23201 non-null  float64\n",
            " 13  CP3_N100    23201 non-null  float64\n",
            " 14  CP4_N100    23201 non-null  float64\n",
            " 15  Fz_P200     23201 non-null  float64\n",
            " 16  FCz_P200    23201 non-null  float64\n",
            " 17  Cz_P200     23201 non-null  float64\n",
            " 18  FC3_P200    23201 non-null  float64\n",
            " 19  FC4_P200    23201 non-null  float64\n",
            " 20  C3_P200     23201 non-null  float64\n",
            " 21  C4_P200     23201 non-null  float64\n",
            " 22  CP3_P200    23201 non-null  float64\n",
            " 23  CP4_P200    23201 non-null  float64\n",
            " 24  Fz_B0       23201 non-null  float64\n",
            " 25  FCz_B0      23201 non-null  float64\n",
            " 26  Cz_B0       23201 non-null  float64\n",
            " 27  FC3_B0      23201 non-null  float64\n",
            " 28  FC4_B0      23201 non-null  float64\n",
            " 29  C3_B0       23201 non-null  float64\n",
            " 30  C4_B0       23201 non-null  float64\n",
            " 31  CP3_B0      23201 non-null  float64\n",
            " 32  CP4_B0      23201 non-null  float64\n",
            " 33  Fz_B1       23201 non-null  float64\n",
            " 34  FCz_B1      23201 non-null  float64\n",
            " 35  Cz_B1       23201 non-null  float64\n",
            " 36  FC3_B1      23201 non-null  float64\n",
            " 37  FC4_B1      23201 non-null  float64\n",
            " 38  C3_B1       23201 non-null  float64\n",
            " 39  C4_B1       23201 non-null  float64\n",
            " 40  CP3_B1      23201 non-null  float64\n",
            " 41  CP4_B1      23201 non-null  float64\n",
            " 42  group       23986 non-null  int64  \n",
            "dtypes: float64(37), int64(6)\n",
            "memory usage: 7.9 MB\n"
          ]
        }
      ],
      "source": [
        "data.info()"
      ]
    },
    {
      "cell_type": "code",
      "execution_count": null,
      "metadata": {
        "colab": {
          "base_uri": "https://localhost:8080/"
        },
        "id": "j3LmMerTbWbS",
        "outputId": "01abf1c4-8403-4b67-efd9-e2fc75a4c2bb"
      },
      "outputs": [
        {
          "output_type": "execute_result",
          "data": {
            "text/plain": [
              "0    23201\n",
              "1      785\n",
              "Name: rejected, dtype: int64"
            ]
          },
          "metadata": {},
          "execution_count": 68
        }
      ],
      "source": [
        "data.rejected.value_counts()"
      ]
    },
    {
      "cell_type": "code",
      "execution_count": null,
      "metadata": {
        "id": "yO-KoHGSb88S"
      },
      "outputs": [],
      "source": [
        "data.drop(data.loc[data['rejected']==1].index, inplace=True)"
      ]
    },
    {
      "cell_type": "code",
      "execution_count": null,
      "metadata": {
        "colab": {
          "base_uri": "https://localhost:8080/"
        },
        "id": "RH5q_L-zcxaA",
        "outputId": "0e48a86d-aad2-4cdd-d690-24db65d6c4fd"
      },
      "outputs": [
        {
          "output_type": "execute_result",
          "data": {
            "text/plain": [
              "0    23201\n",
              "Name: rejected, dtype: int64"
            ]
          },
          "metadata": {},
          "execution_count": 70
        }
      ],
      "source": [
        "data.rejected.value_counts()"
      ]
    },
    {
      "cell_type": "code",
      "execution_count": null,
      "metadata": {
        "colab": {
          "base_uri": "https://localhost:8080/"
        },
        "id": "nGabTVebc0la",
        "outputId": "488ecf05-551d-4b70-bfde-aacec168e4da"
      },
      "outputs": [
        {
          "output_type": "execute_result",
          "data": {
            "text/plain": [
              "1    13975\n",
              "0     9226\n",
              "Name: group, dtype: int64"
            ]
          },
          "metadata": {},
          "execution_count": 71
        }
      ],
      "source": [
        "#checking is the data is imbalanced\n",
        "data.group.value_counts()"
      ]
    },
    {
      "cell_type": "code",
      "execution_count": null,
      "metadata": {
        "colab": {
          "base_uri": "https://localhost:8080/"
        },
        "id": "eCIxAXyQdwUN",
        "outputId": "23f06675-ab7a-412d-842a-165114bcc8f9"
      },
      "outputs": [
        {
          "output_type": "execute_result",
          "data": {
            "text/plain": [
              "0.6023447265204086"
            ]
          },
          "metadata": {},
          "execution_count": 72
        }
      ],
      "source": [
        "#the data we have is slightly imbalanced!\n",
        "13975/(13975+9226)"
      ]
    },
    {
      "cell_type": "code",
      "execution_count": null,
      "metadata": {
        "colab": {
          "base_uri": "https://localhost:8080/"
        },
        "id": "2D3hFS7meBQr",
        "outputId": "af3e54fd-76f5-46cc-e7bf-93aa84d34df8"
      },
      "outputs": [
        {
          "output_type": "execute_result",
          "data": {
            "text/plain": [
              "Unnamed: 0      0\n",
              "subject         0\n",
              "trial           0\n",
              "condition       0\n",
              "ITI           195\n",
              "rejected        0\n",
              "Fz_N100         0\n",
              "FCz_N100        0\n",
              "Cz_N100         0\n",
              "FC3_N100        0\n",
              "FC4_N100        0\n",
              "C3_N100         0\n",
              "C4_N100         0\n",
              "CP3_N100        0\n",
              "CP4_N100        0\n",
              "Fz_P200         0\n",
              "FCz_P200        0\n",
              "Cz_P200         0\n",
              "FC3_P200        0\n",
              "FC4_P200        0\n",
              "C3_P200         0\n",
              "C4_P200         0\n",
              "CP3_P200        0\n",
              "CP4_P200        0\n",
              "Fz_B0           0\n",
              "FCz_B0          0\n",
              "Cz_B0           0\n",
              "FC3_B0          0\n",
              "FC4_B0          0\n",
              "C3_B0           0\n",
              "C4_B0           0\n",
              "CP3_B0          0\n",
              "CP4_B0          0\n",
              "Fz_B1           0\n",
              "FCz_B1          0\n",
              "Cz_B1           0\n",
              "FC3_B1          0\n",
              "FC4_B1          0\n",
              "C3_B1           0\n",
              "C4_B1           0\n",
              "CP3_B1          0\n",
              "CP4_B1          0\n",
              "group           0\n",
              "dtype: int64"
            ]
          },
          "metadata": {},
          "execution_count": 73
        }
      ],
      "source": [
        "#it is in the ratio of 60 40!\n",
        "#now check for missing values in the data\n",
        "data.isna().sum()"
      ]
    },
    {
      "cell_type": "code",
      "execution_count": null,
      "metadata": {
        "colab": {
          "base_uri": "https://localhost:8080/",
          "height": 537
        },
        "id": "NXbcm0d6et9k",
        "outputId": "6f92406b-7895-489e-d05a-25124308e15d"
      },
      "outputs": [
        {
          "output_type": "execute_result",
          "data": {
            "text/plain": [
              "<Axes: xlabel='index'>"
            ]
          },
          "metadata": {},
          "execution_count": 74
        },
        {
          "output_type": "display_data",
          "data": {
            "text/plain": [
              "<Figure size 640x480 with 1 Axes>"
            ],
            "image/png": "[encoded data removed]"
          },
          "metadata": {}
        }
      ],
      "source": [
        "data.isna().sum().reset_index(name=\"n\").plot.bar(x='index', y='n', rot=450)"
      ]
    },
    {
      "cell_type": "code",
      "execution_count": null,
      "metadata": {
        "colab": {
          "base_uri": "https://localhost:8080/"
        },
        "id": "oDdNXedyezEU",
        "outputId": "1303bdf2-9add-4dbc-ea2f-43ccfc501470"
      },
      "outputs": [
        {
          "output_type": "execute_result",
          "data": {
            "text/plain": [
              "0          NaN\n",
              "1    2025.3906\n",
              "2    2303.7109\n",
              "3    2275.3906\n",
              "4    2464.8438\n",
              "Name: ITI, dtype: float64"
            ]
          },
          "metadata": {},
          "execution_count": 75
        }
      ],
      "source": [
        "#what the values of ITI looks like\n",
        "data.ITI.head()"
      ]
    },
    {
      "cell_type": "code",
      "execution_count": null,
      "metadata": {
        "id": "Rny-Xm7afT4W"
      },
      "outputs": [],
      "source": [
        "#we should fill the NaN values with mean value!\n",
        "mean_value=data['ITI'].mean()\n",
        "  \n",
        "# Replace NaNs in column ITI with the\n",
        "# mean of values in the same column\n",
        "data['ITI'].fillna(value=mean_value, inplace=True)"
      ]
    },
    {
      "cell_type": "code",
      "execution_count": null,
      "metadata": {
        "colab": {
          "base_uri": "https://localhost:8080/"
        },
        "id": "QWpiEgUrfwAF",
        "outputId": "f6d8bca9-5cdc-4f72-e581-e2de2da9749d"
      },
      "outputs": [
        {
          "output_type": "execute_result",
          "data": {
            "text/plain": [
              "Unnamed: 0    0\n",
              "subject       0\n",
              "trial         0\n",
              "condition     0\n",
              "ITI           0\n",
              "rejected      0\n",
              "Fz_N100       0\n",
              "FCz_N100      0\n",
              "Cz_N100       0\n",
              "FC3_N100      0\n",
              "FC4_N100      0\n",
              "C3_N100       0\n",
              "C4_N100       0\n",
              "CP3_N100      0\n",
              "CP4_N100      0\n",
              "Fz_P200       0\n",
              "FCz_P200      0\n",
              "Cz_P200       0\n",
              "FC3_P200      0\n",
              "FC4_P200      0\n",
              "C3_P200       0\n",
              "C4_P200       0\n",
              "CP3_P200      0\n",
              "CP4_P200      0\n",
              "Fz_B0         0\n",
              "FCz_B0        0\n",
              "Cz_B0         0\n",
              "FC3_B0        0\n",
              "FC4_B0        0\n",
              "C3_B0         0\n",
              "C4_B0         0\n",
              "CP3_B0        0\n",
              "CP4_B0        0\n",
              "Fz_B1         0\n",
              "FCz_B1        0\n",
              "Cz_B1         0\n",
              "FC3_B1        0\n",
              "FC4_B1        0\n",
              "C3_B1         0\n",
              "C4_B1         0\n",
              "CP3_B1        0\n",
              "CP4_B1        0\n",
              "group         0\n",
              "dtype: int64"
            ]
          },
          "metadata": {},
          "execution_count": 77
        }
      ],
      "source": [
        "data.isna().sum()"
      ]
    },
    {
      "cell_type": "markdown",
      "metadata": {
        "id": "nx7DLTgtf568"
      },
      "source": [
        "## great now we don't have any missing data in our dataset!"
      ]
    },
    {
      "cell_type": "markdown",
      "metadata": {
        "id": "y-N-CP1V6lUu"
      },
      "source": [
        "# Split data into train and valid set!"
      ]
    },
    {
      "cell_type": "code",
      "execution_count": null,
      "metadata": {
        "id": "S02UXLTHf2QQ"
      },
      "outputs": [],
      "source": [
        "y=data.group\n",
        "X=data.drop([\"group\"],axis=1)\n"
      ]
    },
    {
      "cell_type": "code",
      "execution_count": null,
      "metadata": {
        "colab": {
          "base_uri": "https://localhost:8080/"
        },
        "id": "YVSZBhISiK1_",
        "outputId": "5283b5bd-7ce2-444e-8904-02a919d32d3e"
      },
      "outputs": [
        {
          "output_type": "stream",
          "name": "stdout",
          "text": [
            "<class 'pandas.core.series.Series'>\n",
            "Int64Index: 23201 entries, 0 to 23985\n",
            "Series name: group\n",
            "Non-Null Count  Dtype\n",
            "--------------  -----\n",
            "23201 non-null  int64\n",
            "dtypes: int64(1)\n",
            "memory usage: 362.5 KB\n",
            "<class 'pandas.core.frame.DataFrame'>\n",
            "Int64Index: 23201 entries, 0 to 23985\n",
            "Data columns (total 42 columns):\n",
            " #   Column      Non-Null Count  Dtype  \n",
            "---  ------      --------------  -----  \n",
            " 0   Unnamed: 0  23201 non-null  int64  \n",
            " 1   subject     23201 non-null  int64  \n",
            " 2   trial       23201 non-null  int64  \n",
            " 3   condition   23201 non-null  int64  \n",
            " 4   ITI         23201 non-null  float64\n",
            " 5   rejected    23201 non-null  int64  \n",
            " 6   Fz_N100     23201 non-null  float64\n",
            " 7   FCz_N100    23201 non-null  float64\n",
            " 8   Cz_N100     23201 non-null  float64\n",
            " 9   FC3_N100    23201 non-null  float64\n",
            " 10  FC4_N100    23201 non-null  float64\n",
            " 11  C3_N100     23201 non-null  float64\n",
            " 12  C4_N100     23201 non-null  float64\n",
            " 13  CP3_N100    23201 non-null  float64\n",
            " 14  CP4_N100    23201 non-null  float64\n",
            " 15  Fz_P200     23201 non-null  float64\n",
            " 16  FCz_P200    23201 non-null  float64\n",
            " 17  Cz_P200     23201 non-null  float64\n",
            " 18  FC3_P200    23201 non-null  float64\n",
            " 19  FC4_P200    23201 non-null  float64\n",
            " 20  C3_P200     23201 non-null  float64\n",
            " 21  C4_P200     23201 non-null  float64\n",
            " 22  CP3_P200    23201 non-null  float64\n",
            " 23  CP4_P200    23201 non-null  float64\n",
            " 24  Fz_B0       23201 non-null  float64\n",
            " 25  FCz_B0      23201 non-null  float64\n",
            " 26  Cz_B0       23201 non-null  float64\n",
            " 27  FC3_B0      23201 non-null  float64\n",
            " 28  FC4_B0      23201 non-null  float64\n",
            " 29  C3_B0       23201 non-null  float64\n",
            " 30  C4_B0       23201 non-null  float64\n",
            " 31  CP3_B0      23201 non-null  float64\n",
            " 32  CP4_B0      23201 non-null  float64\n",
            " 33  Fz_B1       23201 non-null  float64\n",
            " 34  FCz_B1      23201 non-null  float64\n",
            " 35  Cz_B1       23201 non-null  float64\n",
            " 36  FC3_B1      23201 non-null  float64\n",
            " 37  FC4_B1      23201 non-null  float64\n",
            " 38  C3_B1       23201 non-null  float64\n",
            " 39  C4_B1       23201 non-null  float64\n",
            " 40  CP3_B1      23201 non-null  float64\n",
            " 41  CP4_B1      23201 non-null  float64\n",
            "dtypes: float64(37), int64(5)\n",
            "memory usage: 7.6 MB\n"
          ]
        }
      ],
      "source": [
        "y.info()\n",
        "X.info()"
      ]
    },
    {
      "cell_type": "code",
      "execution_count": null,
      "metadata": {
        "id": "4_cirpfx7HMF"
      },
      "outputs": [],
      "source": [
        "import numpy as np\n",
        "from sklearn.model_selection import train_test_split\n",
        "X_train, X_test, y_train, y_test = train_test_split(X, y, test_size=0.3, random_state=42)"
      ]
    },
    {
      "cell_type": "code",
      "execution_count": null,
      "metadata": {
        "colab": {
          "base_uri": "https://localhost:8080/"
        },
        "id": "wYU9TUNE8m8d",
        "outputId": "ceeca163-cc0a-46cf-b9c3-b6ba601fdc7b"
      },
      "outputs": [
        {
          "output_type": "execute_result",
          "data": {
            "text/plain": [
              "(16240, 6961, 16240, 6961)"
            ]
          },
          "metadata": {},
          "execution_count": 81
        }
      ],
      "source": [
        "len(X_train),len(X_test),len(y_train),len(y_test)"
      ]
    },
    {
      "cell_type": "code",
      "execution_count": null,
      "metadata": {
        "colab": {
          "base_uri": "https://localhost:8080/",
          "height": 317
        },
        "id": "WEZaHepm81RX",
        "outputId": "b3becd65-9fde-4899-a824-c018e26ffed0"
      },
      "outputs": [
        {
          "output_type": "execute_result",
          "data": {
            "text/plain": [
              "       Unnamed: 0  subject  trial  condition        ITI  rejected    Fz_N100  \\\n",
              "8459         8459       29     23          2  1295.8984         0  -8.105519   \n",
              "7934         7934       27     93          2  1321.2891         0 -35.956743   \n",
              "6202         6202       21     50          3  1668.9453         0 -11.343857   \n",
              "18739       18739       64     12          2  1391.6016         0 -12.555733   \n",
              "21470       21470       73     65          2  1336.9141         0  -6.889076   \n",
              "\n",
              "        FCz_N100    Cz_N100   FC3_N100  ...    CP4_B0     Fz_B1    FCz_B1  \\\n",
              "8459   -7.411657  -3.121529  -3.768148  ...  0.017128  1.971358  3.939828   \n",
              "7934  -39.063933 -28.659090 -29.357148  ...  0.021960 -7.225226 -7.835348   \n",
              "6202   -9.501405  -6.365481 -11.475033  ... -0.013829 -0.841321  1.709410   \n",
              "18739 -17.907200 -20.172619 -15.837848  ... -0.068799  1.056950  5.323442   \n",
              "21470   0.791362  -8.658467  -5.879757  ... -0.111015  5.042953  4.547161   \n",
              "\n",
              "           Cz_B1     FC3_B1    FC4_B1     C3_B1      C4_B1     CP3_B1  \\\n",
              "8459    4.594071   3.066619  4.048323  3.468494  -2.301224  -1.099881   \n",
              "7934   -4.076767  11.535545 -8.380616 -4.658989 -14.434220   0.820042   \n",
              "6202    1.770767   3.971057  2.998950  3.013514   0.352533   4.479288   \n",
              "18739  12.379778   4.912032 -3.710163  8.361182   3.783084   8.014294   \n",
              "21470   5.938968   4.175970  5.614727  7.401748  10.059921  10.811387   \n",
              "\n",
              "          CP4_B1  \n",
              "8459    2.418776  \n",
              "7934   -7.310679  \n",
              "6202    6.492026  \n",
              "18739   3.426339  \n",
              "21470  12.921357  \n",
              "\n",
              "[5 rows x 42 columns]"
            ],
            "text/html": [
              "\n",
              "  <div id=\"df-91fb7151-3ea3-45b7-bb66-d1328bf65680\">\n",
              "    <div class=\"colab-df-container\">\n",
              "      <div>\n",
              "<style scoped>\n",
              "    .dataframe tbody tr th:only-of-type {\n",
              "        vertical-align: middle;\n",
              "    }\n",
              "\n",
              "    .dataframe tbody tr th {\n",
              "        vertical-align: top;\n",
              "    }\n",
              "\n",
              "    .dataframe thead th {\n",
              "        text-align: right;\n",
              "    }\n",
              "</style>\n",
              "<table border=\"1\" class=\"dataframe\">\n",
              "  <thead>\n",
              "    <tr style=\"text-align: right;\">\n",
              "      <th></th>\n",
              "      <th>Unnamed: 0</th>\n",
              "      <th>subject</th>\n",
              "      <th>trial</th>\n",
              "      <th>condition</th>\n",
              "      <th>ITI</th>\n",
              "      <th>rejected</th>\n",
              "      <th>Fz_N100</th>\n",
              "      <th>FCz_N100</th>\n",
              "      <th>Cz_N100</th>\n",
              "      <th>FC3_N100</th>\n",
              "      <th>...</th>\n",
              "      <th>CP4_B0</th>\n",
              "      <th>Fz_B1</th>\n",
              "      <th>FCz_B1</th>\n",
              "      <th>Cz_B1</th>\n",
              "      <th>FC3_B1</th>\n",
              "      <th>FC4_B1</th>\n",
              "      <th>C3_B1</th>\n",
              "      <th>C4_B1</th>\n",
              "      <th>CP3_B1</th>\n",
              "      <th>CP4_B1</th>\n",
              "    </tr>\n",
              "  </thead>\n",
              "  <tbody>\n",
              "    <tr>\n",
              "      <th>8459</th>\n",
              "      <td>8459</td>\n",
              "      <td>29</td>\n",
              "      <td>23</td>\n",
              "      <td>2</td>\n",
              "      <td>1295.8984</td>\n",
              "      <td>0</td>\n",
              "      <td>-8.105519</td>\n",
              "      <td>-7.411657</td>\n",
              "      <td>-3.121529</td>\n",
              "      <td>-3.768148</td>\n",
              "      <td>...</td>\n",
              "      <td>0.017128</td>\n",
              "      <td>1.971358</td>\n",
              "      <td>3.939828</td>\n",
              "      <td>4.594071</td>\n",
              "      <td>3.066619</td>\n",
              "      <td>4.048323</td>\n",
              "      <td>3.468494</td>\n",
              "      <td>-2.301224</td>\n",
              "      <td>-1.099881</td>\n",
              "      <td>2.418776</td>\n",
              "    </tr>\n",
              "    <tr>\n",
              "      <th>7934</th>\n",
              "      <td>7934</td>\n",
              "      <td>27</td>\n",
              "      <td>93</td>\n",
              "      <td>2</td>\n",
              "      <td>1321.2891</td>\n",
              "      <td>0</td>\n",
              "      <td>-35.956743</td>\n",
              "      <td>-39.063933</td>\n",
              "      <td>-28.659090</td>\n",
              "      <td>-29.357148</td>\n",
              "      <td>...</td>\n",
              "      <td>0.021960</td>\n",
              "      <td>-7.225226</td>\n",
              "      <td>-7.835348</td>\n",
              "      <td>-4.076767</td>\n",
              "      <td>11.535545</td>\n",
              "      <td>-8.380616</td>\n",
              "      <td>-4.658989</td>\n",
              "      <td>-14.434220</td>\n",
              "      <td>0.820042</td>\n",
              "      <td>-7.310679</td>\n",
              "    </tr>\n",
              "    <tr>\n",
              "      <th>6202</th>\n",
              "      <td>6202</td>\n",
              "      <td>21</td>\n",
              "      <td>50</td>\n",
              "      <td>3</td>\n",
              "      <td>1668.9453</td>\n",
              "      <td>0</td>\n",
              "      <td>-11.343857</td>\n",
              "      <td>-9.501405</td>\n",
              "      <td>-6.365481</td>\n",
              "      <td>-11.475033</td>\n",
              "      <td>...</td>\n",
              "      <td>-0.013829</td>\n",
              "      <td>-0.841321</td>\n",
              "      <td>1.709410</td>\n",
              "      <td>1.770767</td>\n",
              "      <td>3.971057</td>\n",
              "      <td>2.998950</td>\n",
              "      <td>3.013514</td>\n",
              "      <td>0.352533</td>\n",
              "      <td>4.479288</td>\n",
              "      <td>6.492026</td>\n",
              "    </tr>\n",
              "    <tr>\n",
              "      <th>18739</th>\n",
              "      <td>18739</td>\n",
              "      <td>64</td>\n",
              "      <td>12</td>\n",
              "      <td>2</td>\n",
              "      <td>1391.6016</td>\n",
              "      <td>0</td>\n",
              "      <td>-12.555733</td>\n",
              "      <td>-17.907200</td>\n",
              "      <td>-20.172619</td>\n",
              "      <td>-15.837848</td>\n",
              "      <td>...</td>\n",
              "      <td>-0.068799</td>\n",
              "      <td>1.056950</td>\n",
              "      <td>5.323442</td>\n",
              "      <td>12.379778</td>\n",
              "      <td>4.912032</td>\n",
              "      <td>-3.710163</td>\n",
              "      <td>8.361182</td>\n",
              "      <td>3.783084</td>\n",
              "      <td>8.014294</td>\n",
              "      <td>3.426339</td>\n",
              "    </tr>\n",
              "    <tr>\n",
              "      <th>21470</th>\n",
              "      <td>21470</td>\n",
              "      <td>73</td>\n",
              "      <td>65</td>\n",
              "      <td>2</td>\n",
              "      <td>1336.9141</td>\n",
              "      <td>0</td>\n",
              "      <td>-6.889076</td>\n",
              "      <td>0.791362</td>\n",
              "      <td>-8.658467</td>\n",
              "      <td>-5.879757</td>\n",
              "      <td>...</td>\n",
              "      <td>-0.111015</td>\n",
              "      <td>5.042953</td>\n",
              "      <td>4.547161</td>\n",
              "      <td>5.938968</td>\n",
              "      <td>4.175970</td>\n",
              "      <td>5.614727</td>\n",
              "      <td>7.401748</td>\n",
              "      <td>10.059921</td>\n",
              "      <td>10.811387</td>\n",
              "      <td>12.921357</td>\n",
              "    </tr>\n",
              "  </tbody>\n",
              "</table>\n",
              "<p>5 rows × 42 columns</p>\n",
              "</div>\n",
              "      <button class=\"colab-df-convert\" onclick=\"convertToInteractive('df-91fb7151-3ea3-45b7-bb66-d1328bf65680')\"\n",
              "              title=\"Convert this dataframe to an interactive table.\"\n",
              "              style=\"display:none;\">\n",
              "        \n",
              "  <svg xmlns=\"http://www.w3.org/2000/svg\" height=\"24px\"viewBox=\"0 0 24 24\"\n",
              "       width=\"24px\">\n",
              "    <path d=\"M0 0h24v24H0V0z\" fill=\"none\"/>\n",
              "    <path d=\"M18.56 5.44l.94 2.06.94-2.06 2.06-.94-2.06-.94-.94-2.06-.94 2.06-2.06.94zm-11 1L8.5 8.5l.94-2.06 2.06-.94-2.06-.94L8.5 2.5l-.94 2.06-2.06.94zm10 10l.94 2.06.94-2.06 2.06-.94-2.06-.94-.94-2.06-.94 2.06-2.06.94z\"/><path d=\"M17.41 7.96l-1.37-1.37c-.4-.4-.92-.59-1.43-.59-.52 0-1.04.2-1.43.59L10.3 9.45l-7.72 7.72c-.78.78-.78 2.05 0 2.83L4 21.41c.39.39.9.59 1.41.59.51 0 1.02-.2 1.41-.59l7.78-7.78 2.81-2.81c.8-.78.8-2.07 0-2.86zM5.41 20L4 18.59l7.72-7.72 1.47 1.35L5.41 20z\"/>\n",
              "  </svg>\n",
              "      </button>\n",
              "      \n",
              "  <style>\n",
              "    .colab-df-container {\n",
              "      display:flex;\n",
              "      flex-wrap:wrap;\n",
              "      gap: 12px;\n",
              "    }\n",
              "\n",
              "    .colab-df-convert {\n",
              "      background-color: #E8F0FE;\n",
              "      border: none;\n",
              "      border-radius: 50%;\n",
              "      cursor: pointer;\n",
              "      display: none;\n",
              "      fill: #1967D2;\n",
              "      height: 32px;\n",
              "      padding: 0 0 0 0;\n",
              "      width: 32px;\n",
              "    }\n",
              "\n",
              "    .colab-df-convert:hover {\n",
              "      background-color: #E2EBFA;\n",
              "      box-shadow: 0px 1px 2px rgba(60, 64, 67, 0.3), 0px 1px 3px 1px rgba(60, 64, 67, 0.15);\n",
              "      fill: #174EA6;\n",
              "    }\n",
              "\n",
              "    [theme=dark] .colab-df-convert {\n",
              "      background-color: #3B4455;\n",
              "      fill: #D2E3FC;\n",
              "    }\n",
              "\n",
              "    [theme=dark] .colab-df-convert:hover {\n",
              "      background-color: #434B5C;\n",
              "      box-shadow: 0px 1px 3px 1px rgba(0, 0, 0, 0.15);\n",
              "      filter: drop-shadow(0px 1px 2px rgba(0, 0, 0, 0.3));\n",
              "      fill: #FFFFFF;\n",
              "    }\n",
              "  </style>\n",
              "\n",
              "      <script>\n",
              "        const buttonEl =\n",
              "          document.querySelector('#df-91fb7151-3ea3-45b7-bb66-d1328bf65680 button.colab-df-convert');\n",
              "        buttonEl.style.display =\n",
              "          google.colab.kernel.accessAllowed ? 'block' : 'none';\n",
              "\n",
              "        async function convertToInteractive(key) {\n",
              "          const element = document.querySelector('#df-91fb7151-3ea3-45b7-bb66-d1328bf65680');\n",
              "          const dataTable =\n",
              "            await google.colab.kernel.invokeFunction('convertToInteractive',\n",
              "                                                     [key], {});\n",
              "          if (!dataTable) return;\n",
              "\n",
              "          const docLinkHtml = 'Like what you see? Visit the ' +\n",
              "            '<a target=\"_blank\" href=https://colab.research.google.com/notebooks/data_table.ipynb>data table notebook</a>'\n",
              "            + ' to learn more about interactive tables.';\n",
              "          element.innerHTML = '';\n",
              "          dataTable['output_type'] = 'display_data';\n",
              "          await google.colab.output.renderOutput(dataTable, element);\n",
              "          const docLink = document.createElement('div');\n",
              "          docLink.innerHTML = docLinkHtml;\n",
              "          element.appendChild(docLink);\n",
              "        }\n",
              "      </script>\n",
              "    </div>\n",
              "  </div>\n",
              "  "
            ]
          },
          "metadata": {},
          "execution_count": 82
        }
      ],
      "source": [
        "X_train.head()"
      ]
    },
    {
      "cell_type": "code",
      "execution_count": null,
      "metadata": {
        "id": "xfaWJEXC86ek"
      },
      "outputs": [],
      "source": [
        "X_train=X_train.drop([\"Unnamed: 0\"], axis=1)"
      ]
    },
    {
      "cell_type": "code",
      "execution_count": null,
      "metadata": {
        "id": "ow25Izza9XTV"
      },
      "outputs": [],
      "source": [
        "X_test=X_test.drop([\"Unnamed: 0\"], axis=1)"
      ]
    },
    {
      "cell_type": "code",
      "source": [
        "X_train.head()"
      ],
      "metadata": {
        "colab": {
          "base_uri": "https://localhost:8080/",
          "height": 299
        },
        "id": "S22DUSk4MG5r",
        "outputId": "0890ce66-9b5e-4cf4-d948-bc402f46ae22"
      },
      "execution_count": null,
      "outputs": [
        {
          "output_type": "execute_result",
          "data": {
            "text/plain": [
              "       subject  trial  condition        ITI  rejected    Fz_N100   FCz_N100  \\\n",
              "8459        29     23          2  1295.8984         0  -8.105519  -7.411657   \n",
              "7934        27     93          2  1321.2891         0 -35.956743 -39.063933   \n",
              "6202        21     50          3  1668.9453         0 -11.343857  -9.501405   \n",
              "18739       64     12          2  1391.6016         0 -12.555733 -17.907200   \n",
              "21470       73     65          2  1336.9141         0  -6.889076   0.791362   \n",
              "\n",
              "         Cz_N100   FC3_N100   FC4_N100  ...    CP4_B0     Fz_B1    FCz_B1  \\\n",
              "8459   -3.121529  -3.768148  -5.936686  ...  0.017128  1.971358  3.939828   \n",
              "7934  -28.659090 -29.357148 -32.867933  ...  0.021960 -7.225226 -7.835348   \n",
              "6202   -6.365481 -11.475033  -6.810452  ... -0.013829 -0.841321  1.709410   \n",
              "18739 -20.172619 -15.837848 -11.454152  ... -0.068799  1.056950  5.323442   \n",
              "21470  -8.658467  -5.879757   0.280486  ... -0.111015  5.042953  4.547161   \n",
              "\n",
              "           Cz_B1     FC3_B1    FC4_B1     C3_B1      C4_B1     CP3_B1  \\\n",
              "8459    4.594071   3.066619  4.048323  3.468494  -2.301224  -1.099881   \n",
              "7934   -4.076767  11.535545 -8.380616 -4.658989 -14.434220   0.820042   \n",
              "6202    1.770767   3.971057  2.998950  3.013514   0.352533   4.479288   \n",
              "18739  12.379778   4.912032 -3.710163  8.361182   3.783084   8.014294   \n",
              "21470   5.938968   4.175970  5.614727  7.401748  10.059921  10.811387   \n",
              "\n",
              "          CP4_B1  \n",
              "8459    2.418776  \n",
              "7934   -7.310679  \n",
              "6202    6.492026  \n",
              "18739   3.426339  \n",
              "21470  12.921357  \n",
              "\n",
              "[5 rows x 41 columns]"
            ],
            "text/html": [
              "\n",
              "  <div id=\"df-878e03f8-452c-4a74-9d1e-08ba05452cf1\">\n",
              "    <div class=\"colab-df-container\">\n",
              "      <div>\n",
              "<style scoped>\n",
              "    .dataframe tbody tr th:only-of-type {\n",
              "        vertical-align: middle;\n",
              "    }\n",
              "\n",
              "    .dataframe tbody tr th {\n",
              "        vertical-align: top;\n",
              "    }\n",
              "\n",
              "    .dataframe thead th {\n",
              "        text-align: right;\n",
              "    }\n",
              "</style>\n",
              "<table border=\"1\" class=\"dataframe\">\n",
              "  <thead>\n",
              "    <tr style=\"text-align: right;\">\n",
              "      <th></th>\n",
              "      <th>subject</th>\n",
              "      <th>trial</th>\n",
              "      <th>condition</th>\n",
              "      <th>ITI</th>\n",
              "      <th>rejected</th>\n",
              "      <th>Fz_N100</th>\n",
              "      <th>FCz_N100</th>\n",
              "      <th>Cz_N100</th>\n",
              "      <th>FC3_N100</th>\n",
              "      <th>FC4_N100</th>\n",
              "      <th>...</th>\n",
              "      <th>CP4_B0</th>\n",
              "      <th>Fz_B1</th>\n",
              "      <th>FCz_B1</th>\n",
              "      <th>Cz_B1</th>\n",
              "      <th>FC3_B1</th>\n",
              "      <th>FC4_B1</th>\n",
              "      <th>C3_B1</th>\n",
              "      <th>C4_B1</th>\n",
              "      <th>CP3_B1</th>\n",
              "      <th>CP4_B1</th>\n",
              "    </tr>\n",
              "  </thead>\n",
              "  <tbody>\n",
              "    <tr>\n",
              "      <th>8459</th>\n",
              "      <td>29</td>\n",
              "      <td>23</td>\n",
              "      <td>2</td>\n",
              "      <td>1295.8984</td>\n",
              "      <td>0</td>\n",
              "      <td>-8.105519</td>\n",
              "      <td>-7.411657</td>\n",
              "      <td>-3.121529</td>\n",
              "      <td>-3.768148</td>\n",
              "      <td>-5.936686</td>\n",
              "      <td>...</td>\n",
              "      <td>0.017128</td>\n",
              "      <td>1.971358</td>\n",
              "      <td>3.939828</td>\n",
              "      <td>4.594071</td>\n",
              "      <td>3.066619</td>\n",
              "      <td>4.048323</td>\n",
              "      <td>3.468494</td>\n",
              "      <td>-2.301224</td>\n",
              "      <td>-1.099881</td>\n",
              "      <td>2.418776</td>\n",
              "    </tr>\n",
              "    <tr>\n",
              "      <th>7934</th>\n",
              "      <td>27</td>\n",
              "      <td>93</td>\n",
              "      <td>2</td>\n",
              "      <td>1321.2891</td>\n",
              "      <td>0</td>\n",
              "      <td>-35.956743</td>\n",
              "      <td>-39.063933</td>\n",
              "      <td>-28.659090</td>\n",
              "      <td>-29.357148</td>\n",
              "      <td>-32.867933</td>\n",
              "      <td>...</td>\n",
              "      <td>0.021960</td>\n",
              "      <td>-7.225226</td>\n",
              "      <td>-7.835348</td>\n",
              "      <td>-4.076767</td>\n",
              "      <td>11.535545</td>\n",
              "      <td>-8.380616</td>\n",
              "      <td>-4.658989</td>\n",
              "      <td>-14.434220</td>\n",
              "      <td>0.820042</td>\n",
              "      <td>-7.310679</td>\n",
              "    </tr>\n",
              "    <tr>\n",
              "      <th>6202</th>\n",
              "      <td>21</td>\n",
              "      <td>50</td>\n",
              "      <td>3</td>\n",
              "      <td>1668.9453</td>\n",
              "      <td>0</td>\n",
              "      <td>-11.343857</td>\n",
              "      <td>-9.501405</td>\n",
              "      <td>-6.365481</td>\n",
              "      <td>-11.475033</td>\n",
              "      <td>-6.810452</td>\n",
              "      <td>...</td>\n",
              "      <td>-0.013829</td>\n",
              "      <td>-0.841321</td>\n",
              "      <td>1.709410</td>\n",
              "      <td>1.770767</td>\n",
              "      <td>3.971057</td>\n",
              "      <td>2.998950</td>\n",
              "      <td>3.013514</td>\n",
              "      <td>0.352533</td>\n",
              "      <td>4.479288</td>\n",
              "      <td>6.492026</td>\n",
              "    </tr>\n",
              "    <tr>\n",
              "      <th>18739</th>\n",
              "      <td>64</td>\n",
              "      <td>12</td>\n",
              "      <td>2</td>\n",
              "      <td>1391.6016</td>\n",
              "      <td>0</td>\n",
              "      <td>-12.555733</td>\n",
              "      <td>-17.907200</td>\n",
              "      <td>-20.172619</td>\n",
              "      <td>-15.837848</td>\n",
              "      <td>-11.454152</td>\n",
              "      <td>...</td>\n",
              "      <td>-0.068799</td>\n",
              "      <td>1.056950</td>\n",
              "      <td>5.323442</td>\n",
              "      <td>12.379778</td>\n",
              "      <td>4.912032</td>\n",
              "      <td>-3.710163</td>\n",
              "      <td>8.361182</td>\n",
              "      <td>3.783084</td>\n",
              "      <td>8.014294</td>\n",
              "      <td>3.426339</td>\n",
              "    </tr>\n",
              "    <tr>\n",
              "      <th>21470</th>\n",
              "      <td>73</td>\n",
              "      <td>65</td>\n",
              "      <td>2</td>\n",
              "      <td>1336.9141</td>\n",
              "      <td>0</td>\n",
              "      <td>-6.889076</td>\n",
              "      <td>0.791362</td>\n",
              "      <td>-8.658467</td>\n",
              "      <td>-5.879757</td>\n",
              "      <td>0.280486</td>\n",
              "      <td>...</td>\n",
              "      <td>-0.111015</td>\n",
              "      <td>5.042953</td>\n",
              "      <td>4.547161</td>\n",
              "      <td>5.938968</td>\n",
              "      <td>4.175970</td>\n",
              "      <td>5.614727</td>\n",
              "      <td>7.401748</td>\n",
              "      <td>10.059921</td>\n",
              "      <td>10.811387</td>\n",
              "      <td>12.921357</td>\n",
              "    </tr>\n",
              "  </tbody>\n",
              "</table>\n",
              "<p>5 rows × 41 columns</p>\n",
              "</div>\n",
              "      <button class=\"colab-df-convert\" onclick=\"convertToInteractive('df-878e03f8-452c-4a74-9d1e-08ba05452cf1')\"\n",
              "              title=\"Convert this dataframe to an interactive table.\"\n",
              "              style=\"display:none;\">\n",
              "        \n",
              "  <svg xmlns=\"http://www.w3.org/2000/svg\" height=\"24px\"viewBox=\"0 0 24 24\"\n",
              "       width=\"24px\">\n",
              "    <path d=\"M0 0h24v24H0V0z\" fill=\"none\"/>\n",
              "    <path d=\"M18.56 5.44l.94 2.06.94-2.06 2.06-.94-2.06-.94-.94-2.06-.94 2.06-2.06.94zm-11 1L8.5 8.5l.94-2.06 2.06-.94-2.06-.94L8.5 2.5l-.94 2.06-2.06.94zm10 10l.94 2.06.94-2.06 2.06-.94-2.06-.94-.94-2.06-.94 2.06-2.06.94z\"/><path d=\"M17.41 7.96l-1.37-1.37c-.4-.4-.92-.59-1.43-.59-.52 0-1.04.2-1.43.59L10.3 9.45l-7.72 7.72c-.78.78-.78 2.05 0 2.83L4 21.41c.39.39.9.59 1.41.59.51 0 1.02-.2 1.41-.59l7.78-7.78 2.81-2.81c.8-.78.8-2.07 0-2.86zM5.41 20L4 18.59l7.72-7.72 1.47 1.35L5.41 20z\"/>\n",
              "  </svg>\n",
              "      </button>\n",
              "      \n",
              "  <style>\n",
              "    .colab-df-container {\n",
              "      display:flex;\n",
              "      flex-wrap:wrap;\n",
              "      gap: 12px;\n",
              "    }\n",
              "\n",
              "    .colab-df-convert {\n",
              "      background-color: #E8F0FE;\n",
              "      border: none;\n",
              "      border-radius: 50%;\n",
              "      cursor: pointer;\n",
              "      display: none;\n",
              "      fill: #1967D2;\n",
              "      height: 32px;\n",
              "      padding: 0 0 0 0;\n",
              "      width: 32px;\n",
              "    }\n",
              "\n",
              "    .colab-df-convert:hover {\n",
              "      background-color: #E2EBFA;\n",
              "      box-shadow: 0px 1px 2px rgba(60, 64, 67, 0.3), 0px 1px 3px 1px rgba(60, 64, 67, 0.15);\n",
              "      fill: #174EA6;\n",
              "    }\n",
              "\n",
              "    [theme=dark] .colab-df-convert {\n",
              "      background-color: #3B4455;\n",
              "      fill: #D2E3FC;\n",
              "    }\n",
              "\n",
              "    [theme=dark] .colab-df-convert:hover {\n",
              "      background-color: #434B5C;\n",
              "      box-shadow: 0px 1px 3px 1px rgba(0, 0, 0, 0.15);\n",
              "      filter: drop-shadow(0px 1px 2px rgba(0, 0, 0, 0.3));\n",
              "      fill: #FFFFFF;\n",
              "    }\n",
              "  </style>\n",
              "\n",
              "      <script>\n",
              "        const buttonEl =\n",
              "          document.querySelector('#df-878e03f8-452c-4a74-9d1e-08ba05452cf1 button.colab-df-convert');\n",
              "        buttonEl.style.display =\n",
              "          google.colab.kernel.accessAllowed ? 'block' : 'none';\n",
              "\n",
              "        async function convertToInteractive(key) {\n",
              "          const element = document.querySelector('#df-878e03f8-452c-4a74-9d1e-08ba05452cf1');\n",
              "          const dataTable =\n",
              "            await google.colab.kernel.invokeFunction('convertToInteractive',\n",
              "                                                     [key], {});\n",
              "          if (!dataTable) return;\n",
              "\n",
              "          const docLinkHtml = 'Like what you see? Visit the ' +\n",
              "            '<a target=\"_blank\" href=https://colab.research.google.com/notebooks/data_table.ipynb>data table notebook</a>'\n",
              "            + ' to learn more about interactive tables.';\n",
              "          element.innerHTML = '';\n",
              "          dataTable['output_type'] = 'display_data';\n",
              "          await google.colab.output.renderOutput(dataTable, element);\n",
              "          const docLink = document.createElement('div');\n",
              "          docLink.innerHTML = docLinkHtml;\n",
              "          element.appendChild(docLink);\n",
              "        }\n",
              "      </script>\n",
              "    </div>\n",
              "  </div>\n",
              "  "
            ]
          },
          "metadata": {},
          "execution_count": 85
        }
      ]
    },
    {
      "cell_type": "code",
      "source": [
        "X.info()"
      ],
      "metadata": {
        "colab": {
          "base_uri": "https://localhost:8080/"
        },
        "id": "l5a12-5lMLy0",
        "outputId": "9c4a608f-d358-41a6-c1dc-5d3404338a9b"
      },
      "execution_count": null,
      "outputs": [
        {
          "output_type": "stream",
          "name": "stdout",
          "text": [
            "<class 'pandas.core.frame.DataFrame'>\n",
            "Int64Index: 23201 entries, 0 to 23985\n",
            "Data columns (total 42 columns):\n",
            " #   Column      Non-Null Count  Dtype  \n",
            "---  ------      --------------  -----  \n",
            " 0   Unnamed: 0  23201 non-null  int64  \n",
            " 1   subject     23201 non-null  int64  \n",
            " 2   trial       23201 non-null  int64  \n",
            " 3   condition   23201 non-null  int64  \n",
            " 4   ITI         23201 non-null  float64\n",
            " 5   rejected    23201 non-null  int64  \n",
            " 6   Fz_N100     23201 non-null  float64\n",
            " 7   FCz_N100    23201 non-null  float64\n",
            " 8   Cz_N100     23201 non-null  float64\n",
            " 9   FC3_N100    23201 non-null  float64\n",
            " 10  FC4_N100    23201 non-null  float64\n",
            " 11  C3_N100     23201 non-null  float64\n",
            " 12  C4_N100     23201 non-null  float64\n",
            " 13  CP3_N100    23201 non-null  float64\n",
            " 14  CP4_N100    23201 non-null  float64\n",
            " 15  Fz_P200     23201 non-null  float64\n",
            " 16  FCz_P200    23201 non-null  float64\n",
            " 17  Cz_P200     23201 non-null  float64\n",
            " 18  FC3_P200    23201 non-null  float64\n",
            " 19  FC4_P200    23201 non-null  float64\n",
            " 20  C3_P200     23201 non-null  float64\n",
            " 21  C4_P200     23201 non-null  float64\n",
            " 22  CP3_P200    23201 non-null  float64\n",
            " 23  CP4_P200    23201 non-null  float64\n",
            " 24  Fz_B0       23201 non-null  float64\n",
            " 25  FCz_B0      23201 non-null  float64\n",
            " 26  Cz_B0       23201 non-null  float64\n",
            " 27  FC3_B0      23201 non-null  float64\n",
            " 28  FC4_B0      23201 non-null  float64\n",
            " 29  C3_B0       23201 non-null  float64\n",
            " 30  C4_B0       23201 non-null  float64\n",
            " 31  CP3_B0      23201 non-null  float64\n",
            " 32  CP4_B0      23201 non-null  float64\n",
            " 33  Fz_B1       23201 non-null  float64\n",
            " 34  FCz_B1      23201 non-null  float64\n",
            " 35  Cz_B1       23201 non-null  float64\n",
            " 36  FC3_B1      23201 non-null  float64\n",
            " 37  FC4_B1      23201 non-null  float64\n",
            " 38  C3_B1       23201 non-null  float64\n",
            " 39  C4_B1       23201 non-null  float64\n",
            " 40  CP3_B1      23201 non-null  float64\n",
            " 41  CP4_B1      23201 non-null  float64\n",
            "dtypes: float64(37), int64(5)\n",
            "memory usage: 7.6 MB\n"
          ]
        }
      ]
    },
    {
      "cell_type": "code",
      "source": [
        "from sklearn.preprocessing import StandardScaler\n",
        "\n",
        "colsToScale = [\"ITI\", \"Fz_N100\", \"FCz_N100\", \"Cz_N100\", \"FC3_N100\",\n",
        "                  \"FC4_N100\", \"C3_N100\", \"C4_N100\", \"CP3_N100\", \"CP4_N100\",\n",
        "                  \"Fz_P200\", \"FCz_P200\", \"Cz_P200\", \"FC3_P200\", \"FC4_P200\",\n",
        "                  \"C3_P200\", \"C4_P200\", \"CP3_P200\", \"CP4_P200\", \"Fz_B0\",\n",
        "                  \"FCz_B0\", \"Cz_B0\", \"FC3_B0\", \"FC4_B0\", \"C3_B0\", \"C4_B0\",\n",
        "                  \"CP3_B0\", \"CP4_B0\", \"Fz_B1\", \"FCz_B1\", \"Cz_B1\", \"FC3_B1\",\n",
        "                  \"FC4_B1\", \"C3_B1\", \"C4_B1\", \"CP3_B1\", \"CP4_B1\"]\n",
        "\n",
        "stdScaler = StandardScaler()\n",
        "stdScaler.fit(X_train[colsToScale])\n",
        "X_train[colsToScale] = stdScaler.transform(X_train[colsToScale])\n",
        "\n",
        "X_train.head(10)"
      ],
      "metadata": {
        "colab": {
          "base_uri": "https://localhost:8080/",
          "height": 456
        },
        "id": "3bJMTkpVMoHZ",
        "outputId": "2360a1ec-8552-4375-ec5f-986ec9224cfb"
      },
      "execution_count": null,
      "outputs": [
        {
          "output_type": "execute_result",
          "data": {
            "text/plain": [
              "       subject  trial  condition       ITI  rejected   Fz_N100  FCz_N100  \\\n",
              "8459        29     23          2 -0.277111         0 -0.488545 -0.421696   \n",
              "7934        27     93          2 -0.269304         0 -2.933538 -3.207828   \n",
              "6202        21     50          3 -0.162400         0 -0.772831 -0.605642   \n",
              "18739       64     12          2 -0.247683         0 -0.879219 -1.345546   \n",
              "21470       73     65          2 -0.264499         0 -0.381756  0.300359   \n",
              "16148       55      4          3 -0.125765         0  1.086978  1.018030   \n",
              "22049       75     49          2  0.282031         0 -1.246370 -1.290720   \n",
              "19645       67     24          2  0.009667         0  0.908632 -0.067415   \n",
              "14754       50     17          3 -0.390321         0  1.045655  1.396316   \n",
              "13367       46     20          1  0.363710         0  1.338654  0.989546   \n",
              "\n",
              "        Cz_N100  FC3_N100  FC4_N100  ...    CP4_B0     Fz_B1    FCz_B1  \\\n",
              "8459  -0.092704 -0.171713 -0.361067  ...  0.178708  0.118095  0.269598   \n",
              "7934  -2.367576 -2.688525 -2.980474  ...  0.233828 -0.578422 -0.719645   \n",
              "6202  -0.381674 -0.929726 -0.446051  ... -0.174425 -0.094928  0.082219   \n",
              "18739 -1.611606 -1.358831 -0.897711  ... -0.801472  0.048841  0.385837   \n",
              "21470 -0.585932 -0.379401  0.243633  ... -1.283029  0.350726  0.320621   \n",
              "16148  0.942032  0.888152  0.734565  ...  1.380961  1.466013  1.425578   \n",
              "22049 -1.136538 -1.622584 -1.071521  ... -1.476507  0.120274 -0.139077   \n",
              "19645 -0.316545  1.597689 -0.840211  ...  0.085170 -0.119297 -1.057476   \n",
              "14754  1.067744  0.377658  0.711208  ...  2.189116 -0.667829  0.170270   \n",
              "13367  0.733602  0.128090  1.231218  ... -0.074984  0.106915  0.511933   \n",
              "\n",
              "          Cz_B1    FC3_B1    FC4_B1     C3_B1     C4_B1    CP3_B1    CP4_B1  \n",
              "8459   0.331276  0.193413  0.308362  0.244751 -0.251828 -0.170357  0.178140  \n",
              "7934  -0.427710  0.921387 -0.743673 -0.513731 -1.377863  0.009450 -0.685360  \n",
              "6202   0.084144  0.271157  0.219539  0.202290 -0.005540  0.352152  0.539645  \n",
              "18739  1.012784  0.352042 -0.348347  0.701351  0.312842  0.683218  0.267562  \n",
              "21470  0.448999  0.288771  0.440948  0.611814  0.895380  0.945176  1.110255  \n",
              "16148  1.519690  1.440077  1.659156  2.004967  1.786348  2.328677  1.822593  \n",
              "22049 -0.535024 -0.492899 -1.062460 -1.071468 -0.328832 -1.288977 -0.876755  \n",
              "19645 -0.981342 -0.544141 -0.656396 -0.505441 -0.811771 -0.706353 -1.193440  \n",
              "14754  0.376789 -0.744788 -0.148779 -0.280434  0.505240 -0.023293  1.343774  \n",
              "13367 -0.503568  0.342500 -0.464455 -0.169852 -0.901380 -0.263781 -0.223920  \n",
              "\n",
              "[10 rows x 41 columns]"
            ],
            "text/html": [
              "\n",
              "  <div id=\"df-22f54384-f483-48c0-afa6-a4d91479c1d5\">\n",
              "    <div class=\"colab-df-container\">\n",
              "      <div>\n",
              "<style scoped>\n",
              "    .dataframe tbody tr th:only-of-type {\n",
              "        vertical-align: middle;\n",
              "    }\n",
              "\n",
              "    .dataframe tbody tr th {\n",
              "        vertical-align: top;\n",
              "    }\n",
              "\n",
              "    .dataframe thead th {\n",
              "        text-align: right;\n",
              "    }\n",
              "</style>\n",
              "<table border=\"1\" class=\"dataframe\">\n",
              "  <thead>\n",
              "    <tr style=\"text-align: right;\">\n",
              "      <th></th>\n",
              "      <th>subject</th>\n",
              "      <th>trial</th>\n",
              "      <th>condition</th>\n",
              "      <th>ITI</th>\n",
              "      <th>rejected</th>\n",
              "      <th>Fz_N100</th>\n",
              "      <th>FCz_N100</th>\n",
              "      <th>Cz_N100</th>\n",
              "      <th>FC3_N100</th>\n",
              "      <th>FC4_N100</th>\n",
              "      <th>...</th>\n",
              "      <th>CP4_B0</th>\n",
              "      <th>Fz_B1</th>\n",
              "      <th>FCz_B1</th>\n",
              "      <th>Cz_B1</th>\n",
              "      <th>FC3_B1</th>\n",
              "      <th>FC4_B1</th>\n",
              "      <th>C3_B1</th>\n",
              "      <th>C4_B1</th>\n",
              "      <th>CP3_B1</th>\n",
              "      <th>CP4_B1</th>\n",
              "    </tr>\n",
              "  </thead>\n",
              "  <tbody>\n",
              "    <tr>\n",
              "      <th>8459</th>\n",
              "      <td>29</td>\n",
              "      <td>23</td>\n",
              "      <td>2</td>\n",
              "      <td>-0.277111</td>\n",
              "      <td>0</td>\n",
              "      <td>-0.488545</td>\n",
              "      <td>-0.421696</td>\n",
              "      <td>-0.092704</td>\n",
              "      <td>-0.171713</td>\n",
              "      <td>-0.361067</td>\n",
              "      <td>...</td>\n",
              "      <td>0.178708</td>\n",
              "      <td>0.118095</td>\n",
              "      <td>0.269598</td>\n",
              "      <td>0.331276</td>\n",
              "      <td>0.193413</td>\n",
              "      <td>0.308362</td>\n",
              "      <td>0.244751</td>\n",
              "      <td>-0.251828</td>\n",
              "      <td>-0.170357</td>\n",
              "      <td>0.178140</td>\n",
              "    </tr>\n",
              "    <tr>\n",
              "      <th>7934</th>\n",
              "      <td>27</td>\n",
              "      <td>93</td>\n",
              "      <td>2</td>\n",
              "      <td>-0.269304</td>\n",
              "      <td>0</td>\n",
              "      <td>-2.933538</td>\n",
              "      <td>-3.207828</td>\n",
              "      <td>-2.367576</td>\n",
              "      <td>-2.688525</td>\n",
              "      <td>-2.980474</td>\n",
              "      <td>...</td>\n",
              "      <td>0.233828</td>\n",
              "      <td>-0.578422</td>\n",
              "      <td>-0.719645</td>\n",
              "      <td>-0.427710</td>\n",
              "      <td>0.921387</td>\n",
              "      <td>-0.743673</td>\n",
              "      <td>-0.513731</td>\n",
              "      <td>-1.377863</td>\n",
              "      <td>0.009450</td>\n",
              "      <td>-0.685360</td>\n",
              "    </tr>\n",
              "    <tr>\n",
              "      <th>6202</th>\n",
              "      <td>21</td>\n",
              "      <td>50</td>\n",
              "      <td>3</td>\n",
              "      <td>-0.162400</td>\n",
              "      <td>0</td>\n",
              "      <td>-0.772831</td>\n",
              "      <td>-0.605642</td>\n",
              "      <td>-0.381674</td>\n",
              "      <td>-0.929726</td>\n",
              "      <td>-0.446051</td>\n",
              "      <td>...</td>\n",
              "      <td>-0.174425</td>\n",
              "      <td>-0.094928</td>\n",
              "      <td>0.082219</td>\n",
              "      <td>0.084144</td>\n",
              "      <td>0.271157</td>\n",
              "      <td>0.219539</td>\n",
              "      <td>0.202290</td>\n",
              "      <td>-0.005540</td>\n",
              "      <td>0.352152</td>\n",
              "      <td>0.539645</td>\n",
              "    </tr>\n",
              "    <tr>\n",
              "      <th>18739</th>\n",
              "      <td>64</td>\n",
              "      <td>12</td>\n",
              "      <td>2</td>\n",
              "      <td>-0.247683</td>\n",
              "      <td>0</td>\n",
              "      <td>-0.879219</td>\n",
              "      <td>-1.345546</td>\n",
              "      <td>-1.611606</td>\n",
              "      <td>-1.358831</td>\n",
              "      <td>-0.897711</td>\n",
              "      <td>...</td>\n",
              "      <td>-0.801472</td>\n",
              "      <td>0.048841</td>\n",
              "      <td>0.385837</td>\n",
              "      <td>1.012784</td>\n",
              "      <td>0.352042</td>\n",
              "      <td>-0.348347</td>\n",
              "      <td>0.701351</td>\n",
              "      <td>0.312842</td>\n",
              "      <td>0.683218</td>\n",
              "      <td>0.267562</td>\n",
              "    </tr>\n",
              "    <tr>\n",
              "      <th>21470</th>\n",
              "      <td>73</td>\n",
              "      <td>65</td>\n",
              "      <td>2</td>\n",
              "      <td>-0.264499</td>\n",
              "      <td>0</td>\n",
              "      <td>-0.381756</td>\n",
              "      <td>0.300359</td>\n",
              "      <td>-0.585932</td>\n",
              "      <td>-0.379401</td>\n",
              "      <td>0.243633</td>\n",
              "      <td>...</td>\n",
              "      <td>-1.283029</td>\n",
              "      <td>0.350726</td>\n",
              "      <td>0.320621</td>\n",
              "      <td>0.448999</td>\n",
              "      <td>0.288771</td>\n",
              "      <td>0.440948</td>\n",
              "      <td>0.611814</td>\n",
              "      <td>0.895380</td>\n",
              "      <td>0.945176</td>\n",
              "      <td>1.110255</td>\n",
              "    </tr>\n",
              "    <tr>\n",
              "      <th>16148</th>\n",
              "      <td>55</td>\n",
              "      <td>4</td>\n",
              "      <td>3</td>\n",
              "      <td>-0.125765</td>\n",
              "      <td>0</td>\n",
              "      <td>1.086978</td>\n",
              "      <td>1.018030</td>\n",
              "      <td>0.942032</td>\n",
              "      <td>0.888152</td>\n",
              "      <td>0.734565</td>\n",
              "      <td>...</td>\n",
              "      <td>1.380961</td>\n",
              "      <td>1.466013</td>\n",
              "      <td>1.425578</td>\n",
              "      <td>1.519690</td>\n",
              "      <td>1.440077</td>\n",
              "      <td>1.659156</td>\n",
              "      <td>2.004967</td>\n",
              "      <td>1.786348</td>\n",
              "      <td>2.328677</td>\n",
              "      <td>1.822593</td>\n",
              "    </tr>\n",
              "    <tr>\n",
              "      <th>22049</th>\n",
              "      <td>75</td>\n",
              "      <td>49</td>\n",
              "      <td>2</td>\n",
              "      <td>0.282031</td>\n",
              "      <td>0</td>\n",
              "      <td>-1.246370</td>\n",
              "      <td>-1.290720</td>\n",
              "      <td>-1.136538</td>\n",
              "      <td>-1.622584</td>\n",
              "      <td>-1.071521</td>\n",
              "      <td>...</td>\n",
              "      <td>-1.476507</td>\n",
              "      <td>0.120274</td>\n",
              "      <td>-0.139077</td>\n",
              "      <td>-0.535024</td>\n",
              "      <td>-0.492899</td>\n",
              "      <td>-1.062460</td>\n",
              "      <td>-1.071468</td>\n",
              "      <td>-0.328832</td>\n",
              "      <td>-1.288977</td>\n",
              "      <td>-0.876755</td>\n",
              "    </tr>\n",
              "    <tr>\n",
              "      <th>19645</th>\n",
              "      <td>67</td>\n",
              "      <td>24</td>\n",
              "      <td>2</td>\n",
              "      <td>0.009667</td>\n",
              "      <td>0</td>\n",
              "      <td>0.908632</td>\n",
              "      <td>-0.067415</td>\n",
              "      <td>-0.316545</td>\n",
              "      <td>1.597689</td>\n",
              "      <td>-0.840211</td>\n",
              "      <td>...</td>\n",
              "      <td>0.085170</td>\n",
              "      <td>-0.119297</td>\n",
              "      <td>-1.057476</td>\n",
              "      <td>-0.981342</td>\n",
              "      <td>-0.544141</td>\n",
              "      <td>-0.656396</td>\n",
              "      <td>-0.505441</td>\n",
              "      <td>-0.811771</td>\n",
              "      <td>-0.706353</td>\n",
              "      <td>-1.193440</td>\n",
              "    </tr>\n",
              "    <tr>\n",
              "      <th>14754</th>\n",
              "      <td>50</td>\n",
              "      <td>17</td>\n",
              "      <td>3</td>\n",
              "      <td>-0.390321</td>\n",
              "      <td>0</td>\n",
              "      <td>1.045655</td>\n",
              "      <td>1.396316</td>\n",
              "      <td>1.067744</td>\n",
              "      <td>0.377658</td>\n",
              "      <td>0.711208</td>\n",
              "      <td>...</td>\n",
              "      <td>2.189116</td>\n",
              "      <td>-0.667829</td>\n",
              "      <td>0.170270</td>\n",
              "      <td>0.376789</td>\n",
              "      <td>-0.744788</td>\n",
              "      <td>-0.148779</td>\n",
              "      <td>-0.280434</td>\n",
              "      <td>0.505240</td>\n",
              "      <td>-0.023293</td>\n",
              "      <td>1.343774</td>\n",
              "    </tr>\n",
              "    <tr>\n",
              "      <th>13367</th>\n",
              "      <td>46</td>\n",
              "      <td>20</td>\n",
              "      <td>1</td>\n",
              "      <td>0.363710</td>\n",
              "      <td>0</td>\n",
              "      <td>1.338654</td>\n",
              "      <td>0.989546</td>\n",
              "      <td>0.733602</td>\n",
              "      <td>0.128090</td>\n",
              "      <td>1.231218</td>\n",
              "      <td>...</td>\n",
              "      <td>-0.074984</td>\n",
              "      <td>0.106915</td>\n",
              "      <td>0.511933</td>\n",
              "      <td>-0.503568</td>\n",
              "      <td>0.342500</td>\n",
              "      <td>-0.464455</td>\n",
              "      <td>-0.169852</td>\n",
              "      <td>-0.901380</td>\n",
              "      <td>-0.263781</td>\n",
              "      <td>-0.223920</td>\n",
              "    </tr>\n",
              "  </tbody>\n",
              "</table>\n",
              "<p>10 rows × 41 columns</p>\n",
              "</div>\n",
              "      <button class=\"colab-df-convert\" onclick=\"convertToInteractive('df-22f54384-f483-48c0-afa6-a4d91479c1d5')\"\n",
              "              title=\"Convert this dataframe to an interactive table.\"\n",
              "              style=\"display:none;\">\n",
              "        \n",
              "  <svg xmlns=\"http://www.w3.org/2000/svg\" height=\"24px\"viewBox=\"0 0 24 24\"\n",
              "       width=\"24px\">\n",
              "    <path d=\"M0 0h24v24H0V0z\" fill=\"none\"/>\n",
              "    <path d=\"M18.56 5.44l.94 2.06.94-2.06 2.06-.94-2.06-.94-.94-2.06-.94 2.06-2.06.94zm-11 1L8.5 8.5l.94-2.06 2.06-.94-2.06-.94L8.5 2.5l-.94 2.06-2.06.94zm10 10l.94 2.06.94-2.06 2.06-.94-2.06-.94-.94-2.06-.94 2.06-2.06.94z\"/><path d=\"M17.41 7.96l-1.37-1.37c-.4-.4-.92-.59-1.43-.59-.52 0-1.04.2-1.43.59L10.3 9.45l-7.72 7.72c-.78.78-.78 2.05 0 2.83L4 21.41c.39.39.9.59 1.41.59.51 0 1.02-.2 1.41-.59l7.78-7.78 2.81-2.81c.8-.78.8-2.07 0-2.86zM5.41 20L4 18.59l7.72-7.72 1.47 1.35L5.41 20z\"/>\n",
              "  </svg>\n",
              "      </button>\n",
              "      \n",
              "  <style>\n",
              "    .colab-df-container {\n",
              "      display:flex;\n",
              "      flex-wrap:wrap;\n",
              "      gap: 12px;\n",
              "    }\n",
              "\n",
              "    .colab-df-convert {\n",
              "      background-color: #E8F0FE;\n",
              "      border: none;\n",
              "      border-radius: 50%;\n",
              "      cursor: pointer;\n",
              "      display: none;\n",
              "      fill: #1967D2;\n",
              "      height: 32px;\n",
              "      padding: 0 0 0 0;\n",
              "      width: 32px;\n",
              "    }\n",
              "\n",
              "    .colab-df-convert:hover {\n",
              "      background-color: #E2EBFA;\n",
              "      box-shadow: 0px 1px 2px rgba(60, 64, 67, 0.3), 0px 1px 3px 1px rgba(60, 64, 67, 0.15);\n",
              "      fill: #174EA6;\n",
              "    }\n",
              "\n",
              "    [theme=dark] .colab-df-convert {\n",
              "      background-color: #3B4455;\n",
              "      fill: #D2E3FC;\n",
              "    }\n",
              "\n",
              "    [theme=dark] .colab-df-convert:hover {\n",
              "      background-color: #434B5C;\n",
              "      box-shadow: 0px 1px 3px 1px rgba(0, 0, 0, 0.15);\n",
              "      filter: drop-shadow(0px 1px 2px rgba(0, 0, 0, 0.3));\n",
              "      fill: #FFFFFF;\n",
              "    }\n",
              "  </style>\n",
              "\n",
              "      <script>\n",
              "        const buttonEl =\n",
              "          document.querySelector('#df-22f54384-f483-48c0-afa6-a4d91479c1d5 button.colab-df-convert');\n",
              "        buttonEl.style.display =\n",
              "          google.colab.kernel.accessAllowed ? 'block' : 'none';\n",
              "\n",
              "        async function convertToInteractive(key) {\n",
              "          const element = document.querySelector('#df-22f54384-f483-48c0-afa6-a4d91479c1d5');\n",
              "          const dataTable =\n",
              "            await google.colab.kernel.invokeFunction('convertToInteractive',\n",
              "                                                     [key], {});\n",
              "          if (!dataTable) return;\n",
              "\n",
              "          const docLinkHtml = 'Like what you see? Visit the ' +\n",
              "            '<a target=\"_blank\" href=https://colab.research.google.com/notebooks/data_table.ipynb>data table notebook</a>'\n",
              "            + ' to learn more about interactive tables.';\n",
              "          element.innerHTML = '';\n",
              "          dataTable['output_type'] = 'display_data';\n",
              "          await google.colab.output.renderOutput(dataTable, element);\n",
              "          const docLink = document.createElement('div');\n",
              "          docLink.innerHTML = docLinkHtml;\n",
              "          element.appendChild(docLink);\n",
              "        }\n",
              "      </script>\n",
              "    </div>\n",
              "  </div>\n",
              "  "
            ]
          },
          "metadata": {},
          "execution_count": 87
        }
      ]
    },
    {
      "cell_type": "code",
      "source": [
        "from sklearn.preprocessing import StandardScaler\n",
        "\n",
        "colsToScale = [\"ITI\", \"Fz_N100\", \"FCz_N100\", \"Cz_N100\", \"FC3_N100\",\n",
        "                  \"FC4_N100\", \"C3_N100\", \"C4_N100\", \"CP3_N100\", \"CP4_N100\",\n",
        "                  \"Fz_P200\", \"FCz_P200\", \"Cz_P200\", \"FC3_P200\", \"FC4_P200\",\n",
        "                  \"C3_P200\", \"C4_P200\", \"CP3_P200\", \"CP4_P200\", \"Fz_B0\",\n",
        "                  \"FCz_B0\", \"Cz_B0\", \"FC3_B0\", \"FC4_B0\", \"C3_B0\", \"C4_B0\",\n",
        "                  \"CP3_B0\", \"CP4_B0\", \"Fz_B1\", \"FCz_B1\", \"Cz_B1\", \"FC3_B1\",\n",
        "                  \"FC4_B1\", \"C3_B1\", \"C4_B1\", \"CP3_B1\", \"CP4_B1\"]\n",
        "\n",
        "stdScaler = StandardScaler()\n",
        "stdScaler.fit(X_test[colsToScale])\n",
        "X_test[colsToScale] = stdScaler.transform(X_test[colsToScale])\n",
        "\n",
        "X_test.head(10)"
      ],
      "metadata": {
        "colab": {
          "base_uri": "https://localhost:8080/",
          "height": 456
        },
        "id": "GoBGsVkkNUEz",
        "outputId": "2f485d5d-3218-4d4b-a748-c11c59a7070e"
      },
      "execution_count": null,
      "outputs": [
        {
          "output_type": "execute_result",
          "data": {
            "text/plain": [
              "       subject  trial  condition       ITI  rejected   Fz_N100  FCz_N100  \\\n",
              "266          1     69          3  0.198272         0  1.594033  1.157992   \n",
              "21885       74     84          3 -0.487763         0  0.133715  0.952153   \n",
              "20992       71     84          3 -0.226481         0 -0.019313 -0.070312   \n",
              "8795        30     61          2 -0.604917         0 -0.677470 -0.871272   \n",
              "2067         7     84          3 -0.073090         0  0.732325  0.818801   \n",
              "11504       39     43          3 -0.129488         0  0.401959  0.402913   \n",
              "11145       38     79          2 -0.033040         0  0.260557 -0.573489   \n",
              "15143       52     88          1  0.153863         0 -0.295434 -0.119935   \n",
              "22664       77     68          2  0.634468         0  0.169417  0.493998   \n",
              "6632        23     83          1 -0.151284         0 -0.410475 -0.187503   \n",
              "\n",
              "        Cz_N100  FC3_N100  FC4_N100  ...    CP4_B0     Fz_B1    FCz_B1  \\\n",
              "266    1.456223  2.244344  0.977529  ... -0.290623 -0.345736 -0.087050   \n",
              "21885  0.778882  0.701012  0.883403  ... -0.566559 -0.688736 -0.666146   \n",
              "20992 -0.442714  0.009723  0.261567  ... -0.553881  0.606625  0.893392   \n",
              "8795  -1.158025  0.700594 -0.613625  ... -3.295619  2.019743  2.069267   \n",
              "2067   0.600300  0.308442  0.945465  ... -1.210323 -1.288404 -1.512644   \n",
              "11504 -0.465926  0.232202 -0.164572  ...  2.121409  0.173955  1.039722   \n",
              "11145 -1.566430 -0.762883 -0.728004  ...  1.140608  1.568933  1.303954   \n",
              "15143  0.109978  0.136684 -0.078074  ... -2.128365 -1.135221 -1.610687   \n",
              "22664  0.386315  0.686557  0.187466  ... -0.090012  0.627302  0.721648   \n",
              "6632   0.008903  0.012924 -0.375927  ...  0.583826  0.091838  0.446808   \n",
              "\n",
              "          Cz_B1    FC3_B1    FC4_B1     C3_B1     C4_B1    CP3_B1    CP4_B1  \n",
              "266   -0.513615 -0.079839 -0.496337  0.173249 -0.260872  0.061932 -0.157401  \n",
              "21885 -1.228994 -1.318690 -0.105678 -1.265424  0.034578 -1.288887 -0.602570  \n",
              "20992  0.029750  0.374134  0.461133 -0.153124 -0.296520  0.434035 -0.124016  \n",
              "8795   1.974265  3.790568  1.928279  3.897087  1.949979  2.030312  1.092861  \n",
              "2067  -1.443620 -0.862953 -0.666450 -1.320313 -0.736592 -0.762243 -1.137204  \n",
              "11504  0.409904  0.394662  0.651429  0.013144  1.005759  0.031108  0.541339  \n",
              "11145  1.416269  1.067040  1.947893  1.242436  1.810112  0.977688  1.479609  \n",
              "15143 -1.655804 -0.177014 -0.960906 -1.341908 -1.213590 -0.668267 -0.383804  \n",
              "22664 -0.235319  0.339795  0.337533  0.717213  0.185993  0.586810  0.240687  \n",
              "6632   0.488379 -0.414188 -0.593770 -0.307292  0.138195 -0.284421  0.392761  \n",
              "\n",
              "[10 rows x 41 columns]"
            ],
            "text/html": [
              "\n",
              "  <div id=\"df-a2a8fcb1-699b-4a53-a229-2fd334c4496c\">\n",
              "    <div class=\"colab-df-container\">\n",
              "      <div>\n",
              "<style scoped>\n",
              "    .dataframe tbody tr th:only-of-type {\n",
              "        vertical-align: middle;\n",
              "    }\n",
              "\n",
              "    .dataframe tbody tr th {\n",
              "        vertical-align: top;\n",
              "    }\n",
              "\n",
              "    .dataframe thead th {\n",
              "        text-align: right;\n",
              "    }\n",
              "</style>\n",
              "<table border=\"1\" class=\"dataframe\">\n",
              "  <thead>\n",
              "    <tr style=\"text-align: right;\">\n",
              "      <th></th>\n",
              "      <th>subject</th>\n",
              "      <th>trial</th>\n",
              "      <th>condition</th>\n",
              "      <th>ITI</th>\n",
              "      <th>rejected</th>\n",
              "      <th>Fz_N100</th>\n",
              "      <th>FCz_N100</th>\n",
              "      <th>Cz_N100</th>\n",
              "      <th>FC3_N100</th>\n",
              "      <th>FC4_N100</th>\n",
              "      <th>...</th>\n",
              "      <th>CP4_B0</th>\n",
              "      <th>Fz_B1</th>\n",
              "      <th>FCz_B1</th>\n",
              "      <th>Cz_B1</th>\n",
              "      <th>FC3_B1</th>\n",
              "      <th>FC4_B1</th>\n",
              "      <th>C3_B1</th>\n",
              "      <th>C4_B1</th>\n",
              "      <th>CP3_B1</th>\n",
              "      <th>CP4_B1</th>\n",
              "    </tr>\n",
              "  </thead>\n",
              "  <tbody>\n",
              "    <tr>\n",
              "      <th>266</th>\n",
              "      <td>1</td>\n",
              "      <td>69</td>\n",
              "      <td>3</td>\n",
              "      <td>0.198272</td>\n",
              "      <td>0</td>\n",
              "      <td>1.594033</td>\n",
              "      <td>1.157992</td>\n",
              "      <td>1.456223</td>\n",
              "      <td>2.244344</td>\n",
              "      <td>0.977529</td>\n",
              "      <td>...</td>\n",
              "      <td>-0.290623</td>\n",
              "      <td>-0.345736</td>\n",
              "      <td>-0.087050</td>\n",
              "      <td>-0.513615</td>\n",
              "      <td>-0.079839</td>\n",
              "      <td>-0.496337</td>\n",
              "      <td>0.173249</td>\n",
              "      <td>-0.260872</td>\n",
              "      <td>0.061932</td>\n",
              "      <td>-0.157401</td>\n",
              "    </tr>\n",
              "    <tr>\n",
              "      <th>21885</th>\n",
              "      <td>74</td>\n",
              "      <td>84</td>\n",
              "      <td>3</td>\n",
              "      <td>-0.487763</td>\n",
              "      <td>0</td>\n",
              "      <td>0.133715</td>\n",
              "      <td>0.952153</td>\n",
              "      <td>0.778882</td>\n",
              "      <td>0.701012</td>\n",
              "      <td>0.883403</td>\n",
              "      <td>...</td>\n",
              "      <td>-0.566559</td>\n",
              "      <td>-0.688736</td>\n",
              "      <td>-0.666146</td>\n",
              "      <td>-1.228994</td>\n",
              "      <td>-1.318690</td>\n",
              "      <td>-0.105678</td>\n",
              "      <td>-1.265424</td>\n",
              "      <td>0.034578</td>\n",
              "      <td>-1.288887</td>\n",
              "      <td>-0.602570</td>\n",
              "    </tr>\n",
              "    <tr>\n",
              "      <th>20992</th>\n",
              "      <td>71</td>\n",
              "      <td>84</td>\n",
              "      <td>3</td>\n",
              "      <td>-0.226481</td>\n",
              "      <td>0</td>\n",
              "      <td>-0.019313</td>\n",
              "      <td>-0.070312</td>\n",
              "      <td>-0.442714</td>\n",
              "      <td>0.009723</td>\n",
              "      <td>0.261567</td>\n",
              "      <td>...</td>\n",
              "      <td>-0.553881</td>\n",
              "      <td>0.606625</td>\n",
              "      <td>0.893392</td>\n",
              "      <td>0.029750</td>\n",
              "      <td>0.374134</td>\n",
              "      <td>0.461133</td>\n",
              "      <td>-0.153124</td>\n",
              "      <td>-0.296520</td>\n",
              "      <td>0.434035</td>\n",
              "      <td>-0.124016</td>\n",
              "    </tr>\n",
              "    <tr>\n",
              "      <th>8795</th>\n",
              "      <td>30</td>\n",
              "      <td>61</td>\n",
              "      <td>2</td>\n",
              "      <td>-0.604917</td>\n",
              "      <td>0</td>\n",
              "      <td>-0.677470</td>\n",
              "      <td>-0.871272</td>\n",
              "      <td>-1.158025</td>\n",
              "      <td>0.700594</td>\n",
              "      <td>-0.613625</td>\n",
              "      <td>...</td>\n",
              "      <td>-3.295619</td>\n",
              "      <td>2.019743</td>\n",
              "      <td>2.069267</td>\n",
              "      <td>1.974265</td>\n",
              "      <td>3.790568</td>\n",
              "      <td>1.928279</td>\n",
              "      <td>3.897087</td>\n",
              "      <td>1.949979</td>\n",
              "      <td>2.030312</td>\n",
              "      <td>1.092861</td>\n",
              "    </tr>\n",
              "    <tr>\n",
              "      <th>2067</th>\n",
              "      <td>7</td>\n",
              "      <td>84</td>\n",
              "      <td>3</td>\n",
              "      <td>-0.073090</td>\n",
              "      <td>0</td>\n",
              "      <td>0.732325</td>\n",
              "      <td>0.818801</td>\n",
              "      <td>0.600300</td>\n",
              "      <td>0.308442</td>\n",
              "      <td>0.945465</td>\n",
              "      <td>...</td>\n",
              "      <td>-1.210323</td>\n",
              "      <td>-1.288404</td>\n",
              "      <td>-1.512644</td>\n",
              "      <td>-1.443620</td>\n",
              "      <td>-0.862953</td>\n",
              "      <td>-0.666450</td>\n",
              "      <td>-1.320313</td>\n",
              "      <td>-0.736592</td>\n",
              "      <td>-0.762243</td>\n",
              "      <td>-1.137204</td>\n",
              "    </tr>\n",
              "    <tr>\n",
              "      <th>11504</th>\n",
              "      <td>39</td>\n",
              "      <td>43</td>\n",
              "      <td>3</td>\n",
              "      <td>-0.129488</td>\n",
              "      <td>0</td>\n",
              "      <td>0.401959</td>\n",
              "      <td>0.402913</td>\n",
              "      <td>-0.465926</td>\n",
              "      <td>0.232202</td>\n",
              "      <td>-0.164572</td>\n",
              "      <td>...</td>\n",
              "      <td>2.121409</td>\n",
              "      <td>0.173955</td>\n",
              "      <td>1.039722</td>\n",
              "      <td>0.409904</td>\n",
              "      <td>0.394662</td>\n",
              "      <td>0.651429</td>\n",
              "      <td>0.013144</td>\n",
              "      <td>1.005759</td>\n",
              "      <td>0.031108</td>\n",
              "      <td>0.541339</td>\n",
              "    </tr>\n",
              "    <tr>\n",
              "      <th>11145</th>\n",
              "      <td>38</td>\n",
              "      <td>79</td>\n",
              "      <td>2</td>\n",
              "      <td>-0.033040</td>\n",
              "      <td>0</td>\n",
              "      <td>0.260557</td>\n",
              "      <td>-0.573489</td>\n",
              "      <td>-1.566430</td>\n",
              "      <td>-0.762883</td>\n",
              "      <td>-0.728004</td>\n",
              "      <td>...</td>\n",
              "      <td>1.140608</td>\n",
              "      <td>1.568933</td>\n",
              "      <td>1.303954</td>\n",
              "      <td>1.416269</td>\n",
              "      <td>1.067040</td>\n",
              "      <td>1.947893</td>\n",
              "      <td>1.242436</td>\n",
              "      <td>1.810112</td>\n",
              "      <td>0.977688</td>\n",
              "      <td>1.479609</td>\n",
              "    </tr>\n",
              "    <tr>\n",
              "      <th>15143</th>\n",
              "      <td>52</td>\n",
              "      <td>88</td>\n",
              "      <td>1</td>\n",
              "      <td>0.153863</td>\n",
              "      <td>0</td>\n",
              "      <td>-0.295434</td>\n",
              "      <td>-0.119935</td>\n",
              "      <td>0.109978</td>\n",
              "      <td>0.136684</td>\n",
              "      <td>-0.078074</td>\n",
              "      <td>...</td>\n",
              "      <td>-2.128365</td>\n",
              "      <td>-1.135221</td>\n",
              "      <td>-1.610687</td>\n",
              "      <td>-1.655804</td>\n",
              "      <td>-0.177014</td>\n",
              "      <td>-0.960906</td>\n",
              "      <td>-1.341908</td>\n",
              "      <td>-1.213590</td>\n",
              "      <td>-0.668267</td>\n",
              "      <td>-0.383804</td>\n",
              "    </tr>\n",
              "    <tr>\n",
              "      <th>22664</th>\n",
              "      <td>77</td>\n",
              "      <td>68</td>\n",
              "      <td>2</td>\n",
              "      <td>0.634468</td>\n",
              "      <td>0</td>\n",
              "      <td>0.169417</td>\n",
              "      <td>0.493998</td>\n",
              "      <td>0.386315</td>\n",
              "      <td>0.686557</td>\n",
              "      <td>0.187466</td>\n",
              "      <td>...</td>\n",
              "      <td>-0.090012</td>\n",
              "      <td>0.627302</td>\n",
              "      <td>0.721648</td>\n",
              "      <td>-0.235319</td>\n",
              "      <td>0.339795</td>\n",
              "      <td>0.337533</td>\n",
              "      <td>0.717213</td>\n",
              "      <td>0.185993</td>\n",
              "      <td>0.586810</td>\n",
              "      <td>0.240687</td>\n",
              "    </tr>\n",
              "    <tr>\n",
              "      <th>6632</th>\n",
              "      <td>23</td>\n",
              "      <td>83</td>\n",
              "      <td>1</td>\n",
              "      <td>-0.151284</td>\n",
              "      <td>0</td>\n",
              "      <td>-0.410475</td>\n",
              "      <td>-0.187503</td>\n",
              "      <td>0.008903</td>\n",
              "      <td>0.012924</td>\n",
              "      <td>-0.375927</td>\n",
              "      <td>...</td>\n",
              "      <td>0.583826</td>\n",
              "      <td>0.091838</td>\n",
              "      <td>0.446808</td>\n",
              "      <td>0.488379</td>\n",
              "      <td>-0.414188</td>\n",
              "      <td>-0.593770</td>\n",
              "      <td>-0.307292</td>\n",
              "      <td>0.138195</td>\n",
              "      <td>-0.284421</td>\n",
              "      <td>0.392761</td>\n",
              "    </tr>\n",
              "  </tbody>\n",
              "</table>\n",
              "<p>10 rows × 41 columns</p>\n",
              "</div>\n",
              "      <button class=\"colab-df-convert\" onclick=\"convertToInteractive('df-a2a8fcb1-699b-4a53-a229-2fd334c4496c')\"\n",
              "              title=\"Convert this dataframe to an interactive table.\"\n",
              "              style=\"display:none;\">\n",
              "        \n",
              "  <svg xmlns=\"http://www.w3.org/2000/svg\" height=\"24px\"viewBox=\"0 0 24 24\"\n",
              "       width=\"24px\">\n",
              "    <path d=\"M0 0h24v24H0V0z\" fill=\"none\"/>\n",
              "    <path d=\"M18.56 5.44l.94 2.06.94-2.06 2.06-.94-2.06-.94-.94-2.06-.94 2.06-2.06.94zm-11 1L8.5 8.5l.94-2.06 2.06-.94-2.06-.94L8.5 2.5l-.94 2.06-2.06.94zm10 10l.94 2.06.94-2.06 2.06-.94-2.06-.94-.94-2.06-.94 2.06-2.06.94z\"/><path d=\"M17.41 7.96l-1.37-1.37c-.4-.4-.92-.59-1.43-.59-.52 0-1.04.2-1.43.59L10.3 9.45l-7.72 7.72c-.78.78-.78 2.05 0 2.83L4 21.41c.39.39.9.59 1.41.59.51 0 1.02-.2 1.41-.59l7.78-7.78 2.81-2.81c.8-.78.8-2.07 0-2.86zM5.41 20L4 18.59l7.72-7.72 1.47 1.35L5.41 20z\"/>\n",
              "  </svg>\n",
              "      </button>\n",
              "      \n",
              "  <style>\n",
              "    .colab-df-container {\n",
              "      display:flex;\n",
              "      flex-wrap:wrap;\n",
              "      gap: 12px;\n",
              "    }\n",
              "\n",
              "    .colab-df-convert {\n",
              "      background-color: #E8F0FE;\n",
              "      border: none;\n",
              "      border-radius: 50%;\n",
              "      cursor: pointer;\n",
              "      display: none;\n",
              "      fill: #1967D2;\n",
              "      height: 32px;\n",
              "      padding: 0 0 0 0;\n",
              "      width: 32px;\n",
              "    }\n",
              "\n",
              "    .colab-df-convert:hover {\n",
              "      background-color: #E2EBFA;\n",
              "      box-shadow: 0px 1px 2px rgba(60, 64, 67, 0.3), 0px 1px 3px 1px rgba(60, 64, 67, 0.15);\n",
              "      fill: #174EA6;\n",
              "    }\n",
              "\n",
              "    [theme=dark] .colab-df-convert {\n",
              "      background-color: #3B4455;\n",
              "      fill: #D2E3FC;\n",
              "    }\n",
              "\n",
              "    [theme=dark] .colab-df-convert:hover {\n",
              "      background-color: #434B5C;\n",
              "      box-shadow: 0px 1px 3px 1px rgba(0, 0, 0, 0.15);\n",
              "      filter: drop-shadow(0px 1px 2px rgba(0, 0, 0, 0.3));\n",
              "      fill: #FFFFFF;\n",
              "    }\n",
              "  </style>\n",
              "\n",
              "      <script>\n",
              "        const buttonEl =\n",
              "          document.querySelector('#df-a2a8fcb1-699b-4a53-a229-2fd334c4496c button.colab-df-convert');\n",
              "        buttonEl.style.display =\n",
              "          google.colab.kernel.accessAllowed ? 'block' : 'none';\n",
              "\n",
              "        async function convertToInteractive(key) {\n",
              "          const element = document.querySelector('#df-a2a8fcb1-699b-4a53-a229-2fd334c4496c');\n",
              "          const dataTable =\n",
              "            await google.colab.kernel.invokeFunction('convertToInteractive',\n",
              "                                                     [key], {});\n",
              "          if (!dataTable) return;\n",
              "\n",
              "          const docLinkHtml = 'Like what you see? Visit the ' +\n",
              "            '<a target=\"_blank\" href=https://colab.research.google.com/notebooks/data_table.ipynb>data table notebook</a>'\n",
              "            + ' to learn more about interactive tables.';\n",
              "          element.innerHTML = '';\n",
              "          dataTable['output_type'] = 'display_data';\n",
              "          await google.colab.output.renderOutput(dataTable, element);\n",
              "          const docLink = document.createElement('div');\n",
              "          docLink.innerHTML = docLinkHtml;\n",
              "          element.appendChild(docLink);\n",
              "        }\n",
              "      </script>\n",
              "    </div>\n",
              "  </div>\n",
              "  "
            ]
          },
          "metadata": {},
          "execution_count": 88
        }
      ]
    },
    {
      "cell_type": "markdown",
      "source": [
        ":now our data is preprocessed!\n",
        "\n",
        "# Modelling experiments starts\n"
      ],
      "metadata": {
        "id": "oXLvPoGgOXnJ"
      }
    },
    {
      "cell_type": "code",
      "source": [
        "from sklearn import svm\n",
        "clf_svm=svm.SVC()\n",
        "clf_svm.fit(X_train,y_train)\n"
      ],
      "metadata": {
        "colab": {
          "base_uri": "https://localhost:8080/",
          "height": 74
        },
        "id": "Fw22lJ06NboE",
        "outputId": "b5424d92-fa91-4234-ace3-ddf568399c88"
      },
      "execution_count": null,
      "outputs": [
        {
          "output_type": "execute_result",
          "data": {
            "text/plain": [
              "SVC()"
            ],
            "text/html": [
              "<style>#sk-container-id-7 {color: black;background-color: white;}#sk-container-id-7 pre{padding: 0;}#sk-container-id-7 div.sk-toggleable {background-color: white;}#sk-container-id-7 label.sk-toggleable__label {cursor: pointer;display: block;width: 100%;margin-bottom: 0;padding: 0.3em;box-sizing: border-box;text-align: center;}#sk-container-id-7 label.sk-toggleable__label-arrow:before {content: \"▸\";float: left;margin-right: 0.25em;color: #696969;}#sk-container-id-7 label.sk-toggleable__label-arrow:hover:before {color: black;}#sk-container-id-7 div.sk-estimator:hover label.sk-toggleable__label-arrow:before {color: black;}#sk-container-id-7 div.sk-toggleable__content {max-height: 0;max-width: 0;overflow: hidden;text-align: left;background-color: #f0f8ff;}#sk-container-id-7 div.sk-toggleable__content pre {margin: 0.2em;color: black;border-radius: 0.25em;background-color: #f0f8ff;}#sk-container-id-7 input.sk-toggleable__control:checked~div.sk-toggleable__content {max-height: 200px;max-width: 100%;overflow: auto;}#sk-container-id-7 input.sk-toggleable__control:checked~label.sk-toggleable__label-arrow:before {content: \"▾\";}#sk-container-id-7 div.sk-estimator input.sk-toggleable__control:checked~label.sk-toggleable__label {background-color: #d4ebff;}#sk-container-id-7 div.sk-label input.sk-toggleable__control:checked~label.sk-toggleable__label {background-color: #d4ebff;}#sk-container-id-7 input.sk-hidden--visually {border: 0;clip: rect(1px 1px 1px 1px);clip: rect(1px, 1px, 1px, 1px);height: 1px;margin: -1px;overflow: hidden;padding: 0;position: absolute;width: 1px;}#sk-container-id-7 div.sk-estimator {font-family: monospace;background-color: #f0f8ff;border: 1px dotted black;border-radius: 0.25em;box-sizing: border-box;margin-bottom: 0.5em;}#sk-container-id-7 div.sk-estimator:hover {background-color: #d4ebff;}#sk-container-id-7 div.sk-parallel-item::after {content: \"\";width: 100%;border-bottom: 1px solid gray;flex-grow: 1;}#sk-container-id-7 div.sk-label:hover label.sk-toggleable__label {background-color: #d4ebff;}#sk-container-id-7 div.sk-serial::before {content: \"\";position: absolute;border-left: 1px solid gray;box-sizing: border-box;top: 0;bottom: 0;left: 50%;z-index: 0;}#sk-container-id-7 div.sk-serial {display: flex;flex-direction: column;align-items: center;background-color: white;padding-right: 0.2em;padding-left: 0.2em;position: relative;}#sk-container-id-7 div.sk-item {position: relative;z-index: 1;}#sk-container-id-7 div.sk-parallel {display: flex;align-items: stretch;justify-content: center;background-color: white;position: relative;}#sk-container-id-7 div.sk-item::before, #sk-container-id-7 div.sk-parallel-item::before {content: \"\";position: absolute;border-left: 1px solid gray;box-sizing: border-box;top: 0;bottom: 0;left: 50%;z-index: -1;}#sk-container-id-7 div.sk-parallel-item {display: flex;flex-direction: column;z-index: 1;position: relative;background-color: white;}#sk-container-id-7 div.sk-parallel-item:first-child::after {align-self: flex-end;width: 50%;}#sk-container-id-7 div.sk-parallel-item:last-child::after {align-self: flex-start;width: 50%;}#sk-container-id-7 div.sk-parallel-item:only-child::after {width: 0;}#sk-container-id-7 div.sk-dashed-wrapped {border: 1px dashed gray;margin: 0 0.4em 0.5em 0.4em;box-sizing: border-box;padding-bottom: 0.4em;background-color: white;}#sk-container-id-7 div.sk-label label {font-family: monospace;font-weight: bold;display: inline-block;line-height: 1.2em;}#sk-container-id-7 div.sk-label-container {text-align: center;}#sk-container-id-7 div.sk-container {/* jupyter's `normalize.less` sets `[hidden] { display: none; }` but bootstrap.min.css set `[hidden] { display: none !important; }` so we also need the `!important` here to be able to override the default hidden behavior on the sphinx rendered scikit-learn.org. See: https://github.com/scikit-learn/scikit-learn/issues/21755 */display: inline-block !important;position: relative;}#sk-container-id-7 div.sk-text-repr-fallback {display: none;}</style><div id=\"sk-container-id-7\" class=\"sk-top-container\"><div class=\"sk-text-repr-fallback\"><pre>SVC()</pre><b>In a Jupyter environment, please rerun this cell to show the HTML representation or trust the notebook. <br />On GitHub, the HTML representation is unable to render, please try loading this page with nbviewer.org.</b></div><div class=\"sk-container\" hidden><div class=\"sk-item\"><div class=\"sk-estimator sk-toggleable\"><input class=\"sk-toggleable__control sk-hidden--visually\" id=\"sk-estimator-id-9\" type=\"checkbox\" checked><label for=\"sk-estimator-id-9\" class=\"sk-toggleable__label sk-toggleable__label-arrow\">SVC</label><div class=\"sk-toggleable__content\"><pre>SVC()</pre></div></div></div></div></div>"
            ]
          },
          "metadata": {},
          "execution_count": 89
        }
      ]
    },
    {
      "cell_type": "code",
      "source": [
        "clf_svm.predict(X_test)"
      ],
      "metadata": {
        "colab": {
          "base_uri": "https://localhost:8080/"
        },
        "id": "WxW-uLHSO-j8",
        "outputId": "f19f0d06-250e-4d98-d3e9-fe0be9210ddf"
      },
      "execution_count": null,
      "outputs": [
        {
          "output_type": "execute_result",
          "data": {
            "text/plain": [
              "array([0, 1, 1, ..., 1, 1, 0])"
            ]
          },
          "metadata": {},
          "execution_count": 90
        }
      ]
    },
    {
      "cell_type": "code",
      "source": [
        "clf_svm.score(X_test,y_test)"
      ],
      "metadata": {
        "colab": {
          "base_uri": "https://localhost:8080/"
        },
        "id": "KJEQoDBCPqgA",
        "outputId": "1186c29c-9e4d-4dd2-b310-b25b0d653c41"
      },
      "execution_count": null,
      "outputs": [
        {
          "output_type": "execute_result",
          "data": {
            "text/plain": [
              "0.888952736675765"
            ]
          },
          "metadata": {},
          "execution_count": 91
        }
      ]
    },
    {
      "cell_type": "markdown",
      "source": [
        "Now trying a non-linear svm model!\n"
      ],
      "metadata": {
        "id": "jFQlxv2xP-H1"
      }
    },
    {
      "cell_type": "code",
      "source": [
        "import numpy as np\n",
        "import matplotlib.pyplot as plt\n",
        "from sklearn import svm\n",
        "\n",
        "# fit the model\n",
        "clf_nsvm = svm.NuSVC(gamma=\"auto\")\n",
        "clf_nsvm.fit(X_train, y_train)\n"
      ],
      "metadata": {
        "colab": {
          "base_uri": "https://localhost:8080/",
          "height": 74
        },
        "id": "OpDoiPf1PuG0",
        "outputId": "c518fdb4-62e6-4d78-f903-c43a4b77ee92"
      },
      "execution_count": null,
      "outputs": [
        {
          "output_type": "execute_result",
          "data": {
            "text/plain": [
              "NuSVC(gamma='auto')"
            ],
            "text/html": [
              "<style>#sk-container-id-8 {color: black;background-color: white;}#sk-container-id-8 pre{padding: 0;}#sk-container-id-8 div.sk-toggleable {background-color: white;}#sk-container-id-8 label.sk-toggleable__label {cursor: pointer;display: block;width: 100%;margin-bottom: 0;padding: 0.3em;box-sizing: border-box;text-align: center;}#sk-container-id-8 label.sk-toggleable__label-arrow:before {content: \"▸\";float: left;margin-right: 0.25em;color: #696969;}#sk-container-id-8 label.sk-toggleable__label-arrow:hover:before {color: black;}#sk-container-id-8 div.sk-estimator:hover label.sk-toggleable__label-arrow:before {color: black;}#sk-container-id-8 div.sk-toggleable__content {max-height: 0;max-width: 0;overflow: hidden;text-align: left;background-color: #f0f8ff;}#sk-container-id-8 div.sk-toggleable__content pre {margin: 0.2em;color: black;border-radius: 0.25em;background-color: #f0f8ff;}#sk-container-id-8 input.sk-toggleable__control:checked~div.sk-toggleable__content {max-height: 200px;max-width: 100%;overflow: auto;}#sk-container-id-8 input.sk-toggleable__control:checked~label.sk-toggleable__label-arrow:before {content: \"▾\";}#sk-container-id-8 div.sk-estimator input.sk-toggleable__control:checked~label.sk-toggleable__label {background-color: #d4ebff;}#sk-container-id-8 div.sk-label input.sk-toggleable__control:checked~label.sk-toggleable__label {background-color: #d4ebff;}#sk-container-id-8 input.sk-hidden--visually {border: 0;clip: rect(1px 1px 1px 1px);clip: rect(1px, 1px, 1px, 1px);height: 1px;margin: -1px;overflow: hidden;padding: 0;position: absolute;width: 1px;}#sk-container-id-8 div.sk-estimator {font-family: monospace;background-color: #f0f8ff;border: 1px dotted black;border-radius: 0.25em;box-sizing: border-box;margin-bottom: 0.5em;}#sk-container-id-8 div.sk-estimator:hover {background-color: #d4ebff;}#sk-container-id-8 div.sk-parallel-item::after {content: \"\";width: 100%;border-bottom: 1px solid gray;flex-grow: 1;}#sk-container-id-8 div.sk-label:hover label.sk-toggleable__label {background-color: #d4ebff;}#sk-container-id-8 div.sk-serial::before {content: \"\";position: absolute;border-left: 1px solid gray;box-sizing: border-box;top: 0;bottom: 0;left: 50%;z-index: 0;}#sk-container-id-8 div.sk-serial {display: flex;flex-direction: column;align-items: center;background-color: white;padding-right: 0.2em;padding-left: 0.2em;position: relative;}#sk-container-id-8 div.sk-item {position: relative;z-index: 1;}#sk-container-id-8 div.sk-parallel {display: flex;align-items: stretch;justify-content: center;background-color: white;position: relative;}#sk-container-id-8 div.sk-item::before, #sk-container-id-8 div.sk-parallel-item::before {content: \"\";position: absolute;border-left: 1px solid gray;box-sizing: border-box;top: 0;bottom: 0;left: 50%;z-index: -1;}#sk-container-id-8 div.sk-parallel-item {display: flex;flex-direction: column;z-index: 1;position: relative;background-color: white;}#sk-container-id-8 div.sk-parallel-item:first-child::after {align-self: flex-end;width: 50%;}#sk-container-id-8 div.sk-parallel-item:last-child::after {align-self: flex-start;width: 50%;}#sk-container-id-8 div.sk-parallel-item:only-child::after {width: 0;}#sk-container-id-8 div.sk-dashed-wrapped {border: 1px dashed gray;margin: 0 0.4em 0.5em 0.4em;box-sizing: border-box;padding-bottom: 0.4em;background-color: white;}#sk-container-id-8 div.sk-label label {font-family: monospace;font-weight: bold;display: inline-block;line-height: 1.2em;}#sk-container-id-8 div.sk-label-container {text-align: center;}#sk-container-id-8 div.sk-container {/* jupyter's `normalize.less` sets `[hidden] { display: none; }` but bootstrap.min.css set `[hidden] { display: none !important; }` so we also need the `!important` here to be able to override the default hidden behavior on the sphinx rendered scikit-learn.org. See: https://github.com/scikit-learn/scikit-learn/issues/21755 */display: inline-block !important;position: relative;}#sk-container-id-8 div.sk-text-repr-fallback {display: none;}</style><div id=\"sk-container-id-8\" class=\"sk-top-container\"><div class=\"sk-text-repr-fallback\"><pre>NuSVC(gamma=&#x27;auto&#x27;)</pre><b>In a Jupyter environment, please rerun this cell to show the HTML representation or trust the notebook. <br />On GitHub, the HTML representation is unable to render, please try loading this page with nbviewer.org.</b></div><div class=\"sk-container\" hidden><div class=\"sk-item\"><div class=\"sk-estimator sk-toggleable\"><input class=\"sk-toggleable__control sk-hidden--visually\" id=\"sk-estimator-id-10\" type=\"checkbox\" checked><label for=\"sk-estimator-id-10\" class=\"sk-toggleable__label sk-toggleable__label-arrow\">NuSVC</label><div class=\"sk-toggleable__content\"><pre>NuSVC(gamma=&#x27;auto&#x27;)</pre></div></div></div></div></div>"
            ]
          },
          "metadata": {},
          "execution_count": 92
        }
      ]
    },
    {
      "cell_type": "code",
      "source": [
        "clf_nsvm.score(X_test,y_test)"
      ],
      "metadata": {
        "colab": {
          "base_uri": "https://localhost:8080/"
        },
        "id": "HWnlcIrwQYlw",
        "outputId": "312b7b97-c7a7-469d-a21c-f811cc1d1486"
      },
      "execution_count": null,
      "outputs": [
        {
          "output_type": "execute_result",
          "data": {
            "text/plain": [
              "0.9586266341042954"
            ]
          },
          "metadata": {},
          "execution_count": 93
        }
      ]
    },
    {
      "cell_type": "markdown",
      "source": [
        "we can see.. our non linear svm model is performing very well on our data!!!!\n"
      ],
      "metadata": {
        "id": "h6jRLaEWRAHV"
      }
    },
    {
      "cell_type": "markdown",
      "source": [
        "### NOW TRYING THE RANDOMFOREST CLASSIFIER!"
      ],
      "metadata": {
        "id": "gMxFzf4OSDcI"
      }
    },
    {
      "cell_type": "code",
      "source": [
        "from sklearn.ensemble import RandomForestClassifier\n",
        "clf_rf = RandomForestClassifier(max_depth=2, random_state=0)\n",
        "clf_rf.fit(X_train, y_train)"
      ],
      "metadata": {
        "colab": {
          "base_uri": "https://localhost:8080/",
          "height": 74
        },
        "id": "-p9fHN_QResQ",
        "outputId": "5d9095da-bd86-4204-a4c0-a66af6bbfabc"
      },
      "execution_count": null,
      "outputs": [
        {
          "output_type": "execute_result",
          "data": {
            "text/plain": [
              "RandomForestClassifier(max_depth=2, random_state=0)"
            ],
            "text/html": [
              "<style>#sk-container-id-9 {color: black;background-color: white;}#sk-container-id-9 pre{padding: 0;}#sk-container-id-9 div.sk-toggleable {background-color: white;}#sk-container-id-9 label.sk-toggleable__label {cursor: pointer;display: block;width: 100%;margin-bottom: 0;padding: 0.3em;box-sizing: border-box;text-align: center;}#sk-container-id-9 label.sk-toggleable__label-arrow:before {content: \"▸\";float: left;margin-right: 0.25em;color: #696969;}#sk-container-id-9 label.sk-toggleable__label-arrow:hover:before {color: black;}#sk-container-id-9 div.sk-estimator:hover label.sk-toggleable__label-arrow:before {color: black;}#sk-container-id-9 div.sk-toggleable__content {max-height: 0;max-width: 0;overflow: hidden;text-align: left;background-color: #f0f8ff;}#sk-container-id-9 div.sk-toggleable__content pre {margin: 0.2em;color: black;border-radius: 0.25em;background-color: #f0f8ff;}#sk-container-id-9 input.sk-toggleable__control:checked~div.sk-toggleable__content {max-height: 200px;max-width: 100%;overflow: auto;}#sk-container-id-9 input.sk-toggleable__control:checked~label.sk-toggleable__label-arrow:before {content: \"▾\";}#sk-container-id-9 div.sk-estimator input.sk-toggleable__control:checked~label.sk-toggleable__label {background-color: #d4ebff;}#sk-container-id-9 div.sk-label input.sk-toggleable__control:checked~label.sk-toggleable__label {background-color: #d4ebff;}#sk-container-id-9 input.sk-hidden--visually {border: 0;clip: rect(1px 1px 1px 1px);clip: rect(1px, 1px, 1px, 1px);height: 1px;margin: -1px;overflow: hidden;padding: 0;position: absolute;width: 1px;}#sk-container-id-9 div.sk-estimator {font-family: monospace;background-color: #f0f8ff;border: 1px dotted black;border-radius: 0.25em;box-sizing: border-box;margin-bottom: 0.5em;}#sk-container-id-9 div.sk-estimator:hover {background-color: #d4ebff;}#sk-container-id-9 div.sk-parallel-item::after {content: \"\";width: 100%;border-bottom: 1px solid gray;flex-grow: 1;}#sk-container-id-9 div.sk-label:hover label.sk-toggleable__label {background-color: #d4ebff;}#sk-container-id-9 div.sk-serial::before {content: \"\";position: absolute;border-left: 1px solid gray;box-sizing: border-box;top: 0;bottom: 0;left: 50%;z-index: 0;}#sk-container-id-9 div.sk-serial {display: flex;flex-direction: column;align-items: center;background-color: white;padding-right: 0.2em;padding-left: 0.2em;position: relative;}#sk-container-id-9 div.sk-item {position: relative;z-index: 1;}#sk-container-id-9 div.sk-parallel {display: flex;align-items: stretch;justify-content: center;background-color: white;position: relative;}#sk-container-id-9 div.sk-item::before, #sk-container-id-9 div.sk-parallel-item::before {content: \"\";position: absolute;border-left: 1px solid gray;box-sizing: border-box;top: 0;bottom: 0;left: 50%;z-index: -1;}#sk-container-id-9 div.sk-parallel-item {display: flex;flex-direction: column;z-index: 1;position: relative;background-color: white;}#sk-container-id-9 div.sk-parallel-item:first-child::after {align-self: flex-end;width: 50%;}#sk-container-id-9 div.sk-parallel-item:last-child::after {align-self: flex-start;width: 50%;}#sk-container-id-9 div.sk-parallel-item:only-child::after {width: 0;}#sk-container-id-9 div.sk-dashed-wrapped {border: 1px dashed gray;margin: 0 0.4em 0.5em 0.4em;box-sizing: border-box;padding-bottom: 0.4em;background-color: white;}#sk-container-id-9 div.sk-label label {font-family: monospace;font-weight: bold;display: inline-block;line-height: 1.2em;}#sk-container-id-9 div.sk-label-container {text-align: center;}#sk-container-id-9 div.sk-container {/* jupyter's `normalize.less` sets `[hidden] { display: none; }` but bootstrap.min.css set `[hidden] { display: none !important; }` so we also need the `!important` here to be able to override the default hidden behavior on the sphinx rendered scikit-learn.org. See: https://github.com/scikit-learn/scikit-learn/issues/21755 */display: inline-block !important;position: relative;}#sk-container-id-9 div.sk-text-repr-fallback {display: none;}</style><div id=\"sk-container-id-9\" class=\"sk-top-container\"><div class=\"sk-text-repr-fallback\"><pre>RandomForestClassifier(max_depth=2, random_state=0)</pre><b>In a Jupyter environment, please rerun this cell to show the HTML representation or trust the notebook. <br />On GitHub, the HTML representation is unable to render, please try loading this page with nbviewer.org.</b></div><div class=\"sk-container\" hidden><div class=\"sk-item\"><div class=\"sk-estimator sk-toggleable\"><input class=\"sk-toggleable__control sk-hidden--visually\" id=\"sk-estimator-id-11\" type=\"checkbox\" checked><label for=\"sk-estimator-id-11\" class=\"sk-toggleable__label sk-toggleable__label-arrow\">RandomForestClassifier</label><div class=\"sk-toggleable__content\"><pre>RandomForestClassifier(max_depth=2, random_state=0)</pre></div></div></div></div></div>"
            ]
          },
          "metadata": {},
          "execution_count": 94
        }
      ]
    },
    {
      "cell_type": "code",
      "source": [
        "clf_rf.score(X_test,y_test)"
      ],
      "metadata": {
        "colab": {
          "base_uri": "https://localhost:8080/"
        },
        "id": "1g4wWrq_SS8Z",
        "outputId": "1d31c47f-5d38-40dc-b11a-70f7c6a903ef"
      },
      "execution_count": null,
      "outputs": [
        {
          "output_type": "execute_result",
          "data": {
            "text/plain": [
              "0.896279270219796"
            ]
          },
          "metadata": {},
          "execution_count": 95
        }
      ]
    },
    {
      "cell_type": "markdown",
      "source": [
        "we can see, the randomforest model outperforms the linear svm model..for now the best model has been the non-linear svm model.\n",
        "we can now try the hyperparameter tuning\n",
        "\n",
        "But before that, lets see which features are of most importance to our model"
      ],
      "metadata": {
        "id": "nvqjQ8ZJSbRY"
      }
    },
    {
      "cell_type": "code",
      "source": [
        "feature_names = [f\"feature {i}\" for i in range(X_train.shape[1])]\n",
        "\n",
        "import time\n",
        "import numpy as np\n",
        "\n",
        "start_time = time.time()\n",
        "importances = clf_rf.feature_importances_\n",
        "std = np.std([tree.feature_importances_ for tree in clf_rf.estimators_], axis=0)\n",
        "elapsed_time = time.time() - start_time\n",
        "\n",
        "print(f\"Elapsed time to compute the importances: {elapsed_time:.3f} seconds\")\n",
        "\n",
        "import pandas as pd\n",
        "\n",
        "forest_importances = pd.Series(importances, index=feature_names)\n",
        "\n",
        "fig, ax = plt.subplots()\n",
        "forest_importances.plot.bar(yerr=std, ax=ax)\n",
        "ax.set_title(\"Feature importances using MDI\")\n",
        "ax.set_ylabel(\"Mean decrease in impurity\")\n",
        "fig.tight_layout()"
      ],
      "metadata": {
        "colab": {
          "base_uri": "https://localhost:8080/",
          "height": 504
        },
        "id": "meUlNOQ9SZbw",
        "outputId": "80435bcb-ee73-4692-f036-fd9e1f792bfd"
      },
      "execution_count": null,
      "outputs": [
        {
          "output_type": "stream",
          "name": "stdout",
          "text": [
            "Elapsed time to compute the importances: 0.014 seconds\n"
          ]
        },
        {
          "output_type": "display_data",
          "data": {
            "text/plain": [
              "<Figure size 640x480 with 1 Axes>"
            ],
            "image/png": "[encoded data removed]"
          },
          "metadata": {}
        }
      ]
    },
    {
      "cell_type": "code",
      "source": [
        "X_train.head()"
      ],
      "metadata": {
        "colab": {
          "base_uri": "https://localhost:8080/",
          "height": 299
        },
        "id": "5-Rm5DBpTKfN",
        "outputId": "9e75bf77-3090-47fa-8054-81eb64ce6cce"
      },
      "execution_count": null,
      "outputs": [
        {
          "output_type": "execute_result",
          "data": {
            "text/plain": [
              "       subject  trial  condition       ITI  rejected   Fz_N100  FCz_N100  \\\n",
              "8459        29     23          2 -0.277111         0 -0.488545 -0.421696   \n",
              "7934        27     93          2 -0.269304         0 -2.933538 -3.207828   \n",
              "6202        21     50          3 -0.162400         0 -0.772831 -0.605642   \n",
              "18739       64     12          2 -0.247683         0 -0.879219 -1.345546   \n",
              "21470       73     65          2 -0.264499         0 -0.381756  0.300359   \n",
              "\n",
              "        Cz_N100  FC3_N100  FC4_N100  ...    CP4_B0     Fz_B1    FCz_B1  \\\n",
              "8459  -0.092704 -0.171713 -0.361067  ...  0.178708  0.118095  0.269598   \n",
              "7934  -2.367576 -2.688525 -2.980474  ...  0.233828 -0.578422 -0.719645   \n",
              "6202  -0.381674 -0.929726 -0.446051  ... -0.174425 -0.094928  0.082219   \n",
              "18739 -1.611606 -1.358831 -0.897711  ... -0.801472  0.048841  0.385837   \n",
              "21470 -0.585932 -0.379401  0.243633  ... -1.283029  0.350726  0.320621   \n",
              "\n",
              "          Cz_B1    FC3_B1    FC4_B1     C3_B1     C4_B1    CP3_B1    CP4_B1  \n",
              "8459   0.331276  0.193413  0.308362  0.244751 -0.251828 -0.170357  0.178140  \n",
              "7934  -0.427710  0.921387 -0.743673 -0.513731 -1.377863  0.009450 -0.685360  \n",
              "6202   0.084144  0.271157  0.219539  0.202290 -0.005540  0.352152  0.539645  \n",
              "18739  1.012784  0.352042 -0.348347  0.701351  0.312842  0.683218  0.267562  \n",
              "21470  0.448999  0.288771  0.440948  0.611814  0.895380  0.945176  1.110255  \n",
              "\n",
              "[5 rows x 41 columns]"
            ],
            "text/html": [
              "\n",
              "  <div id=\"df-6473a9d5-7cb1-4958-8e36-78905b047e17\">\n",
              "    <div class=\"colab-df-container\">\n",
              "      <div>\n",
              "<style scoped>\n",
              "    .dataframe tbody tr th:only-of-type {\n",
              "        vertical-align: middle;\n",
              "    }\n",
              "\n",
              "    .dataframe tbody tr th {\n",
              "        vertical-align: top;\n",
              "    }\n",
              "\n",
              "    .dataframe thead th {\n",
              "        text-align: right;\n",
              "    }\n",
              "</style>\n",
              "<table border=\"1\" class=\"dataframe\">\n",
              "  <thead>\n",
              "    <tr style=\"text-align: right;\">\n",
              "      <th></th>\n",
              "      <th>subject</th>\n",
              "      <th>trial</th>\n",
              "      <th>condition</th>\n",
              "      <th>ITI</th>\n",
              "      <th>rejected</th>\n",
              "      <th>Fz_N100</th>\n",
              "      <th>FCz_N100</th>\n",
              "      <th>Cz_N100</th>\n",
              "      <th>FC3_N100</th>\n",
              "      <th>FC4_N100</th>\n",
              "      <th>...</th>\n",
              "      <th>CP4_B0</th>\n",
              "      <th>Fz_B1</th>\n",
              "      <th>FCz_B1</th>\n",
              "      <th>Cz_B1</th>\n",
              "      <th>FC3_B1</th>\n",
              "      <th>FC4_B1</th>\n",
              "      <th>C3_B1</th>\n",
              "      <th>C4_B1</th>\n",
              "      <th>CP3_B1</th>\n",
              "      <th>CP4_B1</th>\n",
              "    </tr>\n",
              "  </thead>\n",
              "  <tbody>\n",
              "    <tr>\n",
              "      <th>8459</th>\n",
              "      <td>29</td>\n",
              "      <td>23</td>\n",
              "      <td>2</td>\n",
              "      <td>-0.277111</td>\n",
              "      <td>0</td>\n",
              "      <td>-0.488545</td>\n",
              "      <td>-0.421696</td>\n",
              "      <td>-0.092704</td>\n",
              "      <td>-0.171713</td>\n",
              "      <td>-0.361067</td>\n",
              "      <td>...</td>\n",
              "      <td>0.178708</td>\n",
              "      <td>0.118095</td>\n",
              "      <td>0.269598</td>\n",
              "      <td>0.331276</td>\n",
              "      <td>0.193413</td>\n",
              "      <td>0.308362</td>\n",
              "      <td>0.244751</td>\n",
              "      <td>-0.251828</td>\n",
              "      <td>-0.170357</td>\n",
              "      <td>0.178140</td>\n",
              "    </tr>\n",
              "    <tr>\n",
              "      <th>7934</th>\n",
              "      <td>27</td>\n",
              "      <td>93</td>\n",
              "      <td>2</td>\n",
              "      <td>-0.269304</td>\n",
              "      <td>0</td>\n",
              "      <td>-2.933538</td>\n",
              "      <td>-3.207828</td>\n",
              "      <td>-2.367576</td>\n",
              "      <td>-2.688525</td>\n",
              "      <td>-2.980474</td>\n",
              "      <td>...</td>\n",
              "      <td>0.233828</td>\n",
              "      <td>-0.578422</td>\n",
              "      <td>-0.719645</td>\n",
              "      <td>-0.427710</td>\n",
              "      <td>0.921387</td>\n",
              "      <td>-0.743673</td>\n",
              "      <td>-0.513731</td>\n",
              "      <td>-1.377863</td>\n",
              "      <td>0.009450</td>\n",
              "      <td>-0.685360</td>\n",
              "    </tr>\n",
              "    <tr>\n",
              "      <th>6202</th>\n",
              "      <td>21</td>\n",
              "      <td>50</td>\n",
              "      <td>3</td>\n",
              "      <td>-0.162400</td>\n",
              "      <td>0</td>\n",
              "      <td>-0.772831</td>\n",
              "      <td>-0.605642</td>\n",
              "      <td>-0.381674</td>\n",
              "      <td>-0.929726</td>\n",
              "      <td>-0.446051</td>\n",
              "      <td>...</td>\n",
              "      <td>-0.174425</td>\n",
              "      <td>-0.094928</td>\n",
              "      <td>0.082219</td>\n",
              "      <td>0.084144</td>\n",
              "      <td>0.271157</td>\n",
              "      <td>0.219539</td>\n",
              "      <td>0.202290</td>\n",
              "      <td>-0.005540</td>\n",
              "      <td>0.352152</td>\n",
              "      <td>0.539645</td>\n",
              "    </tr>\n",
              "    <tr>\n",
              "      <th>18739</th>\n",
              "      <td>64</td>\n",
              "      <td>12</td>\n",
              "      <td>2</td>\n",
              "      <td>-0.247683</td>\n",
              "      <td>0</td>\n",
              "      <td>-0.879219</td>\n",
              "      <td>-1.345546</td>\n",
              "      <td>-1.611606</td>\n",
              "      <td>-1.358831</td>\n",
              "      <td>-0.897711</td>\n",
              "      <td>...</td>\n",
              "      <td>-0.801472</td>\n",
              "      <td>0.048841</td>\n",
              "      <td>0.385837</td>\n",
              "      <td>1.012784</td>\n",
              "      <td>0.352042</td>\n",
              "      <td>-0.348347</td>\n",
              "      <td>0.701351</td>\n",
              "      <td>0.312842</td>\n",
              "      <td>0.683218</td>\n",
              "      <td>0.267562</td>\n",
              "    </tr>\n",
              "    <tr>\n",
              "      <th>21470</th>\n",
              "      <td>73</td>\n",
              "      <td>65</td>\n",
              "      <td>2</td>\n",
              "      <td>-0.264499</td>\n",
              "      <td>0</td>\n",
              "      <td>-0.381756</td>\n",
              "      <td>0.300359</td>\n",
              "      <td>-0.585932</td>\n",
              "      <td>-0.379401</td>\n",
              "      <td>0.243633</td>\n",
              "      <td>...</td>\n",
              "      <td>-1.283029</td>\n",
              "      <td>0.350726</td>\n",
              "      <td>0.320621</td>\n",
              "      <td>0.448999</td>\n",
              "      <td>0.288771</td>\n",
              "      <td>0.440948</td>\n",
              "      <td>0.611814</td>\n",
              "      <td>0.895380</td>\n",
              "      <td>0.945176</td>\n",
              "      <td>1.110255</td>\n",
              "    </tr>\n",
              "  </tbody>\n",
              "</table>\n",
              "<p>5 rows × 41 columns</p>\n",
              "</div>\n",
              "      <button class=\"colab-df-convert\" onclick=\"convertToInteractive('df-6473a9d5-7cb1-4958-8e36-78905b047e17')\"\n",
              "              title=\"Convert this dataframe to an interactive table.\"\n",
              "              style=\"display:none;\">\n",
              "        \n",
              "  <svg xmlns=\"http://www.w3.org/2000/svg\" height=\"24px\"viewBox=\"0 0 24 24\"\n",
              "       width=\"24px\">\n",
              "    <path d=\"M0 0h24v24H0V0z\" fill=\"none\"/>\n",
              "    <path d=\"M18.56 5.44l.94 2.06.94-2.06 2.06-.94-2.06-.94-.94-2.06-.94 2.06-2.06.94zm-11 1L8.5 8.5l.94-2.06 2.06-.94-2.06-.94L8.5 2.5l-.94 2.06-2.06.94zm10 10l.94 2.06.94-2.06 2.06-.94-2.06-.94-.94-2.06-.94 2.06-2.06.94z\"/><path d=\"M17.41 7.96l-1.37-1.37c-.4-.4-.92-.59-1.43-.59-.52 0-1.04.2-1.43.59L10.3 9.45l-7.72 7.72c-.78.78-.78 2.05 0 2.83L4 21.41c.39.39.9.59 1.41.59.51 0 1.02-.2 1.41-.59l7.78-7.78 2.81-2.81c.8-.78.8-2.07 0-2.86zM5.41 20L4 18.59l7.72-7.72 1.47 1.35L5.41 20z\"/>\n",
              "  </svg>\n",
              "      </button>\n",
              "      \n",
              "  <style>\n",
              "    .colab-df-container {\n",
              "      display:flex;\n",
              "      flex-wrap:wrap;\n",
              "      gap: 12px;\n",
              "    }\n",
              "\n",
              "    .colab-df-convert {\n",
              "      background-color: #E8F0FE;\n",
              "      border: none;\n",
              "      border-radius: 50%;\n",
              "      cursor: pointer;\n",
              "      display: none;\n",
              "      fill: #1967D2;\n",
              "      height: 32px;\n",
              "      padding: 0 0 0 0;\n",
              "      width: 32px;\n",
              "    }\n",
              "\n",
              "    .colab-df-convert:hover {\n",
              "      background-color: #E2EBFA;\n",
              "      box-shadow: 0px 1px 2px rgba(60, 64, 67, 0.3), 0px 1px 3px 1px rgba(60, 64, 67, 0.15);\n",
              "      fill: #174EA6;\n",
              "    }\n",
              "\n",
              "    [theme=dark] .colab-df-convert {\n",
              "      background-color: #3B4455;\n",
              "      fill: #D2E3FC;\n",
              "    }\n",
              "\n",
              "    [theme=dark] .colab-df-convert:hover {\n",
              "      background-color: #434B5C;\n",
              "      box-shadow: 0px 1px 3px 1px rgba(0, 0, 0, 0.15);\n",
              "      filter: drop-shadow(0px 1px 2px rgba(0, 0, 0, 0.3));\n",
              "      fill: #FFFFFF;\n",
              "    }\n",
              "  </style>\n",
              "\n",
              "      <script>\n",
              "        const buttonEl =\n",
              "          document.querySelector('#df-6473a9d5-7cb1-4958-8e36-78905b047e17 button.colab-df-convert');\n",
              "        buttonEl.style.display =\n",
              "          google.colab.kernel.accessAllowed ? 'block' : 'none';\n",
              "\n",
              "        async function convertToInteractive(key) {\n",
              "          const element = document.querySelector('#df-6473a9d5-7cb1-4958-8e36-78905b047e17');\n",
              "          const dataTable =\n",
              "            await google.colab.kernel.invokeFunction('convertToInteractive',\n",
              "                                                     [key], {});\n",
              "          if (!dataTable) return;\n",
              "\n",
              "          const docLinkHtml = 'Like what you see? Visit the ' +\n",
              "            '<a target=\"_blank\" href=https://colab.research.google.com/notebooks/data_table.ipynb>data table notebook</a>'\n",
              "            + ' to learn more about interactive tables.';\n",
              "          element.innerHTML = '';\n",
              "          dataTable['output_type'] = 'display_data';\n",
              "          await google.colab.output.renderOutput(dataTable, element);\n",
              "          const docLink = document.createElement('div');\n",
              "          docLink.innerHTML = docLinkHtml;\n",
              "          element.appendChild(docLink);\n",
              "        }\n",
              "      </script>\n",
              "    </div>\n",
              "  </div>\n",
              "  "
            ]
          },
          "metadata": {},
          "execution_count": 97
        }
      ]
    },
    {
      "cell_type": "markdown",
      "source": [
        "Now we have an idea of what features are the most important!\n",
        "\n",
        "# HYPERPARAMETER TUNING"
      ],
      "metadata": {
        "id": "oMieGz8RTcua"
      }
    },
    {
      "cell_type": "code",
      "source": [
        "from sklearn.metrics import classification_report, confusion_matrix\n",
        "predictions=clf_nsvm.predict(X_test)\n",
        "print(classification_report(y_test, predictions))"
      ],
      "metadata": {
        "colab": {
          "base_uri": "https://localhost:8080/"
        },
        "id": "0ToxpqbBTY2l",
        "outputId": "a7333d06-e6fc-4026-bea8-aa0196ce2629"
      },
      "execution_count": null,
      "outputs": [
        {
          "output_type": "stream",
          "name": "stdout",
          "text": [
            "              precision    recall  f1-score   support\n",
            "\n",
            "           0       1.00      0.90      0.95      2781\n",
            "           1       0.94      1.00      0.97      4180\n",
            "\n",
            "    accuracy                           0.96      6961\n",
            "   macro avg       0.97      0.95      0.96      6961\n",
            "weighted avg       0.96      0.96      0.96      6961\n",
            "\n"
          ]
        }
      ]
    },
    {
      "cell_type": "markdown",
      "source": [
        "Looks like our Non_linear svm model has performed well in every domain! \n",
        "\n",
        "## using GridsearchCV for tuning the N- svm"
      ],
      "metadata": {
        "id": "WgMcQwqxUs3g"
      }
    },
    {
      "cell_type": "code",
      "source": [
        "from sklearn.model_selection import GridSearchCV\n",
        "from sklearn import svm\n",
        "  \n",
        "# defining parameter range\n",
        "param_grid = {'C': [0.1, 1, 10, 100, 1000], \n",
        "              'gamma': [1, 0.1, 0.01, 0.001, 0.0001],\n",
        "              'kernel': ['rbf']} \n",
        "  \n",
        "clf_grid_nsvm = GridSearchCV(svm.SVC(), param_grid, refit = True, verbose = 3)\n",
        "  \n",
        "# fitting the model for grid search\n",
        "clf_grid_nsvm.fit(X_train, y_train)"
      ],
      "metadata": {
        "colab": {
          "base_uri": "https://localhost:8080/",
          "height": 1000
        },
        "id": "HAmbc6DTUWT4",
        "outputId": "b1c0cc54-711e-4130-85a7-a42bd73ec754"
      },
      "execution_count": null,
      "outputs": [
        {
          "output_type": "stream",
          "name": "stdout",
          "text": [
            "Fitting 5 folds for each of 25 candidates, totalling 125 fits\n",
            "[CV 1/5] END ........C=0.1, gamma=1, kernel=rbf;, score=0.603 total time=  40.3s\n",
            "[CV 2/5] END ........C=0.1, gamma=1, kernel=rbf;, score=0.603 total time=  40.4s\n",
            "[CV 3/5] END ........C=0.1, gamma=1, kernel=rbf;, score=0.603 total time=  41.5s\n",
            "[CV 4/5] END ........C=0.1, gamma=1, kernel=rbf;, score=0.603 total time=  40.4s\n",
            "[CV 5/5] END ........C=0.1, gamma=1, kernel=rbf;, score=0.603 total time=  40.1s\n",
            "[CV 1/5] END ......C=0.1, gamma=0.1, kernel=rbf;, score=0.604 total time=  21.3s\n",
            "[CV 2/5] END ......C=0.1, gamma=0.1, kernel=rbf;, score=0.604 total time=  21.1s\n",
            "[CV 3/5] END ......C=0.1, gamma=0.1, kernel=rbf;, score=0.605 total time=  22.3s\n",
            "[CV 4/5] END ......C=0.1, gamma=0.1, kernel=rbf;, score=0.605 total time=  20.3s\n",
            "[CV 5/5] END ......C=0.1, gamma=0.1, kernel=rbf;, score=0.604 total time=  21.9s\n",
            "[CV 1/5] END .....C=0.1, gamma=0.01, kernel=rbf;, score=0.973 total time=   4.3s\n",
            "[CV 2/5] END .....C=0.1, gamma=0.01, kernel=rbf;, score=0.973 total time=   4.5s\n",
            "[CV 3/5] END .....C=0.1, gamma=0.01, kernel=rbf;, score=0.973 total time=   5.6s\n",
            "[CV 4/5] END .....C=0.1, gamma=0.01, kernel=rbf;, score=0.972 total time=   4.4s\n",
            "[CV 5/5] END .....C=0.1, gamma=0.01, kernel=rbf;, score=0.977 total time=   4.5s\n",
            "[CV 1/5] END ....C=0.1, gamma=0.001, kernel=rbf;, score=0.894 total time=   6.3s\n",
            "[CV 2/5] END ....C=0.1, gamma=0.001, kernel=rbf;, score=0.902 total time=   5.8s\n",
            "[CV 3/5] END ....C=0.1, gamma=0.001, kernel=rbf;, score=0.895 total time=   6.1s\n",
            "[CV 4/5] END ....C=0.1, gamma=0.001, kernel=rbf;, score=0.897 total time=   4.9s\n",
            "[CV 5/5] END ....C=0.1, gamma=0.001, kernel=rbf;, score=0.895 total time=   5.3s\n",
            "[CV 1/5] END ...C=0.1, gamma=0.0001, kernel=rbf;, score=0.893 total time=  10.2s\n",
            "[CV 2/5] END ...C=0.1, gamma=0.0001, kernel=rbf;, score=0.905 total time=  11.0s\n",
            "[CV 3/5] END ...C=0.1, gamma=0.0001, kernel=rbf;, score=0.898 total time=  10.4s\n",
            "[CV 4/5] END ...C=0.1, gamma=0.0001, kernel=rbf;, score=0.900 total time=  10.3s\n",
            "[CV 5/5] END ...C=0.1, gamma=0.0001, kernel=rbf;, score=0.898 total time=  10.2s\n",
            "[CV 1/5] END ..........C=1, gamma=1, kernel=rbf;, score=0.603 total time=  54.5s\n",
            "[CV 2/5] END ..........C=1, gamma=1, kernel=rbf;, score=0.603 total time=  54.0s\n",
            "[CV 3/5] END ..........C=1, gamma=1, kernel=rbf;, score=0.603 total time=  53.3s\n",
            "[CV 4/5] END ..........C=1, gamma=1, kernel=rbf;, score=0.603 total time=  55.7s\n",
            "[CV 5/5] END ..........C=1, gamma=1, kernel=rbf;, score=0.603 total time=  55.0s\n",
            "[CV 1/5] END ........C=1, gamma=0.1, kernel=rbf;, score=0.892 total time=  40.8s\n",
            "[CV 2/5] END ........C=1, gamma=0.1, kernel=rbf;, score=0.906 total time=  40.9s\n",
            "[CV 3/5] END ........C=1, gamma=0.1, kernel=rbf;, score=0.896 total time=  40.8s\n",
            "[CV 4/5] END ........C=1, gamma=0.1, kernel=rbf;, score=0.892 total time=  39.9s\n",
            "[CV 5/5] END ........C=1, gamma=0.1, kernel=rbf;, score=0.903 total time=  40.7s\n",
            "[CV 1/5] END .......C=1, gamma=0.01, kernel=rbf;, score=0.993 total time=   2.8s\n",
            "[CV 2/5] END .......C=1, gamma=0.01, kernel=rbf;, score=0.990 total time=   2.9s\n",
            "[CV 3/5] END .......C=1, gamma=0.01, kernel=rbf;, score=0.992 total time=   2.3s\n",
            "[CV 4/5] END .......C=1, gamma=0.01, kernel=rbf;, score=0.991 total time=   2.2s\n",
            "[CV 5/5] END .......C=1, gamma=0.01, kernel=rbf;, score=0.994 total time=   2.2s\n",
            "[CV 1/5] END ......C=1, gamma=0.001, kernel=rbf;, score=0.976 total time=   4.2s\n",
            "[CV 2/5] END ......C=1, gamma=0.001, kernel=rbf;, score=0.968 total time=   4.3s\n",
            "[CV 3/5] END ......C=1, gamma=0.001, kernel=rbf;, score=0.970 total time=   3.5s\n",
            "[CV 4/5] END ......C=1, gamma=0.001, kernel=rbf;, score=0.970 total time=   3.5s\n",
            "[CV 5/5] END ......C=1, gamma=0.001, kernel=rbf;, score=0.977 total time=   4.7s\n",
            "[CV 1/5] END .....C=1, gamma=0.0001, kernel=rbf;, score=0.888 total time=   8.5s\n",
            "[CV 2/5] END .....C=1, gamma=0.0001, kernel=rbf;, score=0.900 total time=   9.6s\n",
            "[CV 3/5] END .....C=1, gamma=0.0001, kernel=rbf;, score=0.891 total time=   9.5s\n",
            "[CV 4/5] END .....C=1, gamma=0.0001, kernel=rbf;, score=0.894 total time=   8.6s\n",
            "[CV 5/5] END .....C=1, gamma=0.0001, kernel=rbf;, score=0.891 total time=   9.5s\n",
            "[CV 1/5] END .........C=10, gamma=1, kernel=rbf;, score=0.603 total time= 1.5min\n",
            "[CV 2/5] END .........C=10, gamma=1, kernel=rbf;, score=0.603 total time= 1.5min\n",
            "[CV 3/5] END .........C=10, gamma=1, kernel=rbf;, score=0.603 total time= 1.5min\n",
            "[CV 4/5] END .........C=10, gamma=1, kernel=rbf;, score=0.603 total time= 1.5min\n",
            "[CV 5/5] END .........C=10, gamma=1, kernel=rbf;, score=0.603 total time= 1.5min\n",
            "[CV 1/5] END .......C=10, gamma=0.1, kernel=rbf;, score=0.900 total time=  42.6s\n",
            "[CV 2/5] END .......C=10, gamma=0.1, kernel=rbf;, score=0.911 total time=  44.2s\n",
            "[CV 3/5] END .......C=10, gamma=0.1, kernel=rbf;, score=0.909 total time=  43.5s\n",
            "[CV 4/5] END .......C=10, gamma=0.1, kernel=rbf;, score=0.902 total time=  45.7s\n",
            "[CV 5/5] END .......C=10, gamma=0.1, kernel=rbf;, score=0.912 total time=  43.4s\n",
            "[CV 1/5] END ......C=10, gamma=0.01, kernel=rbf;, score=0.994 total time=   1.6s\n",
            "[CV 2/5] END ......C=10, gamma=0.01, kernel=rbf;, score=0.992 total time=   1.5s\n",
            "[CV 3/5] END ......C=10, gamma=0.01, kernel=rbf;, score=0.995 total time=   1.6s\n",
            "[CV 4/5] END ......C=10, gamma=0.01, kernel=rbf;, score=0.994 total time=   1.5s\n",
            "[CV 5/5] END ......C=10, gamma=0.01, kernel=rbf;, score=0.993 total time=   1.6s\n",
            "[CV 1/5] END .....C=10, gamma=0.001, kernel=rbf;, score=0.998 total time=   2.6s\n",
            "[CV 2/5] END .....C=10, gamma=0.001, kernel=rbf;, score=0.993 total time=   2.4s\n",
            "[CV 3/5] END .....C=10, gamma=0.001, kernel=rbf;, score=0.995 total time=   1.8s\n",
            "[CV 4/5] END .....C=10, gamma=0.001, kernel=rbf;, score=0.996 total time=   1.8s\n",
            "[CV 5/5] END .....C=10, gamma=0.001, kernel=rbf;, score=0.996 total time=   1.7s\n",
            "[CV 1/5] END ....C=10, gamma=0.0001, kernel=rbf;, score=0.892 total time=   6.4s\n",
            "[CV 2/5] END ....C=10, gamma=0.0001, kernel=rbf;, score=0.900 total time=   6.4s\n",
            "[CV 3/5] END ....C=10, gamma=0.0001, kernel=rbf;, score=0.892 total time=   6.3s\n",
            "[CV 4/5] END ....C=10, gamma=0.0001, kernel=rbf;, score=0.896 total time=   6.9s\n",
            "[CV 5/5] END ....C=10, gamma=0.0001, kernel=rbf;, score=0.891 total time=   5.9s\n",
            "[CV 1/5] END ........C=100, gamma=1, kernel=rbf;, score=0.603 total time= 1.5min\n",
            "[CV 2/5] END ........C=100, gamma=1, kernel=rbf;, score=0.603 total time= 1.5min\n",
            "[CV 3/5] END ........C=100, gamma=1, kernel=rbf;, score=0.603 total time= 1.5min\n",
            "[CV 4/5] END ........C=100, gamma=1, kernel=rbf;, score=0.603 total time= 1.5min\n",
            "[CV 5/5] END ........C=100, gamma=1, kernel=rbf;, score=0.603 total time= 1.5min\n",
            "[CV 1/5] END ......C=100, gamma=0.1, kernel=rbf;, score=0.900 total time=  43.6s\n",
            "[CV 2/5] END ......C=100, gamma=0.1, kernel=rbf;, score=0.911 total time=  44.2s\n",
            "[CV 3/5] END ......C=100, gamma=0.1, kernel=rbf;, score=0.909 total time=  43.6s\n",
            "[CV 4/5] END ......C=100, gamma=0.1, kernel=rbf;, score=0.902 total time=  43.5s\n",
            "[CV 5/5] END ......C=100, gamma=0.1, kernel=rbf;, score=0.912 total time=  44.7s\n",
            "[CV 1/5] END .....C=100, gamma=0.01, kernel=rbf;, score=0.994 total time=   1.8s\n",
            "[CV 2/5] END .....C=100, gamma=0.01, kernel=rbf;, score=0.992 total time=   2.4s\n",
            "[CV 3/5] END .....C=100, gamma=0.01, kernel=rbf;, score=0.995 total time=   1.8s\n",
            "[CV 4/5] END .....C=100, gamma=0.01, kernel=rbf;, score=0.994 total time=   1.5s\n",
            "[CV 5/5] END .....C=100, gamma=0.01, kernel=rbf;, score=0.993 total time=   1.6s\n",
            "[CV 1/5] END ....C=100, gamma=0.001, kernel=rbf;, score=0.997 total time=   1.0s\n",
            "[CV 2/5] END ....C=100, gamma=0.001, kernel=rbf;, score=0.997 total time=   1.0s\n",
            "[CV 3/5] END ....C=100, gamma=0.001, kernel=rbf;, score=0.996 total time=   1.1s\n",
            "[CV 4/5] END ....C=100, gamma=0.001, kernel=rbf;, score=0.997 total time=   1.1s\n",
            "[CV 5/5] END ....C=100, gamma=0.001, kernel=rbf;, score=0.997 total time=   1.1s\n",
            "[CV 1/5] END ...C=100, gamma=0.0001, kernel=rbf;, score=0.903 total time=   5.6s\n",
            "[CV 2/5] END ...C=100, gamma=0.0001, kernel=rbf;, score=0.922 total time=   4.4s\n",
            "[CV 3/5] END ...C=100, gamma=0.0001, kernel=rbf;, score=0.907 total time=   4.7s\n",
            "[CV 4/5] END ...C=100, gamma=0.0001, kernel=rbf;, score=0.914 total time=   5.5s\n",
            "[CV 5/5] END ...C=100, gamma=0.0001, kernel=rbf;, score=0.910 total time=   4.4s\n",
            "[CV 1/5] END .......C=1000, gamma=1, kernel=rbf;, score=0.603 total time= 1.5min\n",
            "[CV 2/5] END .......C=1000, gamma=1, kernel=rbf;, score=0.603 total time= 1.6min\n",
            "[CV 3/5] END .......C=1000, gamma=1, kernel=rbf;, score=0.603 total time= 1.6min\n",
            "[CV 4/5] END .......C=1000, gamma=1, kernel=rbf;, score=0.603 total time= 1.6min\n",
            "[CV 5/5] END .......C=1000, gamma=1, kernel=rbf;, score=0.603 total time= 1.5min\n",
            "[CV 1/5] END .....C=1000, gamma=0.1, kernel=rbf;, score=0.900 total time=  43.2s\n",
            "[CV 2/5] END .....C=1000, gamma=0.1, kernel=rbf;, score=0.911 total time=  44.3s\n",
            "[CV 3/5] END .....C=1000, gamma=0.1, kernel=rbf;, score=0.909 total time=  43.4s\n",
            "[CV 4/5] END .....C=1000, gamma=0.1, kernel=rbf;, score=0.902 total time=  42.7s\n",
            "[CV 5/5] END .....C=1000, gamma=0.1, kernel=rbf;, score=0.912 total time=  44.2s\n",
            "[CV 1/5] END ....C=1000, gamma=0.01, kernel=rbf;, score=0.994 total time=   1.5s\n",
            "[CV 2/5] END ....C=1000, gamma=0.01, kernel=rbf;, score=0.992 total time=   1.8s\n",
            "[CV 3/5] END ....C=1000, gamma=0.01, kernel=rbf;, score=0.995 total time=   2.4s\n",
            "[CV 4/5] END ....C=1000, gamma=0.01, kernel=rbf;, score=0.994 total time=   1.7s\n",
            "[CV 5/5] END ....C=1000, gamma=0.01, kernel=rbf;, score=0.993 total time=   1.5s\n",
            "[CV 1/5] END ...C=1000, gamma=0.001, kernel=rbf;, score=0.998 total time=   1.2s\n",
            "[CV 2/5] END ...C=1000, gamma=0.001, kernel=rbf;, score=0.999 total time=   1.2s\n",
            "[CV 3/5] END ...C=1000, gamma=0.001, kernel=rbf;, score=0.998 total time=   1.2s\n",
            "[CV 4/5] END ...C=1000, gamma=0.001, kernel=rbf;, score=0.999 total time=   1.2s\n",
            "[CV 5/5] END ...C=1000, gamma=0.001, kernel=rbf;, score=0.997 total time=   1.1s\n",
            "[CV 1/5] END ..C=1000, gamma=0.0001, kernel=rbf;, score=0.987 total time=   5.5s\n",
            "[CV 2/5] END ..C=1000, gamma=0.0001, kernel=rbf;, score=0.976 total time=   4.4s\n",
            "[CV 3/5] END ..C=1000, gamma=0.0001, kernel=rbf;, score=0.983 total time=   4.5s\n",
            "[CV 4/5] END ..C=1000, gamma=0.0001, kernel=rbf;, score=0.980 total time=   5.5s\n",
            "[CV 5/5] END ..C=1000, gamma=0.0001, kernel=rbf;, score=0.983 total time=   4.4s\n"
          ]
        },
        {
          "output_type": "execute_result",
          "data": {
            "text/plain": [
              "GridSearchCV(estimator=SVC(),\n",
              "             param_grid={'C': [0.1, 1, 10, 100, 1000],\n",
              "                         'gamma': [1, 0.1, 0.01, 0.001, 0.0001],\n",
              "                         'kernel': ['rbf']},\n",
              "             verbose=3)"
            ],
            "text/html": [
              "<style>#sk-container-id-4 {color: black;background-color: white;}#sk-container-id-4 pre{padding: 0;}#sk-container-id-4 div.sk-toggleable {background-color: white;}#sk-container-id-4 label.sk-toggleable__label {cursor: pointer;display: block;width: 100%;margin-bottom: 0;padding: 0.3em;box-sizing: border-box;text-align: center;}#sk-container-id-4 label.sk-toggleable__label-arrow:before {content: \"▸\";float: left;margin-right: 0.25em;color: #696969;}#sk-container-id-4 label.sk-toggleable__label-arrow:hover:before {color: black;}#sk-container-id-4 div.sk-estimator:hover label.sk-toggleable__label-arrow:before {color: black;}#sk-container-id-4 div.sk-toggleable__content {max-height: 0;max-width: 0;overflow: hidden;text-align: left;background-color: #f0f8ff;}#sk-container-id-4 div.sk-toggleable__content pre {margin: 0.2em;color: black;border-radius: 0.25em;background-color: #f0f8ff;}#sk-container-id-4 input.sk-toggleable__control:checked~div.sk-toggleable__content {max-height: 200px;max-width: 100%;overflow: auto;}#sk-container-id-4 input.sk-toggleable__control:checked~label.sk-toggleable__label-arrow:before {content: \"▾\";}#sk-container-id-4 div.sk-estimator input.sk-toggleable__control:checked~label.sk-toggleable__label {background-color: #d4ebff;}#sk-container-id-4 div.sk-label input.sk-toggleable__control:checked~label.sk-toggleable__label {background-color: #d4ebff;}#sk-container-id-4 input.sk-hidden--visually {border: 0;clip: rect(1px 1px 1px 1px);clip: rect(1px, 1px, 1px, 1px);height: 1px;margin: -1px;overflow: hidden;padding: 0;position: absolute;width: 1px;}#sk-container-id-4 div.sk-estimator {font-family: monospace;background-color: #f0f8ff;border: 1px dotted black;border-radius: 0.25em;box-sizing: border-box;margin-bottom: 0.5em;}#sk-container-id-4 div.sk-estimator:hover {background-color: #d4ebff;}#sk-container-id-4 div.sk-parallel-item::after {content: \"\";width: 100%;border-bottom: 1px solid gray;flex-grow: 1;}#sk-container-id-4 div.sk-label:hover label.sk-toggleable__label {background-color: #d4ebff;}#sk-container-id-4 div.sk-serial::before {content: \"\";position: absolute;border-left: 1px solid gray;box-sizing: border-box;top: 0;bottom: 0;left: 50%;z-index: 0;}#sk-container-id-4 div.sk-serial {display: flex;flex-direction: column;align-items: center;background-color: white;padding-right: 0.2em;padding-left: 0.2em;position: relative;}#sk-container-id-4 div.sk-item {position: relative;z-index: 1;}#sk-container-id-4 div.sk-parallel {display: flex;align-items: stretch;justify-content: center;background-color: white;position: relative;}#sk-container-id-4 div.sk-item::before, #sk-container-id-4 div.sk-parallel-item::before {content: \"\";position: absolute;border-left: 1px solid gray;box-sizing: border-box;top: 0;bottom: 0;left: 50%;z-index: -1;}#sk-container-id-4 div.sk-parallel-item {display: flex;flex-direction: column;z-index: 1;position: relative;background-color: white;}#sk-container-id-4 div.sk-parallel-item:first-child::after {align-self: flex-end;width: 50%;}#sk-container-id-4 div.sk-parallel-item:last-child::after {align-self: flex-start;width: 50%;}#sk-container-id-4 div.sk-parallel-item:only-child::after {width: 0;}#sk-container-id-4 div.sk-dashed-wrapped {border: 1px dashed gray;margin: 0 0.4em 0.5em 0.4em;box-sizing: border-box;padding-bottom: 0.4em;background-color: white;}#sk-container-id-4 div.sk-label label {font-family: monospace;font-weight: bold;display: inline-block;line-height: 1.2em;}#sk-container-id-4 div.sk-label-container {text-align: center;}#sk-container-id-4 div.sk-container {/* jupyter's `normalize.less` sets `[hidden] { display: none; }` but bootstrap.min.css set `[hidden] { display: none !important; }` so we also need the `!important` here to be able to override the default hidden behavior on the sphinx rendered scikit-learn.org. See: https://github.com/scikit-learn/scikit-learn/issues/21755 */display: inline-block !important;position: relative;}#sk-container-id-4 div.sk-text-repr-fallback {display: none;}</style><div id=\"sk-container-id-4\" class=\"sk-top-container\"><div class=\"sk-text-repr-fallback\"><pre>GridSearchCV(estimator=SVC(),\n",
              "             param_grid={&#x27;C&#x27;: [0.1, 1, 10, 100, 1000],\n",
              "                         &#x27;gamma&#x27;: [1, 0.1, 0.01, 0.001, 0.0001],\n",
              "                         &#x27;kernel&#x27;: [&#x27;rbf&#x27;]},\n",
              "             verbose=3)</pre><b>In a Jupyter environment, please rerun this cell to show the HTML representation or trust the notebook. <br />On GitHub, the HTML representation is unable to render, please try loading this page with nbviewer.org.</b></div><div class=\"sk-container\" hidden><div class=\"sk-item sk-dashed-wrapped\"><div class=\"sk-label-container\"><div class=\"sk-label sk-toggleable\"><input class=\"sk-toggleable__control sk-hidden--visually\" id=\"sk-estimator-id-4\" type=\"checkbox\" ><label for=\"sk-estimator-id-4\" class=\"sk-toggleable__label sk-toggleable__label-arrow\">GridSearchCV</label><div class=\"sk-toggleable__content\"><pre>GridSearchCV(estimator=SVC(),\n",
              "             param_grid={&#x27;C&#x27;: [0.1, 1, 10, 100, 1000],\n",
              "                         &#x27;gamma&#x27;: [1, 0.1, 0.01, 0.001, 0.0001],\n",
              "                         &#x27;kernel&#x27;: [&#x27;rbf&#x27;]},\n",
              "             verbose=3)</pre></div></div></div><div class=\"sk-parallel\"><div class=\"sk-parallel-item\"><div class=\"sk-item\"><div class=\"sk-label-container\"><div class=\"sk-label sk-toggleable\"><input class=\"sk-toggleable__control sk-hidden--visually\" id=\"sk-estimator-id-5\" type=\"checkbox\" ><label for=\"sk-estimator-id-5\" class=\"sk-toggleable__label sk-toggleable__label-arrow\">estimator: SVC</label><div class=\"sk-toggleable__content\"><pre>SVC()</pre></div></div></div><div class=\"sk-serial\"><div class=\"sk-item\"><div class=\"sk-estimator sk-toggleable\"><input class=\"sk-toggleable__control sk-hidden--visually\" id=\"sk-estimator-id-6\" type=\"checkbox\" ><label for=\"sk-estimator-id-6\" class=\"sk-toggleable__label sk-toggleable__label-arrow\">SVC</label><div class=\"sk-toggleable__content\"><pre>SVC()</pre></div></div></div></div></div></div></div></div></div></div>"
            ]
          },
          "metadata": {},
          "execution_count": 38
        }
      ]
    },
    {
      "cell_type": "code",
      "source": [
        "\n",
        "# print best parameter after tuning\n",
        "print(clf_grid_nsvm.best_params_)\n",
        "  \n",
        "# print how our model looks after hyper-parameter tuning\n",
        "print(clf_grid_nsvm.best_estimator_)"
      ],
      "metadata": {
        "colab": {
          "base_uri": "https://localhost:8080/"
        },
        "id": "hF-LGs-TVAHe",
        "outputId": "3417a227-1892-4f06-8a7e-3aa2ff3b1c0d"
      },
      "execution_count": null,
      "outputs": [
        {
          "output_type": "stream",
          "name": "stdout",
          "text": [
            "{'C': 1000, 'gamma': 0.001, 'kernel': 'rbf'}\n",
            "SVC(C=1000, gamma=0.001)\n"
          ]
        }
      ]
    },
    {
      "cell_type": "code",
      "source": [
        "grid_predictions = clf_grid_nsvm.predict(X_test)\n",
        "  \n",
        "# print classification report\n",
        "print(classification_report(y_test, grid_predictions))"
      ],
      "metadata": {
        "colab": {
          "base_uri": "https://localhost:8080/"
        },
        "id": "yWGZ0D6iga1J",
        "outputId": "59b253e2-4bb3-48cb-ad92-2f25a391967f"
      },
      "execution_count": null,
      "outputs": [
        {
          "output_type": "stream",
          "name": "stdout",
          "text": [
            "              precision    recall  f1-score   support\n",
            "\n",
            "           0       1.00      1.00      1.00      2781\n",
            "           1       1.00      1.00      1.00      4180\n",
            "\n",
            "    accuracy                           1.00      6961\n",
            "   macro avg       1.00      1.00      1.00      6961\n",
            "weighted avg       1.00      1.00      1.00      6961\n",
            "\n"
          ]
        }
      ]
    },
    {
      "cell_type": "markdown",
      "source": [
        "This is amazing!!!!!!!!!\n",
        "we have got above 99 percentage in each set!"
      ],
      "metadata": {
        "id": "TpPGrw91gqIU"
      }
    },
    {
      "cell_type": "code",
      "source": [
        "data.head()"
      ],
      "metadata": {
        "colab": {
          "base_uri": "https://localhost:8080/",
          "height": 317
        },
        "id": "ghhiNrtygokp",
        "outputId": "6ca8b864-57d5-49b8-f9a7-71336e119d93"
      },
      "execution_count": null,
      "outputs": [
        {
          "output_type": "execute_result",
          "data": {
            "text/plain": [
              "   Unnamed: 0  subject  trial  condition          ITI  rejected   Fz_N100  \\\n",
              "0           0        1      1          1  2188.423423         0 -9.761338   \n",
              "1           1        1      2          1  2025.390600         0  8.717519   \n",
              "2           2        1      3          1  2303.710900         0 -4.027286   \n",
              "3           3        1      4          1  2275.390600         0  0.394095   \n",
              "4           4        1      5          1  2464.843800         0 -9.368090   \n",
              "\n",
              "    FCz_N100    Cz_N100  FC3_N100  ...      Fz_B1     FCz_B1      Cz_B1  \\\n",
              "0 -11.545219 -16.775214 -3.576595  ... -14.815963 -23.173850 -25.626646   \n",
              "1  11.462619   7.979110  9.429738  ...  19.337457  18.359870  15.224155   \n",
              "2  -3.992038  -1.104119 -3.319471  ...   5.443106   1.081921   0.316871   \n",
              "3  -0.663186  -1.372871  3.974643  ...   5.417850   3.702130   7.823421   \n",
              "4 -12.029829 -10.280100 -7.846471  ...  -6.464376  -6.817497  -6.286747   \n",
              "\n",
              "      FC3_B1     FC4_B1      C3_B1      C4_B1     CP3_B1     CP4_B1  group  \n",
              "0 -13.285282 -23.223037 -23.622596 -19.071931 -19.529142 -26.677147      0  \n",
              "1  13.442292  16.981404  11.953868  10.168470   5.831319   6.503993      0  \n",
              "2   1.199502   0.929950   1.343815   3.131847   3.691148   0.338882      0  \n",
              "3   5.336565  -0.448384   7.983687   6.579145   8.474662   9.381523      0  \n",
              "4   0.212776  -5.815893   2.517058  -1.101036  -4.325141  -4.832745      0  \n",
              "\n",
              "[5 rows x 43 columns]"
            ],
            "text/html": [
              "\n",
              "  <div id=\"df-1cca0e22-a204-4238-a45e-c1ad17bb18e5\">\n",
              "    <div class=\"colab-df-container\">\n",
              "      <div>\n",
              "<style scoped>\n",
              "    .dataframe tbody tr th:only-of-type {\n",
              "        vertical-align: middle;\n",
              "    }\n",
              "\n",
              "    .dataframe tbody tr th {\n",
              "        vertical-align: top;\n",
              "    }\n",
              "\n",
              "    .dataframe thead th {\n",
              "        text-align: right;\n",
              "    }\n",
              "</style>\n",
              "<table border=\"1\" class=\"dataframe\">\n",
              "  <thead>\n",
              "    <tr style=\"text-align: right;\">\n",
              "      <th></th>\n",
              "      <th>Unnamed: 0</th>\n",
              "      <th>subject</th>\n",
              "      <th>trial</th>\n",
              "      <th>condition</th>\n",
              "      <th>ITI</th>\n",
              "      <th>rejected</th>\n",
              "      <th>Fz_N100</th>\n",
              "      <th>FCz_N100</th>\n",
              "      <th>Cz_N100</th>\n",
              "      <th>FC3_N100</th>\n",
              "      <th>...</th>\n",
              "      <th>Fz_B1</th>\n",
              "      <th>FCz_B1</th>\n",
              "      <th>Cz_B1</th>\n",
              "      <th>FC3_B1</th>\n",
              "      <th>FC4_B1</th>\n",
              "      <th>C3_B1</th>\n",
              "      <th>C4_B1</th>\n",
              "      <th>CP3_B1</th>\n",
              "      <th>CP4_B1</th>\n",
              "      <th>group</th>\n",
              "    </tr>\n",
              "  </thead>\n",
              "  <tbody>\n",
              "    <tr>\n",
              "      <th>0</th>\n",
              "      <td>0</td>\n",
              "      <td>1</td>\n",
              "      <td>1</td>\n",
              "      <td>1</td>\n",
              "      <td>2188.423423</td>\n",
              "      <td>0</td>\n",
              "      <td>-9.761338</td>\n",
              "      <td>-11.545219</td>\n",
              "      <td>-16.775214</td>\n",
              "      <td>-3.576595</td>\n",
              "      <td>...</td>\n",
              "      <td>-14.815963</td>\n",
              "      <td>-23.173850</td>\n",
              "      <td>-25.626646</td>\n",
              "      <td>-13.285282</td>\n",
              "      <td>-23.223037</td>\n",
              "      <td>-23.622596</td>\n",
              "      <td>-19.071931</td>\n",
              "      <td>-19.529142</td>\n",
              "      <td>-26.677147</td>\n",
              "      <td>0</td>\n",
              "    </tr>\n",
              "    <tr>\n",
              "      <th>1</th>\n",
              "      <td>1</td>\n",
              "      <td>1</td>\n",
              "      <td>2</td>\n",
              "      <td>1</td>\n",
              "      <td>2025.390600</td>\n",
              "      <td>0</td>\n",
              "      <td>8.717519</td>\n",
              "      <td>11.462619</td>\n",
              "      <td>7.979110</td>\n",
              "      <td>9.429738</td>\n",
              "      <td>...</td>\n",
              "      <td>19.337457</td>\n",
              "      <td>18.359870</td>\n",
              "      <td>15.224155</td>\n",
              "      <td>13.442292</td>\n",
              "      <td>16.981404</td>\n",
              "      <td>11.953868</td>\n",
              "      <td>10.168470</td>\n",
              "      <td>5.831319</td>\n",
              "      <td>6.503993</td>\n",
              "      <td>0</td>\n",
              "    </tr>\n",
              "    <tr>\n",
              "      <th>2</th>\n",
              "      <td>2</td>\n",
              "      <td>1</td>\n",
              "      <td>3</td>\n",
              "      <td>1</td>\n",
              "      <td>2303.710900</td>\n",
              "      <td>0</td>\n",
              "      <td>-4.027286</td>\n",
              "      <td>-3.992038</td>\n",
              "      <td>-1.104119</td>\n",
              "      <td>-3.319471</td>\n",
              "      <td>...</td>\n",
              "      <td>5.443106</td>\n",
              "      <td>1.081921</td>\n",
              "      <td>0.316871</td>\n",
              "      <td>1.199502</td>\n",
              "      <td>0.929950</td>\n",
              "      <td>1.343815</td>\n",
              "      <td>3.131847</td>\n",
              "      <td>3.691148</td>\n",
              "      <td>0.338882</td>\n",
              "      <td>0</td>\n",
              "    </tr>\n",
              "    <tr>\n",
              "      <th>3</th>\n",
              "      <td>3</td>\n",
              "      <td>1</td>\n",
              "      <td>4</td>\n",
              "      <td>1</td>\n",
              "      <td>2275.390600</td>\n",
              "      <td>0</td>\n",
              "      <td>0.394095</td>\n",
              "      <td>-0.663186</td>\n",
              "      <td>-1.372871</td>\n",
              "      <td>3.974643</td>\n",
              "      <td>...</td>\n",
              "      <td>5.417850</td>\n",
              "      <td>3.702130</td>\n",
              "      <td>7.823421</td>\n",
              "      <td>5.336565</td>\n",
              "      <td>-0.448384</td>\n",
              "      <td>7.983687</td>\n",
              "      <td>6.579145</td>\n",
              "      <td>8.474662</td>\n",
              "      <td>9.381523</td>\n",
              "      <td>0</td>\n",
              "    </tr>\n",
              "    <tr>\n",
              "      <th>4</th>\n",
              "      <td>4</td>\n",
              "      <td>1</td>\n",
              "      <td>5</td>\n",
              "      <td>1</td>\n",
              "      <td>2464.843800</td>\n",
              "      <td>0</td>\n",
              "      <td>-9.368090</td>\n",
              "      <td>-12.029829</td>\n",
              "      <td>-10.280100</td>\n",
              "      <td>-7.846471</td>\n",
              "      <td>...</td>\n",
              "      <td>-6.464376</td>\n",
              "      <td>-6.817497</td>\n",
              "      <td>-6.286747</td>\n",
              "      <td>0.212776</td>\n",
              "      <td>-5.815893</td>\n",
              "      <td>2.517058</td>\n",
              "      <td>-1.101036</td>\n",
              "      <td>-4.325141</td>\n",
              "      <td>-4.832745</td>\n",
              "      <td>0</td>\n",
              "    </tr>\n",
              "  </tbody>\n",
              "</table>\n",
              "<p>5 rows × 43 columns</p>\n",
              "</div>\n",
              "      <button class=\"colab-df-convert\" onclick=\"convertToInteractive('df-1cca0e22-a204-4238-a45e-c1ad17bb18e5')\"\n",
              "              title=\"Convert this dataframe to an interactive table.\"\n",
              "              style=\"display:none;\">\n",
              "        \n",
              "  <svg xmlns=\"http://www.w3.org/2000/svg\" height=\"24px\"viewBox=\"0 0 24 24\"\n",
              "       width=\"24px\">\n",
              "    <path d=\"M0 0h24v24H0V0z\" fill=\"none\"/>\n",
              "    <path d=\"M18.56 5.44l.94 2.06.94-2.06 2.06-.94-2.06-.94-.94-2.06-.94 2.06-2.06.94zm-11 1L8.5 8.5l.94-2.06 2.06-.94-2.06-.94L8.5 2.5l-.94 2.06-2.06.94zm10 10l.94 2.06.94-2.06 2.06-.94-2.06-.94-.94-2.06-.94 2.06-2.06.94z\"/><path d=\"M17.41 7.96l-1.37-1.37c-.4-.4-.92-.59-1.43-.59-.52 0-1.04.2-1.43.59L10.3 9.45l-7.72 7.72c-.78.78-.78 2.05 0 2.83L4 21.41c.39.39.9.59 1.41.59.51 0 1.02-.2 1.41-.59l7.78-7.78 2.81-2.81c.8-.78.8-2.07 0-2.86zM5.41 20L4 18.59l7.72-7.72 1.47 1.35L5.41 20z\"/>\n",
              "  </svg>\n",
              "      </button>\n",
              "      \n",
              "  <style>\n",
              "    .colab-df-container {\n",
              "      display:flex;\n",
              "      flex-wrap:wrap;\n",
              "      gap: 12px;\n",
              "    }\n",
              "\n",
              "    .colab-df-convert {\n",
              "      background-color: #E8F0FE;\n",
              "      border: none;\n",
              "      border-radius: 50%;\n",
              "      cursor: pointer;\n",
              "      display: none;\n",
              "      fill: #1967D2;\n",
              "      height: 32px;\n",
              "      padding: 0 0 0 0;\n",
              "      width: 32px;\n",
              "    }\n",
              "\n",
              "    .colab-df-convert:hover {\n",
              "      background-color: #E2EBFA;\n",
              "      box-shadow: 0px 1px 2px rgba(60, 64, 67, 0.3), 0px 1px 3px 1px rgba(60, 64, 67, 0.15);\n",
              "      fill: #174EA6;\n",
              "    }\n",
              "\n",
              "    [theme=dark] .colab-df-convert {\n",
              "      background-color: #3B4455;\n",
              "      fill: #D2E3FC;\n",
              "    }\n",
              "\n",
              "    [theme=dark] .colab-df-convert:hover {\n",
              "      background-color: #434B5C;\n",
              "      box-shadow: 0px 1px 3px 1px rgba(0, 0, 0, 0.15);\n",
              "      filter: drop-shadow(0px 1px 2px rgba(0, 0, 0, 0.3));\n",
              "      fill: #FFFFFF;\n",
              "    }\n",
              "  </style>\n",
              "\n",
              "      <script>\n",
              "        const buttonEl =\n",
              "          document.querySelector('#df-1cca0e22-a204-4238-a45e-c1ad17bb18e5 button.colab-df-convert');\n",
              "        buttonEl.style.display =\n",
              "          google.colab.kernel.accessAllowed ? 'block' : 'none';\n",
              "\n",
              "        async function convertToInteractive(key) {\n",
              "          const element = document.querySelector('#df-1cca0e22-a204-4238-a45e-c1ad17bb18e5');\n",
              "          const dataTable =\n",
              "            await google.colab.kernel.invokeFunction('convertToInteractive',\n",
              "                                                     [key], {});\n",
              "          if (!dataTable) return;\n",
              "\n",
              "          const docLinkHtml = 'Like what you see? Visit the ' +\n",
              "            '<a target=\"_blank\" href=https://colab.research.google.com/notebooks/data_table.ipynb>data table notebook</a>'\n",
              "            + ' to learn more about interactive tables.';\n",
              "          element.innerHTML = '';\n",
              "          dataTable['output_type'] = 'display_data';\n",
              "          await google.colab.output.renderOutput(dataTable, element);\n",
              "          const docLink = document.createElement('div');\n",
              "          docLink.innerHTML = docLinkHtml;\n",
              "          element.appendChild(docLink);\n",
              "        }\n",
              "      </script>\n",
              "    </div>\n",
              "  </div>\n",
              "  "
            ]
          },
          "metadata": {},
          "execution_count": 101
        }
      ]
    },
    {
      "cell_type": "code",
      "source": [
        "data=data.drop([\"Unnamed: 0\"],axis=1)"
      ],
      "metadata": {
        "id": "YCRfwPwPg6FP"
      },
      "execution_count": null,
      "outputs": []
    },
    {
      "cell_type": "code",
      "source": [
        "# shuffle the DataFrame rows\n",
        "data_shuffled = data.sample(frac = 1)\n",
        " "
      ],
      "metadata": {
        "id": "ImtQJHpihAr1"
      },
      "execution_count": null,
      "outputs": []
    },
    {
      "cell_type": "code",
      "source": [
        "data_shuffled.head()"
      ],
      "metadata": {
        "colab": {
          "base_uri": "https://localhost:8080/",
          "height": 299
        },
        "id": "B9kc1n_IhTgm",
        "outputId": "7119a986-5291-4f3c-cef1-06572952c487"
      },
      "execution_count": null,
      "outputs": [
        {
          "output_type": "execute_result",
          "data": {
            "text/plain": [
              "       subject  trial  condition        ITI  rejected    Fz_N100   FCz_N100  \\\n",
              "15739       54     89          1  2688.4766         0  -2.489314   0.366224   \n",
              "16416       56     72          2  1269.5313         0   3.753567  -0.190943   \n",
              "21325       73     20          1  1159.1797         0  -4.507495  -7.721776   \n",
              "13403       46     56          1  3334.9609         0 -12.049429 -18.513462   \n",
              "7905        27     64          2  1347.6563         0 -45.487381 -48.508767   \n",
              "\n",
              "         Cz_N100   FC3_N100   FC4_N100  ...      Fz_B1     FCz_B1      Cz_B1  \\\n",
              "15739   8.131781   5.582010   5.692657  ...   1.168264  -1.929016  -2.319793   \n",
              "16416   4.590210   0.647371  -0.450333  ... -15.209469  -4.542978   4.550744   \n",
              "21325  -2.507367  -7.703081  -9.402333  ...   0.418854  -5.989223  11.385783   \n",
              "13403 -20.940848 -17.657681 -16.215762  ...  -8.399788  -9.519836 -13.449067   \n",
              "7905  -51.345971 -27.775319 -40.076929  ... -14.431183 -28.565331 -26.645790   \n",
              "\n",
              "          FC3_B1     FC4_B1      C3_B1      C4_B1     CP3_B1     CP4_B1  group  \n",
              "15739   3.101612  -0.006314  -2.014606  -6.691611  -4.299429  -6.149623      1  \n",
              "16416   1.716601  -2.478556  -9.069073 -10.683505  -4.493085  -2.958730      1  \n",
              "21325  -9.945229   4.528012  -0.605858  -5.604278  -5.012316  -1.203456      1  \n",
              "13403 -11.253164  -7.710657  -7.199417  -9.988880 -11.242669 -16.756419      1  \n",
              "7905  -23.508127 -18.401949 -29.474849 -22.064369 -32.257017 -21.389368      1  \n",
              "\n",
              "[5 rows x 42 columns]"
            ],
            "text/html": [
              "\n",
              "  <div id=\"df-89bbe21d-0836-4b0e-9493-9e38e54cd6dd\">\n",
              "    <div class=\"colab-df-container\">\n",
              "      <div>\n",
              "<style scoped>\n",
              "    .dataframe tbody tr th:only-of-type {\n",
              "        vertical-align: middle;\n",
              "    }\n",
              "\n",
              "    .dataframe tbody tr th {\n",
              "        vertical-align: top;\n",
              "    }\n",
              "\n",
              "    .dataframe thead th {\n",
              "        text-align: right;\n",
              "    }\n",
              "</style>\n",
              "<table border=\"1\" class=\"dataframe\">\n",
              "  <thead>\n",
              "    <tr style=\"text-align: right;\">\n",
              "      <th></th>\n",
              "      <th>subject</th>\n",
              "      <th>trial</th>\n",
              "      <th>condition</th>\n",
              "      <th>ITI</th>\n",
              "      <th>rejected</th>\n",
              "      <th>Fz_N100</th>\n",
              "      <th>FCz_N100</th>\n",
              "      <th>Cz_N100</th>\n",
              "      <th>FC3_N100</th>\n",
              "      <th>FC4_N100</th>\n",
              "      <th>...</th>\n",
              "      <th>Fz_B1</th>\n",
              "      <th>FCz_B1</th>\n",
              "      <th>Cz_B1</th>\n",
              "      <th>FC3_B1</th>\n",
              "      <th>FC4_B1</th>\n",
              "      <th>C3_B1</th>\n",
              "      <th>C4_B1</th>\n",
              "      <th>CP3_B1</th>\n",
              "      <th>CP4_B1</th>\n",
              "      <th>group</th>\n",
              "    </tr>\n",
              "  </thead>\n",
              "  <tbody>\n",
              "    <tr>\n",
              "      <th>15739</th>\n",
              "      <td>54</td>\n",
              "      <td>89</td>\n",
              "      <td>1</td>\n",
              "      <td>2688.4766</td>\n",
              "      <td>0</td>\n",
              "      <td>-2.489314</td>\n",
              "      <td>0.366224</td>\n",
              "      <td>8.131781</td>\n",
              "      <td>5.582010</td>\n",
              "      <td>5.692657</td>\n",
              "      <td>...</td>\n",
              "      <td>1.168264</td>\n",
              "      <td>-1.929016</td>\n",
              "      <td>-2.319793</td>\n",
              "      <td>3.101612</td>\n",
              "      <td>-0.006314</td>\n",
              "      <td>-2.014606</td>\n",
              "      <td>-6.691611</td>\n",
              "      <td>-4.299429</td>\n",
              "      <td>-6.149623</td>\n",
              "      <td>1</td>\n",
              "    </tr>\n",
              "    <tr>\n",
              "      <th>16416</th>\n",
              "      <td>56</td>\n",
              "      <td>72</td>\n",
              "      <td>2</td>\n",
              "      <td>1269.5313</td>\n",
              "      <td>0</td>\n",
              "      <td>3.753567</td>\n",
              "      <td>-0.190943</td>\n",
              "      <td>4.590210</td>\n",
              "      <td>0.647371</td>\n",
              "      <td>-0.450333</td>\n",
              "      <td>...</td>\n",
              "      <td>-15.209469</td>\n",
              "      <td>-4.542978</td>\n",
              "      <td>4.550744</td>\n",
              "      <td>1.716601</td>\n",
              "      <td>-2.478556</td>\n",
              "      <td>-9.069073</td>\n",
              "      <td>-10.683505</td>\n",
              "      <td>-4.493085</td>\n",
              "      <td>-2.958730</td>\n",
              "      <td>1</td>\n",
              "    </tr>\n",
              "    <tr>\n",
              "      <th>21325</th>\n",
              "      <td>73</td>\n",
              "      <td>20</td>\n",
              "      <td>1</td>\n",
              "      <td>1159.1797</td>\n",
              "      <td>0</td>\n",
              "      <td>-4.507495</td>\n",
              "      <td>-7.721776</td>\n",
              "      <td>-2.507367</td>\n",
              "      <td>-7.703081</td>\n",
              "      <td>-9.402333</td>\n",
              "      <td>...</td>\n",
              "      <td>0.418854</td>\n",
              "      <td>-5.989223</td>\n",
              "      <td>11.385783</td>\n",
              "      <td>-9.945229</td>\n",
              "      <td>4.528012</td>\n",
              "      <td>-0.605858</td>\n",
              "      <td>-5.604278</td>\n",
              "      <td>-5.012316</td>\n",
              "      <td>-1.203456</td>\n",
              "      <td>1</td>\n",
              "    </tr>\n",
              "    <tr>\n",
              "      <th>13403</th>\n",
              "      <td>46</td>\n",
              "      <td>56</td>\n",
              "      <td>1</td>\n",
              "      <td>3334.9609</td>\n",
              "      <td>0</td>\n",
              "      <td>-12.049429</td>\n",
              "      <td>-18.513462</td>\n",
              "      <td>-20.940848</td>\n",
              "      <td>-17.657681</td>\n",
              "      <td>-16.215762</td>\n",
              "      <td>...</td>\n",
              "      <td>-8.399788</td>\n",
              "      <td>-9.519836</td>\n",
              "      <td>-13.449067</td>\n",
              "      <td>-11.253164</td>\n",
              "      <td>-7.710657</td>\n",
              "      <td>-7.199417</td>\n",
              "      <td>-9.988880</td>\n",
              "      <td>-11.242669</td>\n",
              "      <td>-16.756419</td>\n",
              "      <td>1</td>\n",
              "    </tr>\n",
              "    <tr>\n",
              "      <th>7905</th>\n",
              "      <td>27</td>\n",
              "      <td>64</td>\n",
              "      <td>2</td>\n",
              "      <td>1347.6563</td>\n",
              "      <td>0</td>\n",
              "      <td>-45.487381</td>\n",
              "      <td>-48.508767</td>\n",
              "      <td>-51.345971</td>\n",
              "      <td>-27.775319</td>\n",
              "      <td>-40.076929</td>\n",
              "      <td>...</td>\n",
              "      <td>-14.431183</td>\n",
              "      <td>-28.565331</td>\n",
              "      <td>-26.645790</td>\n",
              "      <td>-23.508127</td>\n",
              "      <td>-18.401949</td>\n",
              "      <td>-29.474849</td>\n",
              "      <td>-22.064369</td>\n",
              "      <td>-32.257017</td>\n",
              "      <td>-21.389368</td>\n",
              "      <td>1</td>\n",
              "    </tr>\n",
              "  </tbody>\n",
              "</table>\n",
              "<p>5 rows × 42 columns</p>\n",
              "</div>\n",
              "      <button class=\"colab-df-convert\" onclick=\"convertToInteractive('df-89bbe21d-0836-4b0e-9493-9e38e54cd6dd')\"\n",
              "              title=\"Convert this dataframe to an interactive table.\"\n",
              "              style=\"display:none;\">\n",
              "        \n",
              "  <svg xmlns=\"http://www.w3.org/2000/svg\" height=\"24px\"viewBox=\"0 0 24 24\"\n",
              "       width=\"24px\">\n",
              "    <path d=\"M0 0h24v24H0V0z\" fill=\"none\"/>\n",
              "    <path d=\"M18.56 5.44l.94 2.06.94-2.06 2.06-.94-2.06-.94-.94-2.06-.94 2.06-2.06.94zm-11 1L8.5 8.5l.94-2.06 2.06-.94-2.06-.94L8.5 2.5l-.94 2.06-2.06.94zm10 10l.94 2.06.94-2.06 2.06-.94-2.06-.94-.94-2.06-.94 2.06-2.06.94z\"/><path d=\"M17.41 7.96l-1.37-1.37c-.4-.4-.92-.59-1.43-.59-.52 0-1.04.2-1.43.59L10.3 9.45l-7.72 7.72c-.78.78-.78 2.05 0 2.83L4 21.41c.39.39.9.59 1.41.59.51 0 1.02-.2 1.41-.59l7.78-7.78 2.81-2.81c.8-.78.8-2.07 0-2.86zM5.41 20L4 18.59l7.72-7.72 1.47 1.35L5.41 20z\"/>\n",
              "  </svg>\n",
              "      </button>\n",
              "      \n",
              "  <style>\n",
              "    .colab-df-container {\n",
              "      display:flex;\n",
              "      flex-wrap:wrap;\n",
              "      gap: 12px;\n",
              "    }\n",
              "\n",
              "    .colab-df-convert {\n",
              "      background-color: #E8F0FE;\n",
              "      border: none;\n",
              "      border-radius: 50%;\n",
              "      cursor: pointer;\n",
              "      display: none;\n",
              "      fill: #1967D2;\n",
              "      height: 32px;\n",
              "      padding: 0 0 0 0;\n",
              "      width: 32px;\n",
              "    }\n",
              "\n",
              "    .colab-df-convert:hover {\n",
              "      background-color: #E2EBFA;\n",
              "      box-shadow: 0px 1px 2px rgba(60, 64, 67, 0.3), 0px 1px 3px 1px rgba(60, 64, 67, 0.15);\n",
              "      fill: #174EA6;\n",
              "    }\n",
              "\n",
              "    [theme=dark] .colab-df-convert {\n",
              "      background-color: #3B4455;\n",
              "      fill: #D2E3FC;\n",
              "    }\n",
              "\n",
              "    [theme=dark] .colab-df-convert:hover {\n",
              "      background-color: #434B5C;\n",
              "      box-shadow: 0px 1px 3px 1px rgba(0, 0, 0, 0.15);\n",
              "      filter: drop-shadow(0px 1px 2px rgba(0, 0, 0, 0.3));\n",
              "      fill: #FFFFFF;\n",
              "    }\n",
              "  </style>\n",
              "\n",
              "      <script>\n",
              "        const buttonEl =\n",
              "          document.querySelector('#df-89bbe21d-0836-4b0e-9493-9e38e54cd6dd button.colab-df-convert');\n",
              "        buttonEl.style.display =\n",
              "          google.colab.kernel.accessAllowed ? 'block' : 'none';\n",
              "\n",
              "        async function convertToInteractive(key) {\n",
              "          const element = document.querySelector('#df-89bbe21d-0836-4b0e-9493-9e38e54cd6dd');\n",
              "          const dataTable =\n",
              "            await google.colab.kernel.invokeFunction('convertToInteractive',\n",
              "                                                     [key], {});\n",
              "          if (!dataTable) return;\n",
              "\n",
              "          const docLinkHtml = 'Like what you see? Visit the ' +\n",
              "            '<a target=\"_blank\" href=https://colab.research.google.com/notebooks/data_table.ipynb>data table notebook</a>'\n",
              "            + ' to learn more about interactive tables.';\n",
              "          element.innerHTML = '';\n",
              "          dataTable['output_type'] = 'display_data';\n",
              "          await google.colab.output.renderOutput(dataTable, element);\n",
              "          const docLink = document.createElement('div');\n",
              "          docLink.innerHTML = docLinkHtml;\n",
              "          element.appendChild(docLink);\n",
              "        }\n",
              "      </script>\n",
              "    </div>\n",
              "  </div>\n",
              "  "
            ]
          },
          "metadata": {},
          "execution_count": 104
        }
      ]
    },
    {
      "cell_type": "code",
      "source": [
        "data_shuffled.reset_index(drop=True)"
      ],
      "metadata": {
        "colab": {
          "base_uri": "https://localhost:8080/",
          "height": 487
        },
        "id": "l8OgCC-WhVaJ",
        "outputId": "fb96b50e-5a7a-4754-fb03-a4a8d1550890"
      },
      "execution_count": null,
      "outputs": [
        {
          "output_type": "execute_result",
          "data": {
            "text/plain": [
              "       subject  trial  condition        ITI  rejected    Fz_N100   FCz_N100  \\\n",
              "0           54     89          1  2688.4766         0  -2.489314   0.366224   \n",
              "1           56     72          2  1269.5313         0   3.753567  -0.190943   \n",
              "2           73     20          1  1159.1797         0  -4.507495  -7.721776   \n",
              "3           46     56          1  3334.9609         0 -12.049429 -18.513462   \n",
              "4           27     64          2  1347.6563         0 -45.487381 -48.508767   \n",
              "...        ...    ...        ...        ...       ...        ...        ...   \n",
              "23196       76     34          1  1608.3984         0  -8.891848 -14.220671   \n",
              "23197       51     53          2  1150.3906         0   6.487057   0.224790   \n",
              "23198       14     61          3  1956.0547         0   8.624357   9.194110   \n",
              "23199       25     95          3  1824.2188         0   8.964571  11.488462   \n",
              "23200        6      8          1  2039.0625         0  -7.263500  -7.397757   \n",
              "\n",
              "         Cz_N100   FC3_N100   FC4_N100  ...      Fz_B1     FCz_B1      Cz_B1  \\\n",
              "0       8.131781   5.582010   5.692657  ...   1.168264  -1.929016  -2.319793   \n",
              "1       4.590210   0.647371  -0.450333  ... -15.209469  -4.542978   4.550744   \n",
              "2      -2.507367  -7.703081  -9.402333  ...   0.418854  -5.989223  11.385783   \n",
              "3     -20.940848 -17.657681 -16.215762  ...  -8.399788  -9.519836 -13.449067   \n",
              "4     -51.345971 -27.775319 -40.076929  ... -14.431183 -28.565331 -26.645790   \n",
              "...          ...        ...        ...  ...        ...        ...        ...   \n",
              "23196 -13.371700 -12.199624 -13.920676  ...   5.093842   3.849960   1.636444   \n",
              "23197 -14.163248  -8.107214  12.943576  ...  22.125457  15.489875  14.449070   \n",
              "23198   2.838810   4.927333   1.837057  ...  11.078741  12.549469  14.221757   \n",
              "23199  14.455043   8.593957  10.864957  ...   8.642288   2.545579  -0.801800   \n",
              "23200  -6.220900  -7.020495  -7.429562  ... -11.217528  -4.470916  -1.038315   \n",
              "\n",
              "          FC3_B1     FC4_B1      C3_B1      C4_B1     CP3_B1     CP4_B1  group  \n",
              "0       3.101612  -0.006314  -2.014606  -6.691611  -4.299429  -6.149623      1  \n",
              "1       1.716601  -2.478556  -9.069073 -10.683505  -4.493085  -2.958730      1  \n",
              "2      -9.945229   4.528012  -0.605858  -5.604278  -5.012316  -1.203456      1  \n",
              "3     -11.253164  -7.710657  -7.199417  -9.988880 -11.242669 -16.756419      1  \n",
              "4     -23.508127 -18.401949 -29.474849 -22.064369 -32.257017 -21.389368      1  \n",
              "...          ...        ...        ...        ...        ...        ...    ...  \n",
              "23196   8.379918   4.880123   2.256674   1.301324   3.317356   1.321145      1  \n",
              "23197  21.317731  20.803313  16.673698  19.547606  18.603962  21.152151      1  \n",
              "23198  -0.338635   9.626864   4.909787  10.241033   6.239347  14.734572      0  \n",
              "23199  -1.413208  -3.154531  -2.163461  -2.763996  -2.425720  -4.714146      1  \n",
              "23200   3.385108   4.166165   2.288870   4.798871  -1.074392  -0.596925      0  \n",
              "\n",
              "[23201 rows x 42 columns]"
            ],
            "text/html": [
              "\n",
              "  <div id=\"df-a0212b99-df41-4a98-ba96-9c544e009f15\">\n",
              "    <div class=\"colab-df-container\">\n",
              "      <div>\n",
              "<style scoped>\n",
              "    .dataframe tbody tr th:only-of-type {\n",
              "        vertical-align: middle;\n",
              "    }\n",
              "\n",
              "    .dataframe tbody tr th {\n",
              "        vertical-align: top;\n",
              "    }\n",
              "\n",
              "    .dataframe thead th {\n",
              "        text-align: right;\n",
              "    }\n",
              "</style>\n",
              "<table border=\"1\" class=\"dataframe\">\n",
              "  <thead>\n",
              "    <tr style=\"text-align: right;\">\n",
              "      <th></th>\n",
              "      <th>subject</th>\n",
              "      <th>trial</th>\n",
              "      <th>condition</th>\n",
              "      <th>ITI</th>\n",
              "      <th>rejected</th>\n",
              "      <th>Fz_N100</th>\n",
              "      <th>FCz_N100</th>\n",
              "      <th>Cz_N100</th>\n",
              "      <th>FC3_N100</th>\n",
              "      <th>FC4_N100</th>\n",
              "      <th>...</th>\n",
              "      <th>Fz_B1</th>\n",
              "      <th>FCz_B1</th>\n",
              "      <th>Cz_B1</th>\n",
              "      <th>FC3_B1</th>\n",
              "      <th>FC4_B1</th>\n",
              "      <th>C3_B1</th>\n",
              "      <th>C4_B1</th>\n",
              "      <th>CP3_B1</th>\n",
              "      <th>CP4_B1</th>\n",
              "      <th>group</th>\n",
              "    </tr>\n",
              "  </thead>\n",
              "  <tbody>\n",
              "    <tr>\n",
              "      <th>0</th>\n",
              "      <td>54</td>\n",
              "      <td>89</td>\n",
              "      <td>1</td>\n",
              "      <td>2688.4766</td>\n",
              "      <td>0</td>\n",
              "      <td>-2.489314</td>\n",
              "      <td>0.366224</td>\n",
              "      <td>8.131781</td>\n",
              "      <td>5.582010</td>\n",
              "      <td>5.692657</td>\n",
              "      <td>...</td>\n",
              "      <td>1.168264</td>\n",
              "      <td>-1.929016</td>\n",
              "      <td>-2.319793</td>\n",
              "      <td>3.101612</td>\n",
              "      <td>-0.006314</td>\n",
              "      <td>-2.014606</td>\n",
              "      <td>-6.691611</td>\n",
              "      <td>-4.299429</td>\n",
              "      <td>-6.149623</td>\n",
              "      <td>1</td>\n",
              "    </tr>\n",
              "    <tr>\n",
              "      <th>1</th>\n",
              "      <td>56</td>\n",
              "      <td>72</td>\n",
              "      <td>2</td>\n",
              "      <td>1269.5313</td>\n",
              "      <td>0</td>\n",
              "      <td>3.753567</td>\n",
              "      <td>-0.190943</td>\n",
              "      <td>4.590210</td>\n",
              "      <td>0.647371</td>\n",
              "      <td>-0.450333</td>\n",
              "      <td>...</td>\n",
              "      <td>-15.209469</td>\n",
              "      <td>-4.542978</td>\n",
              "      <td>4.550744</td>\n",
              "      <td>1.716601</td>\n",
              "      <td>-2.478556</td>\n",
              "      <td>-9.069073</td>\n",
              "      <td>-10.683505</td>\n",
              "      <td>-4.493085</td>\n",
              "      <td>-2.958730</td>\n",
              "      <td>1</td>\n",
              "    </tr>\n",
              "    <tr>\n",
              "      <th>2</th>\n",
              "      <td>73</td>\n",
              "      <td>20</td>\n",
              "      <td>1</td>\n",
              "      <td>1159.1797</td>\n",
              "      <td>0</td>\n",
              "      <td>-4.507495</td>\n",
              "      <td>-7.721776</td>\n",
              "      <td>-2.507367</td>\n",
              "      <td>-7.703081</td>\n",
              "      <td>-9.402333</td>\n",
              "      <td>...</td>\n",
              "      <td>0.418854</td>\n",
              "      <td>-5.989223</td>\n",
              "      <td>11.385783</td>\n",
              "      <td>-9.945229</td>\n",
              "      <td>4.528012</td>\n",
              "      <td>-0.605858</td>\n",
              "      <td>-5.604278</td>\n",
              "      <td>-5.012316</td>\n",
              "      <td>-1.203456</td>\n",
              "      <td>1</td>\n",
              "    </tr>\n",
              "    <tr>\n",
              "      <th>3</th>\n",
              "      <td>46</td>\n",
              "      <td>56</td>\n",
              "      <td>1</td>\n",
              "      <td>3334.9609</td>\n",
              "      <td>0</td>\n",
              "      <td>-12.049429</td>\n",
              "      <td>-18.513462</td>\n",
              "      <td>-20.940848</td>\n",
              "      <td>-17.657681</td>\n",
              "      <td>-16.215762</td>\n",
              "      <td>...</td>\n",
              "      <td>-8.399788</td>\n",
              "      <td>-9.519836</td>\n",
              "      <td>-13.449067</td>\n",
              "      <td>-11.253164</td>\n",
              "      <td>-7.710657</td>\n",
              "      <td>-7.199417</td>\n",
              "      <td>-9.988880</td>\n",
              "      <td>-11.242669</td>\n",
              "      <td>-16.756419</td>\n",
              "      <td>1</td>\n",
              "    </tr>\n",
              "    <tr>\n",
              "      <th>4</th>\n",
              "      <td>27</td>\n",
              "      <td>64</td>\n",
              "      <td>2</td>\n",
              "      <td>1347.6563</td>\n",
              "      <td>0</td>\n",
              "      <td>-45.487381</td>\n",
              "      <td>-48.508767</td>\n",
              "      <td>-51.345971</td>\n",
              "      <td>-27.775319</td>\n",
              "      <td>-40.076929</td>\n",
              "      <td>...</td>\n",
              "      <td>-14.431183</td>\n",
              "      <td>-28.565331</td>\n",
              "      <td>-26.645790</td>\n",
              "      <td>-23.508127</td>\n",
              "      <td>-18.401949</td>\n",
              "      <td>-29.474849</td>\n",
              "      <td>-22.064369</td>\n",
              "      <td>-32.257017</td>\n",
              "      <td>-21.389368</td>\n",
              "      <td>1</td>\n",
              "    </tr>\n",
              "    <tr>\n",
              "      <th>...</th>\n",
              "      <td>...</td>\n",
              "      <td>...</td>\n",
              "      <td>...</td>\n",
              "      <td>...</td>\n",
              "      <td>...</td>\n",
              "      <td>...</td>\n",
              "      <td>...</td>\n",
              "      <td>...</td>\n",
              "      <td>...</td>\n",
              "      <td>...</td>\n",
              "      <td>...</td>\n",
              "      <td>...</td>\n",
              "      <td>...</td>\n",
              "      <td>...</td>\n",
              "      <td>...</td>\n",
              "      <td>...</td>\n",
              "      <td>...</td>\n",
              "      <td>...</td>\n",
              "      <td>...</td>\n",
              "      <td>...</td>\n",
              "      <td>...</td>\n",
              "    </tr>\n",
              "    <tr>\n",
              "      <th>23196</th>\n",
              "      <td>76</td>\n",
              "      <td>34</td>\n",
              "      <td>1</td>\n",
              "      <td>1608.3984</td>\n",
              "      <td>0</td>\n",
              "      <td>-8.891848</td>\n",
              "      <td>-14.220671</td>\n",
              "      <td>-13.371700</td>\n",
              "      <td>-12.199624</td>\n",
              "      <td>-13.920676</td>\n",
              "      <td>...</td>\n",
              "      <td>5.093842</td>\n",
              "      <td>3.849960</td>\n",
              "      <td>1.636444</td>\n",
              "      <td>8.379918</td>\n",
              "      <td>4.880123</td>\n",
              "      <td>2.256674</td>\n",
              "      <td>1.301324</td>\n",
              "      <td>3.317356</td>\n",
              "      <td>1.321145</td>\n",
              "      <td>1</td>\n",
              "    </tr>\n",
              "    <tr>\n",
              "      <th>23197</th>\n",
              "      <td>51</td>\n",
              "      <td>53</td>\n",
              "      <td>2</td>\n",
              "      <td>1150.3906</td>\n",
              "      <td>0</td>\n",
              "      <td>6.487057</td>\n",
              "      <td>0.224790</td>\n",
              "      <td>-14.163248</td>\n",
              "      <td>-8.107214</td>\n",
              "      <td>12.943576</td>\n",
              "      <td>...</td>\n",
              "      <td>22.125457</td>\n",
              "      <td>15.489875</td>\n",
              "      <td>14.449070</td>\n",
              "      <td>21.317731</td>\n",
              "      <td>20.803313</td>\n",
              "      <td>16.673698</td>\n",
              "      <td>19.547606</td>\n",
              "      <td>18.603962</td>\n",
              "      <td>21.152151</td>\n",
              "      <td>1</td>\n",
              "    </tr>\n",
              "    <tr>\n",
              "      <th>23198</th>\n",
              "      <td>14</td>\n",
              "      <td>61</td>\n",
              "      <td>3</td>\n",
              "      <td>1956.0547</td>\n",
              "      <td>0</td>\n",
              "      <td>8.624357</td>\n",
              "      <td>9.194110</td>\n",
              "      <td>2.838810</td>\n",
              "      <td>4.927333</td>\n",
              "      <td>1.837057</td>\n",
              "      <td>...</td>\n",
              "      <td>11.078741</td>\n",
              "      <td>12.549469</td>\n",
              "      <td>14.221757</td>\n",
              "      <td>-0.338635</td>\n",
              "      <td>9.626864</td>\n",
              "      <td>4.909787</td>\n",
              "      <td>10.241033</td>\n",
              "      <td>6.239347</td>\n",
              "      <td>14.734572</td>\n",
              "      <td>0</td>\n",
              "    </tr>\n",
              "    <tr>\n",
              "      <th>23199</th>\n",
              "      <td>25</td>\n",
              "      <td>95</td>\n",
              "      <td>3</td>\n",
              "      <td>1824.2188</td>\n",
              "      <td>0</td>\n",
              "      <td>8.964571</td>\n",
              "      <td>11.488462</td>\n",
              "      <td>14.455043</td>\n",
              "      <td>8.593957</td>\n",
              "      <td>10.864957</td>\n",
              "      <td>...</td>\n",
              "      <td>8.642288</td>\n",
              "      <td>2.545579</td>\n",
              "      <td>-0.801800</td>\n",
              "      <td>-1.413208</td>\n",
              "      <td>-3.154531</td>\n",
              "      <td>-2.163461</td>\n",
              "      <td>-2.763996</td>\n",
              "      <td>-2.425720</td>\n",
              "      <td>-4.714146</td>\n",
              "      <td>1</td>\n",
              "    </tr>\n",
              "    <tr>\n",
              "      <th>23200</th>\n",
              "      <td>6</td>\n",
              "      <td>8</td>\n",
              "      <td>1</td>\n",
              "      <td>2039.0625</td>\n",
              "      <td>0</td>\n",
              "      <td>-7.263500</td>\n",
              "      <td>-7.397757</td>\n",
              "      <td>-6.220900</td>\n",
              "      <td>-7.020495</td>\n",
              "      <td>-7.429562</td>\n",
              "      <td>...</td>\n",
              "      <td>-11.217528</td>\n",
              "      <td>-4.470916</td>\n",
              "      <td>-1.038315</td>\n",
              "      <td>3.385108</td>\n",
              "      <td>4.166165</td>\n",
              "      <td>2.288870</td>\n",
              "      <td>4.798871</td>\n",
              "      <td>-1.074392</td>\n",
              "      <td>-0.596925</td>\n",
              "      <td>0</td>\n",
              "    </tr>\n",
              "  </tbody>\n",
              "</table>\n",
              "<p>23201 rows × 42 columns</p>\n",
              "</div>\n",
              "      <button class=\"colab-df-convert\" onclick=\"convertToInteractive('df-a0212b99-df41-4a98-ba96-9c544e009f15')\"\n",
              "              title=\"Convert this dataframe to an interactive table.\"\n",
              "              style=\"display:none;\">\n",
              "        \n",
              "  <svg xmlns=\"http://www.w3.org/2000/svg\" height=\"24px\"viewBox=\"0 0 24 24\"\n",
              "       width=\"24px\">\n",
              "    <path d=\"M0 0h24v24H0V0z\" fill=\"none\"/>\n",
              "    <path d=\"M18.56 5.44l.94 2.06.94-2.06 2.06-.94-2.06-.94-.94-2.06-.94 2.06-2.06.94zm-11 1L8.5 8.5l.94-2.06 2.06-.94-2.06-.94L8.5 2.5l-.94 2.06-2.06.94zm10 10l.94 2.06.94-2.06 2.06-.94-2.06-.94-.94-2.06-.94 2.06-2.06.94z\"/><path d=\"M17.41 7.96l-1.37-1.37c-.4-.4-.92-.59-1.43-.59-.52 0-1.04.2-1.43.59L10.3 9.45l-7.72 7.72c-.78.78-.78 2.05 0 2.83L4 21.41c.39.39.9.59 1.41.59.51 0 1.02-.2 1.41-.59l7.78-7.78 2.81-2.81c.8-.78.8-2.07 0-2.86zM5.41 20L4 18.59l7.72-7.72 1.47 1.35L5.41 20z\"/>\n",
              "  </svg>\n",
              "      </button>\n",
              "      \n",
              "  <style>\n",
              "    .colab-df-container {\n",
              "      display:flex;\n",
              "      flex-wrap:wrap;\n",
              "      gap: 12px;\n",
              "    }\n",
              "\n",
              "    .colab-df-convert {\n",
              "      background-color: #E8F0FE;\n",
              "      border: none;\n",
              "      border-radius: 50%;\n",
              "      cursor: pointer;\n",
              "      display: none;\n",
              "      fill: #1967D2;\n",
              "      height: 32px;\n",
              "      padding: 0 0 0 0;\n",
              "      width: 32px;\n",
              "    }\n",
              "\n",
              "    .colab-df-convert:hover {\n",
              "      background-color: #E2EBFA;\n",
              "      box-shadow: 0px 1px 2px rgba(60, 64, 67, 0.3), 0px 1px 3px 1px rgba(60, 64, 67, 0.15);\n",
              "      fill: #174EA6;\n",
              "    }\n",
              "\n",
              "    [theme=dark] .colab-df-convert {\n",
              "      background-color: #3B4455;\n",
              "      fill: #D2E3FC;\n",
              "    }\n",
              "\n",
              "    [theme=dark] .colab-df-convert:hover {\n",
              "      background-color: #434B5C;\n",
              "      box-shadow: 0px 1px 3px 1px rgba(0, 0, 0, 0.15);\n",
              "      filter: drop-shadow(0px 1px 2px rgba(0, 0, 0, 0.3));\n",
              "      fill: #FFFFFF;\n",
              "    }\n",
              "  </style>\n",
              "\n",
              "      <script>\n",
              "        const buttonEl =\n",
              "          document.querySelector('#df-a0212b99-df41-4a98-ba96-9c544e009f15 button.colab-df-convert');\n",
              "        buttonEl.style.display =\n",
              "          google.colab.kernel.accessAllowed ? 'block' : 'none';\n",
              "\n",
              "        async function convertToInteractive(key) {\n",
              "          const element = document.querySelector('#df-a0212b99-df41-4a98-ba96-9c544e009f15');\n",
              "          const dataTable =\n",
              "            await google.colab.kernel.invokeFunction('convertToInteractive',\n",
              "                                                     [key], {});\n",
              "          if (!dataTable) return;\n",
              "\n",
              "          const docLinkHtml = 'Like what you see? Visit the ' +\n",
              "            '<a target=\"_blank\" href=https://colab.research.google.com/notebooks/data_table.ipynb>data table notebook</a>'\n",
              "            + ' to learn more about interactive tables.';\n",
              "          element.innerHTML = '';\n",
              "          dataTable['output_type'] = 'display_data';\n",
              "          await google.colab.output.renderOutput(dataTable, element);\n",
              "          const docLink = document.createElement('div');\n",
              "          docLink.innerHTML = docLinkHtml;\n",
              "          element.appendChild(docLink);\n",
              "        }\n",
              "      </script>\n",
              "    </div>\n",
              "  </div>\n",
              "  "
            ]
          },
          "metadata": {},
          "execution_count": 105
        }
      ]
    },
    {
      "cell_type": "code",
      "source": [
        "data_shuffled.isna().sum()"
      ],
      "metadata": {
        "colab": {
          "base_uri": "https://localhost:8080/"
        },
        "id": "7q_2X0Z4hoqv",
        "outputId": "1e8bce60-08ce-4fa6-ce07-540b0e9b2dfa"
      },
      "execution_count": null,
      "outputs": [
        {
          "output_type": "execute_result",
          "data": {
            "text/plain": [
              "subject      0\n",
              "trial        0\n",
              "condition    0\n",
              "ITI          0\n",
              "rejected     0\n",
              "Fz_N100      0\n",
              "FCz_N100     0\n",
              "Cz_N100      0\n",
              "FC3_N100     0\n",
              "FC4_N100     0\n",
              "C3_N100      0\n",
              "C4_N100      0\n",
              "CP3_N100     0\n",
              "CP4_N100     0\n",
              "Fz_P200      0\n",
              "FCz_P200     0\n",
              "Cz_P200      0\n",
              "FC3_P200     0\n",
              "FC4_P200     0\n",
              "C3_P200      0\n",
              "C4_P200      0\n",
              "CP3_P200     0\n",
              "CP4_P200     0\n",
              "Fz_B0        0\n",
              "FCz_B0       0\n",
              "Cz_B0        0\n",
              "FC3_B0       0\n",
              "FC4_B0       0\n",
              "C3_B0        0\n",
              "C4_B0        0\n",
              "CP3_B0       0\n",
              "CP4_B0       0\n",
              "Fz_B1        0\n",
              "FCz_B1       0\n",
              "Cz_B1        0\n",
              "FC3_B1       0\n",
              "FC4_B1       0\n",
              "C3_B1        0\n",
              "C4_B1        0\n",
              "CP3_B1       0\n",
              "CP4_B1       0\n",
              "group        0\n",
              "dtype: int64"
            ]
          },
          "metadata": {},
          "execution_count": 106
        }
      ]
    },
    {
      "cell_type": "code",
      "source": [
        "X_shuffled=data_shuffled.drop([\"group\"],axis=1)\n",
        "y_shuffled=data_shuffled.group"
      ],
      "metadata": {
        "id": "HcjbhvbmhuRP"
      },
      "execution_count": null,
      "outputs": []
    },
    {
      "cell_type": "code",
      "source": [
        "y_shuffled[:20]"
      ],
      "metadata": {
        "colab": {
          "base_uri": "https://localhost:8080/"
        },
        "id": "A9fhis56iCt5",
        "outputId": "eaa4fa04-cfdc-4853-a4f5-8af7d218684a"
      },
      "execution_count": null,
      "outputs": [
        {
          "output_type": "execute_result",
          "data": {
            "text/plain": [
              "15739    1\n",
              "16416    1\n",
              "21325    1\n",
              "13403    1\n",
              "7905     1\n",
              "6040     0\n",
              "8205     1\n",
              "16285    1\n",
              "23186    1\n",
              "23511    1\n",
              "18213    0\n",
              "16005    1\n",
              "22760    1\n",
              "11752    1\n",
              "22904    1\n",
              "20791    1\n",
              "4354     0\n",
              "8406     1\n",
              "10094    1\n",
              "9253     1\n",
              "Name: group, dtype: int64"
            ]
          },
          "metadata": {},
          "execution_count": 108
        }
      ]
    },
    {
      "cell_type": "code",
      "source": [
        "len(y_shuffled),len(y)"
      ],
      "metadata": {
        "colab": {
          "base_uri": "https://localhost:8080/"
        },
        "id": "RHxnistCiJfi",
        "outputId": "46ae868f-3614-448c-face-78ae8decfa5c"
      },
      "execution_count": null,
      "outputs": [
        {
          "output_type": "execute_result",
          "data": {
            "text/plain": [
              "(23201, 23201)"
            ]
          },
          "metadata": {},
          "execution_count": 109
        }
      ]
    },
    {
      "cell_type": "code",
      "source": [
        "from sklearn.preprocessing import StandardScaler\n",
        "\n",
        "colsToScale = [\"ITI\", \"Fz_N100\", \"FCz_N100\", \"Cz_N100\", \"FC3_N100\",\n",
        "                  \"FC4_N100\", \"C3_N100\", \"C4_N100\", \"CP3_N100\", \"CP4_N100\",\n",
        "                  \"Fz_P200\", \"FCz_P200\", \"Cz_P200\", \"FC3_P200\", \"FC4_P200\",\n",
        "                  \"C3_P200\", \"C4_P200\", \"CP3_P200\", \"CP4_P200\", \"Fz_B0\",\n",
        "                  \"FCz_B0\", \"Cz_B0\", \"FC3_B0\", \"FC4_B0\", \"C3_B0\", \"C4_B0\",\n",
        "                  \"CP3_B0\", \"CP4_B0\", \"Fz_B1\", \"FCz_B1\", \"Cz_B1\", \"FC3_B1\",\n",
        "                  \"FC4_B1\", \"C3_B1\", \"C4_B1\", \"CP3_B1\", \"CP4_B1\"]\n",
        "\n",
        "stdScaler = StandardScaler()\n",
        "stdScaler.fit(X_shuffled[colsToScale])\n",
        "X_shuffled[colsToScale] = stdScaler.transform(X_shuffled[colsToScale])\n",
        "\n",
        "X_shuffled.head()"
      ],
      "metadata": {
        "colab": {
          "base_uri": "https://localhost:8080/",
          "height": 299
        },
        "id": "-U4EHhAOiUoc",
        "outputId": "84f9deec-3618-425a-d51a-90434caeb0dd"
      },
      "execution_count": null,
      "outputs": [
        {
          "output_type": "execute_result",
          "data": {
            "text/plain": [
              "       subject  trial  condition       ITI  rejected   Fz_N100  FCz_N100  \\\n",
              "15739       54     89          1  0.149037         0  0.006912  0.267133   \n",
              "16416       56     72          2 -0.273868         0  0.558777  0.217809   \n",
              "21325       73     20          1 -0.306758         0 -0.171493 -0.448875   \n",
              "13403       46     56          1  0.341716         0 -0.838192 -1.404233   \n",
              "7905        27     64          2 -0.250584         0 -3.794073 -4.059633   \n",
              "\n",
              "        Cz_N100  FC3_N100  FC4_N100  ...    CP4_B0     Fz_B1    FCz_B1  \\\n",
              "15739  0.920854  0.750601  0.774376  ...  0.275093  0.063320 -0.213677   \n",
              "16416  0.603120  0.264584  0.176946  ... -0.573216 -1.180467 -0.432186   \n",
              "21325 -0.033642 -0.557858 -0.693672  ... -0.336320  0.006407 -0.553083   \n",
              "13403 -1.687411 -1.538295 -1.356304  ... -0.941498 -0.663314 -0.848217   \n",
              "7905  -4.415222 -2.534789 -3.676897  ... -1.389672 -1.121361 -2.440289   \n",
              "\n",
              "          Cz_B1    FC3_B1    FC4_B1     C3_B1     C4_B1    CP3_B1    CP4_B1  \n",
              "15739 -0.270607  0.206905 -0.032546 -0.260320 -0.657211 -0.459748 -0.579044  \n",
              "16416  0.331431  0.089156 -0.241058 -0.918636 -1.028113 -0.477878 -0.295598  \n",
              "21325  0.930359 -0.902293  0.349885 -0.128857 -0.556183 -0.526490 -0.139678  \n",
              "13403 -1.245821 -1.013489 -0.682341 -0.744162 -0.963573 -1.109792 -1.521243  \n",
              "7905  -2.402198 -2.055364 -1.584060 -2.822884 -2.085552 -3.077209 -1.932786  \n",
              "\n",
              "[5 rows x 41 columns]"
            ],
            "text/html": [
              "\n",
              "  <div id=\"df-e203f228-eee1-44c6-9d56-88e7253fb1d8\">\n",
              "    <div class=\"colab-df-container\">\n",
              "      <div>\n",
              "<style scoped>\n",
              "    .dataframe tbody tr th:only-of-type {\n",
              "        vertical-align: middle;\n",
              "    }\n",
              "\n",
              "    .dataframe tbody tr th {\n",
              "        vertical-align: top;\n",
              "    }\n",
              "\n",
              "    .dataframe thead th {\n",
              "        text-align: right;\n",
              "    }\n",
              "</style>\n",
              "<table border=\"1\" class=\"dataframe\">\n",
              "  <thead>\n",
              "    <tr style=\"text-align: right;\">\n",
              "      <th></th>\n",
              "      <th>subject</th>\n",
              "      <th>trial</th>\n",
              "      <th>condition</th>\n",
              "      <th>ITI</th>\n",
              "      <th>rejected</th>\n",
              "      <th>Fz_N100</th>\n",
              "      <th>FCz_N100</th>\n",
              "      <th>Cz_N100</th>\n",
              "      <th>FC3_N100</th>\n",
              "      <th>FC4_N100</th>\n",
              "      <th>...</th>\n",
              "      <th>CP4_B0</th>\n",
              "      <th>Fz_B1</th>\n",
              "      <th>FCz_B1</th>\n",
              "      <th>Cz_B1</th>\n",
              "      <th>FC3_B1</th>\n",
              "      <th>FC4_B1</th>\n",
              "      <th>C3_B1</th>\n",
              "      <th>C4_B1</th>\n",
              "      <th>CP3_B1</th>\n",
              "      <th>CP4_B1</th>\n",
              "    </tr>\n",
              "  </thead>\n",
              "  <tbody>\n",
              "    <tr>\n",
              "      <th>15739</th>\n",
              "      <td>54</td>\n",
              "      <td>89</td>\n",
              "      <td>1</td>\n",
              "      <td>0.149037</td>\n",
              "      <td>0</td>\n",
              "      <td>0.006912</td>\n",
              "      <td>0.267133</td>\n",
              "      <td>0.920854</td>\n",
              "      <td>0.750601</td>\n",
              "      <td>0.774376</td>\n",
              "      <td>...</td>\n",
              "      <td>0.275093</td>\n",
              "      <td>0.063320</td>\n",
              "      <td>-0.213677</td>\n",
              "      <td>-0.270607</td>\n",
              "      <td>0.206905</td>\n",
              "      <td>-0.032546</td>\n",
              "      <td>-0.260320</td>\n",
              "      <td>-0.657211</td>\n",
              "      <td>-0.459748</td>\n",
              "      <td>-0.579044</td>\n",
              "    </tr>\n",
              "    <tr>\n",
              "      <th>16416</th>\n",
              "      <td>56</td>\n",
              "      <td>72</td>\n",
              "      <td>2</td>\n",
              "      <td>-0.273868</td>\n",
              "      <td>0</td>\n",
              "      <td>0.558777</td>\n",
              "      <td>0.217809</td>\n",
              "      <td>0.603120</td>\n",
              "      <td>0.264584</td>\n",
              "      <td>0.176946</td>\n",
              "      <td>...</td>\n",
              "      <td>-0.573216</td>\n",
              "      <td>-1.180467</td>\n",
              "      <td>-0.432186</td>\n",
              "      <td>0.331431</td>\n",
              "      <td>0.089156</td>\n",
              "      <td>-0.241058</td>\n",
              "      <td>-0.918636</td>\n",
              "      <td>-1.028113</td>\n",
              "      <td>-0.477878</td>\n",
              "      <td>-0.295598</td>\n",
              "    </tr>\n",
              "    <tr>\n",
              "      <th>21325</th>\n",
              "      <td>73</td>\n",
              "      <td>20</td>\n",
              "      <td>1</td>\n",
              "      <td>-0.306758</td>\n",
              "      <td>0</td>\n",
              "      <td>-0.171493</td>\n",
              "      <td>-0.448875</td>\n",
              "      <td>-0.033642</td>\n",
              "      <td>-0.557858</td>\n",
              "      <td>-0.693672</td>\n",
              "      <td>...</td>\n",
              "      <td>-0.336320</td>\n",
              "      <td>0.006407</td>\n",
              "      <td>-0.553083</td>\n",
              "      <td>0.930359</td>\n",
              "      <td>-0.902293</td>\n",
              "      <td>0.349885</td>\n",
              "      <td>-0.128857</td>\n",
              "      <td>-0.556183</td>\n",
              "      <td>-0.526490</td>\n",
              "      <td>-0.139678</td>\n",
              "    </tr>\n",
              "    <tr>\n",
              "      <th>13403</th>\n",
              "      <td>46</td>\n",
              "      <td>56</td>\n",
              "      <td>1</td>\n",
              "      <td>0.341716</td>\n",
              "      <td>0</td>\n",
              "      <td>-0.838192</td>\n",
              "      <td>-1.404233</td>\n",
              "      <td>-1.687411</td>\n",
              "      <td>-1.538295</td>\n",
              "      <td>-1.356304</td>\n",
              "      <td>...</td>\n",
              "      <td>-0.941498</td>\n",
              "      <td>-0.663314</td>\n",
              "      <td>-0.848217</td>\n",
              "      <td>-1.245821</td>\n",
              "      <td>-1.013489</td>\n",
              "      <td>-0.682341</td>\n",
              "      <td>-0.744162</td>\n",
              "      <td>-0.963573</td>\n",
              "      <td>-1.109792</td>\n",
              "      <td>-1.521243</td>\n",
              "    </tr>\n",
              "    <tr>\n",
              "      <th>7905</th>\n",
              "      <td>27</td>\n",
              "      <td>64</td>\n",
              "      <td>2</td>\n",
              "      <td>-0.250584</td>\n",
              "      <td>0</td>\n",
              "      <td>-3.794073</td>\n",
              "      <td>-4.059633</td>\n",
              "      <td>-4.415222</td>\n",
              "      <td>-2.534789</td>\n",
              "      <td>-3.676897</td>\n",
              "      <td>...</td>\n",
              "      <td>-1.389672</td>\n",
              "      <td>-1.121361</td>\n",
              "      <td>-2.440289</td>\n",
              "      <td>-2.402198</td>\n",
              "      <td>-2.055364</td>\n",
              "      <td>-1.584060</td>\n",
              "      <td>-2.822884</td>\n",
              "      <td>-2.085552</td>\n",
              "      <td>-3.077209</td>\n",
              "      <td>-1.932786</td>\n",
              "    </tr>\n",
              "  </tbody>\n",
              "</table>\n",
              "<p>5 rows × 41 columns</p>\n",
              "</div>\n",
              "      <button class=\"colab-df-convert\" onclick=\"convertToInteractive('df-e203f228-eee1-44c6-9d56-88e7253fb1d8')\"\n",
              "              title=\"Convert this dataframe to an interactive table.\"\n",
              "              style=\"display:none;\">\n",
              "        \n",
              "  <svg xmlns=\"http://www.w3.org/2000/svg\" height=\"24px\"viewBox=\"0 0 24 24\"\n",
              "       width=\"24px\">\n",
              "    <path d=\"M0 0h24v24H0V0z\" fill=\"none\"/>\n",
              "    <path d=\"M18.56 5.44l.94 2.06.94-2.06 2.06-.94-2.06-.94-.94-2.06-.94 2.06-2.06.94zm-11 1L8.5 8.5l.94-2.06 2.06-.94-2.06-.94L8.5 2.5l-.94 2.06-2.06.94zm10 10l.94 2.06.94-2.06 2.06-.94-2.06-.94-.94-2.06-.94 2.06-2.06.94z\"/><path d=\"M17.41 7.96l-1.37-1.37c-.4-.4-.92-.59-1.43-.59-.52 0-1.04.2-1.43.59L10.3 9.45l-7.72 7.72c-.78.78-.78 2.05 0 2.83L4 21.41c.39.39.9.59 1.41.59.51 0 1.02-.2 1.41-.59l7.78-7.78 2.81-2.81c.8-.78.8-2.07 0-2.86zM5.41 20L4 18.59l7.72-7.72 1.47 1.35L5.41 20z\"/>\n",
              "  </svg>\n",
              "      </button>\n",
              "      \n",
              "  <style>\n",
              "    .colab-df-container {\n",
              "      display:flex;\n",
              "      flex-wrap:wrap;\n",
              "      gap: 12px;\n",
              "    }\n",
              "\n",
              "    .colab-df-convert {\n",
              "      background-color: #E8F0FE;\n",
              "      border: none;\n",
              "      border-radius: 50%;\n",
              "      cursor: pointer;\n",
              "      display: none;\n",
              "      fill: #1967D2;\n",
              "      height: 32px;\n",
              "      padding: 0 0 0 0;\n",
              "      width: 32px;\n",
              "    }\n",
              "\n",
              "    .colab-df-convert:hover {\n",
              "      background-color: #E2EBFA;\n",
              "      box-shadow: 0px 1px 2px rgba(60, 64, 67, 0.3), 0px 1px 3px 1px rgba(60, 64, 67, 0.15);\n",
              "      fill: #174EA6;\n",
              "    }\n",
              "\n",
              "    [theme=dark] .colab-df-convert {\n",
              "      background-color: #3B4455;\n",
              "      fill: #D2E3FC;\n",
              "    }\n",
              "\n",
              "    [theme=dark] .colab-df-convert:hover {\n",
              "      background-color: #434B5C;\n",
              "      box-shadow: 0px 1px 3px 1px rgba(0, 0, 0, 0.15);\n",
              "      filter: drop-shadow(0px 1px 2px rgba(0, 0, 0, 0.3));\n",
              "      fill: #FFFFFF;\n",
              "    }\n",
              "  </style>\n",
              "\n",
              "      <script>\n",
              "        const buttonEl =\n",
              "          document.querySelector('#df-e203f228-eee1-44c6-9d56-88e7253fb1d8 button.colab-df-convert');\n",
              "        buttonEl.style.display =\n",
              "          google.colab.kernel.accessAllowed ? 'block' : 'none';\n",
              "\n",
              "        async function convertToInteractive(key) {\n",
              "          const element = document.querySelector('#df-e203f228-eee1-44c6-9d56-88e7253fb1d8');\n",
              "          const dataTable =\n",
              "            await google.colab.kernel.invokeFunction('convertToInteractive',\n",
              "                                                     [key], {});\n",
              "          if (!dataTable) return;\n",
              "\n",
              "          const docLinkHtml = 'Like what you see? Visit the ' +\n",
              "            '<a target=\"_blank\" href=https://colab.research.google.com/notebooks/data_table.ipynb>data table notebook</a>'\n",
              "            + ' to learn more about interactive tables.';\n",
              "          element.innerHTML = '';\n",
              "          dataTable['output_type'] = 'display_data';\n",
              "          await google.colab.output.renderOutput(dataTable, element);\n",
              "          const docLink = document.createElement('div');\n",
              "          docLink.innerHTML = docLinkHtml;\n",
              "          element.appendChild(docLink);\n",
              "        }\n",
              "      </script>\n",
              "    </div>\n",
              "  </div>\n",
              "  "
            ]
          },
          "metadata": {},
          "execution_count": 110
        }
      ]
    },
    {
      "cell_type": "code",
      "source": [
        "import numpy as np\n",
        "from sklearn.model_selection import train_test_split\n",
        "X_train_shuffled, X_test_shuffled, y_train_shuffled, y_test_shuffled = train_test_split(X_shuffled, y_shuffled, test_size=0.3, random_state=42)"
      ],
      "metadata": {
        "id": "6Pq3XOEBirFJ"
      },
      "execution_count": null,
      "outputs": []
    },
    {
      "cell_type": "markdown",
      "source": [
        "Now, in the shuffled data, we try the non-linear svm model!"
      ],
      "metadata": {
        "id": "LchUXdddmj6X"
      }
    },
    {
      "cell_type": "code",
      "source": [
        "import numpy as np\n",
        "from sklearn import svm\n",
        "\n",
        "# fit the model\n",
        "clf_nsvm_shuffled = svm.NuSVC(gamma=0.001, kernel=\"rbf\")\n",
        "clf_nsvm_shuffled.fit(X_train_shuffled, y_train_shuffled)"
      ],
      "metadata": {
        "colab": {
          "base_uri": "https://localhost:8080/",
          "height": 74
        },
        "id": "HKjqV9WfmW21",
        "outputId": "403298b7-252b-47c3-bc2b-3ff27e3ef0f6"
      },
      "execution_count": null,
      "outputs": [
        {
          "output_type": "execute_result",
          "data": {
            "text/plain": [
              "NuSVC(gamma=0.001)"
            ],
            "text/html": [
              "<style>#sk-container-id-10 {color: black;background-color: white;}#sk-container-id-10 pre{padding: 0;}#sk-container-id-10 div.sk-toggleable {background-color: white;}#sk-container-id-10 label.sk-toggleable__label {cursor: pointer;display: block;width: 100%;margin-bottom: 0;padding: 0.3em;box-sizing: border-box;text-align: center;}#sk-container-id-10 label.sk-toggleable__label-arrow:before {content: \"▸\";float: left;margin-right: 0.25em;color: #696969;}#sk-container-id-10 label.sk-toggleable__label-arrow:hover:before {color: black;}#sk-container-id-10 div.sk-estimator:hover label.sk-toggleable__label-arrow:before {color: black;}#sk-container-id-10 div.sk-toggleable__content {max-height: 0;max-width: 0;overflow: hidden;text-align: left;background-color: #f0f8ff;}#sk-container-id-10 div.sk-toggleable__content pre {margin: 0.2em;color: black;border-radius: 0.25em;background-color: #f0f8ff;}#sk-container-id-10 input.sk-toggleable__control:checked~div.sk-toggleable__content {max-height: 200px;max-width: 100%;overflow: auto;}#sk-container-id-10 input.sk-toggleable__control:checked~label.sk-toggleable__label-arrow:before {content: \"▾\";}#sk-container-id-10 div.sk-estimator input.sk-toggleable__control:checked~label.sk-toggleable__label {background-color: #d4ebff;}#sk-container-id-10 div.sk-label input.sk-toggleable__control:checked~label.sk-toggleable__label {background-color: #d4ebff;}#sk-container-id-10 input.sk-hidden--visually {border: 0;clip: rect(1px 1px 1px 1px);clip: rect(1px, 1px, 1px, 1px);height: 1px;margin: -1px;overflow: hidden;padding: 0;position: absolute;width: 1px;}#sk-container-id-10 div.sk-estimator {font-family: monospace;background-color: #f0f8ff;border: 1px dotted black;border-radius: 0.25em;box-sizing: border-box;margin-bottom: 0.5em;}#sk-container-id-10 div.sk-estimator:hover {background-color: #d4ebff;}#sk-container-id-10 div.sk-parallel-item::after {content: \"\";width: 100%;border-bottom: 1px solid gray;flex-grow: 1;}#sk-container-id-10 div.sk-label:hover label.sk-toggleable__label {background-color: #d4ebff;}#sk-container-id-10 div.sk-serial::before {content: \"\";position: absolute;border-left: 1px solid gray;box-sizing: border-box;top: 0;bottom: 0;left: 50%;z-index: 0;}#sk-container-id-10 div.sk-serial {display: flex;flex-direction: column;align-items: center;background-color: white;padding-right: 0.2em;padding-left: 0.2em;position: relative;}#sk-container-id-10 div.sk-item {position: relative;z-index: 1;}#sk-container-id-10 div.sk-parallel {display: flex;align-items: stretch;justify-content: center;background-color: white;position: relative;}#sk-container-id-10 div.sk-item::before, #sk-container-id-10 div.sk-parallel-item::before {content: \"\";position: absolute;border-left: 1px solid gray;box-sizing: border-box;top: 0;bottom: 0;left: 50%;z-index: -1;}#sk-container-id-10 div.sk-parallel-item {display: flex;flex-direction: column;z-index: 1;position: relative;background-color: white;}#sk-container-id-10 div.sk-parallel-item:first-child::after {align-self: flex-end;width: 50%;}#sk-container-id-10 div.sk-parallel-item:last-child::after {align-self: flex-start;width: 50%;}#sk-container-id-10 div.sk-parallel-item:only-child::after {width: 0;}#sk-container-id-10 div.sk-dashed-wrapped {border: 1px dashed gray;margin: 0 0.4em 0.5em 0.4em;box-sizing: border-box;padding-bottom: 0.4em;background-color: white;}#sk-container-id-10 div.sk-label label {font-family: monospace;font-weight: bold;display: inline-block;line-height: 1.2em;}#sk-container-id-10 div.sk-label-container {text-align: center;}#sk-container-id-10 div.sk-container {/* jupyter's `normalize.less` sets `[hidden] { display: none; }` but bootstrap.min.css set `[hidden] { display: none !important; }` so we also need the `!important` here to be able to override the default hidden behavior on the sphinx rendered scikit-learn.org. See: https://github.com/scikit-learn/scikit-learn/issues/21755 */display: inline-block !important;position: relative;}#sk-container-id-10 div.sk-text-repr-fallback {display: none;}</style><div id=\"sk-container-id-10\" class=\"sk-top-container\"><div class=\"sk-text-repr-fallback\"><pre>NuSVC(gamma=0.001)</pre><b>In a Jupyter environment, please rerun this cell to show the HTML representation or trust the notebook. <br />On GitHub, the HTML representation is unable to render, please try loading this page with nbviewer.org.</b></div><div class=\"sk-container\" hidden><div class=\"sk-item\"><div class=\"sk-estimator sk-toggleable\"><input class=\"sk-toggleable__control sk-hidden--visually\" id=\"sk-estimator-id-12\" type=\"checkbox\" checked><label for=\"sk-estimator-id-12\" class=\"sk-toggleable__label sk-toggleable__label-arrow\">NuSVC</label><div class=\"sk-toggleable__content\"><pre>NuSVC(gamma=0.001)</pre></div></div></div></div></div>"
            ]
          },
          "metadata": {},
          "execution_count": 112
        }
      ]
    },
    {
      "cell_type": "code",
      "source": [
        "clf_nsvm_shuffled.score(X_test_shuffled,y_test_shuffled)"
      ],
      "metadata": {
        "colab": {
          "base_uri": "https://localhost:8080/"
        },
        "id": "wOLWWzWCm59J",
        "outputId": "da44e5ae-a9f6-48c5-ddec-0aff6ddfdf4a"
      },
      "execution_count": null,
      "outputs": [
        {
          "output_type": "execute_result",
          "data": {
            "text/plain": [
              "0.8972848728630943"
            ]
          },
          "metadata": {},
          "execution_count": 113
        }
      ]
    },
    {
      "cell_type": "markdown",
      "source": [
        "we can see, there is a decrease in the accuracy for the shuffled data,  that means in the previous case, our model was overfitting\n",
        "\n",
        "Nows lets try a model with the best params that we got while hypertuning the unshuffled data"
      ],
      "metadata": {
        "id": "gPnYR8KKnuyF"
      }
    },
    {
      "cell_type": "code",
      "source": [
        "clf_svm_shuffled=svm.SVC(C=1000, kernel=\"rbf\", gamma=0.001)\n",
        "clf_svm_shuffled.fit(X_train_shuffled, y_train_shuffled)"
      ],
      "metadata": {
        "colab": {
          "base_uri": "https://localhost:8080/",
          "height": 74
        },
        "id": "23tV8DLtnrEx",
        "outputId": "b24e1fae-bf53-4cb9-fca1-c6fc431dc10b"
      },
      "execution_count": null,
      "outputs": [
        {
          "output_type": "execute_result",
          "data": {
            "text/plain": [
              "SVC(C=1000, gamma=0.001)"
            ],
            "text/html": [
              "<style>#sk-container-id-11 {color: black;background-color: white;}#sk-container-id-11 pre{padding: 0;}#sk-container-id-11 div.sk-toggleable {background-color: white;}#sk-container-id-11 label.sk-toggleable__label {cursor: pointer;display: block;width: 100%;margin-bottom: 0;padding: 0.3em;box-sizing: border-box;text-align: center;}#sk-container-id-11 label.sk-toggleable__label-arrow:before {content: \"▸\";float: left;margin-right: 0.25em;color: #696969;}#sk-container-id-11 label.sk-toggleable__label-arrow:hover:before {color: black;}#sk-container-id-11 div.sk-estimator:hover label.sk-toggleable__label-arrow:before {color: black;}#sk-container-id-11 div.sk-toggleable__content {max-height: 0;max-width: 0;overflow: hidden;text-align: left;background-color: #f0f8ff;}#sk-container-id-11 div.sk-toggleable__content pre {margin: 0.2em;color: black;border-radius: 0.25em;background-color: #f0f8ff;}#sk-container-id-11 input.sk-toggleable__control:checked~div.sk-toggleable__content {max-height: 200px;max-width: 100%;overflow: auto;}#sk-container-id-11 input.sk-toggleable__control:checked~label.sk-toggleable__label-arrow:before {content: \"▾\";}#sk-container-id-11 div.sk-estimator input.sk-toggleable__control:checked~label.sk-toggleable__label {background-color: #d4ebff;}#sk-container-id-11 div.sk-label input.sk-toggleable__control:checked~label.sk-toggleable__label {background-color: #d4ebff;}#sk-container-id-11 input.sk-hidden--visually {border: 0;clip: rect(1px 1px 1px 1px);clip: rect(1px, 1px, 1px, 1px);height: 1px;margin: -1px;overflow: hidden;padding: 0;position: absolute;width: 1px;}#sk-container-id-11 div.sk-estimator {font-family: monospace;background-color: #f0f8ff;border: 1px dotted black;border-radius: 0.25em;box-sizing: border-box;margin-bottom: 0.5em;}#sk-container-id-11 div.sk-estimator:hover {background-color: #d4ebff;}#sk-container-id-11 div.sk-parallel-item::after {content: \"\";width: 100%;border-bottom: 1px solid gray;flex-grow: 1;}#sk-container-id-11 div.sk-label:hover label.sk-toggleable__label {background-color: #d4ebff;}#sk-container-id-11 div.sk-serial::before {content: \"\";position: absolute;border-left: 1px solid gray;box-sizing: border-box;top: 0;bottom: 0;left: 50%;z-index: 0;}#sk-container-id-11 div.sk-serial {display: flex;flex-direction: column;align-items: center;background-color: white;padding-right: 0.2em;padding-left: 0.2em;position: relative;}#sk-container-id-11 div.sk-item {position: relative;z-index: 1;}#sk-container-id-11 div.sk-parallel {display: flex;align-items: stretch;justify-content: center;background-color: white;position: relative;}#sk-container-id-11 div.sk-item::before, #sk-container-id-11 div.sk-parallel-item::before {content: \"\";position: absolute;border-left: 1px solid gray;box-sizing: border-box;top: 0;bottom: 0;left: 50%;z-index: -1;}#sk-container-id-11 div.sk-parallel-item {display: flex;flex-direction: column;z-index: 1;position: relative;background-color: white;}#sk-container-id-11 div.sk-parallel-item:first-child::after {align-self: flex-end;width: 50%;}#sk-container-id-11 div.sk-parallel-item:last-child::after {align-self: flex-start;width: 50%;}#sk-container-id-11 div.sk-parallel-item:only-child::after {width: 0;}#sk-container-id-11 div.sk-dashed-wrapped {border: 1px dashed gray;margin: 0 0.4em 0.5em 0.4em;box-sizing: border-box;padding-bottom: 0.4em;background-color: white;}#sk-container-id-11 div.sk-label label {font-family: monospace;font-weight: bold;display: inline-block;line-height: 1.2em;}#sk-container-id-11 div.sk-label-container {text-align: center;}#sk-container-id-11 div.sk-container {/* jupyter's `normalize.less` sets `[hidden] { display: none; }` but bootstrap.min.css set `[hidden] { display: none !important; }` so we also need the `!important` here to be able to override the default hidden behavior on the sphinx rendered scikit-learn.org. See: https://github.com/scikit-learn/scikit-learn/issues/21755 */display: inline-block !important;position: relative;}#sk-container-id-11 div.sk-text-repr-fallback {display: none;}</style><div id=\"sk-container-id-11\" class=\"sk-top-container\"><div class=\"sk-text-repr-fallback\"><pre>SVC(C=1000, gamma=0.001)</pre><b>In a Jupyter environment, please rerun this cell to show the HTML representation or trust the notebook. <br />On GitHub, the HTML representation is unable to render, please try loading this page with nbviewer.org.</b></div><div class=\"sk-container\" hidden><div class=\"sk-item\"><div class=\"sk-estimator sk-toggleable\"><input class=\"sk-toggleable__control sk-hidden--visually\" id=\"sk-estimator-id-13\" type=\"checkbox\" checked><label for=\"sk-estimator-id-13\" class=\"sk-toggleable__label sk-toggleable__label-arrow\">SVC</label><div class=\"sk-toggleable__content\"><pre>SVC(C=1000, gamma=0.001)</pre></div></div></div></div></div>"
            ]
          },
          "metadata": {},
          "execution_count": 114
        }
      ]
    },
    {
      "cell_type": "code",
      "source": [
        "clf_svm_shuffled.score(X_test_shuffled, y_test_shuffled)"
      ],
      "metadata": {
        "colab": {
          "base_uri": "https://localhost:8080/"
        },
        "id": "BFrZGd50ohmR",
        "outputId": "1bb8e511-c471-4f08-b174-5f36fab820c9"
      },
      "execution_count": null,
      "outputs": [
        {
          "output_type": "execute_result",
          "data": {
            "text/plain": [
              "0.999281712397644"
            ]
          },
          "metadata": {},
          "execution_count": 115
        }
      ]
    },
    {
      "cell_type": "markdown",
      "source": [
        "our model is performing very well.. almost 100% which is almost same as with the unshuffled dataset\n",
        "\n",
        "# CROSS VALIDATION METHODS"
      ],
      "metadata": {
        "id": "liBHzI0Top7-"
      }
    },
    {
      "cell_type": "code",
      "source": [
        "from sklearn.model_selection import cross_val_score\n",
        "clf_svm_shuffled_cv = svm.SVC(kernel='rbf', C=1000, gamma=0.001,random_state=42)\n",
        "scores = cross_val_score(clf_svm_shuffled_cv, X_train_shuffled, y_train_shuffled, cv=5)\n",
        "scores"
      ],
      "metadata": {
        "colab": {
          "base_uri": "https://localhost:8080/"
        },
        "id": "4verBlHotE9G",
        "outputId": "4ec183ec-1b2f-4fd7-a49a-e8a34e636756"
      },
      "execution_count": null,
      "outputs": [
        {
          "output_type": "execute_result",
          "data": {
            "text/plain": [
              "array([0.99846059, 0.99846059, 0.99907635, 0.99907635, 0.99846059])"
            ]
          },
          "metadata": {},
          "execution_count": 116
        }
      ]
    },
    {
      "cell_type": "code",
      "source": [
        "print(\"%0.2f accuracy with a standard deviation of %0.2f\" % (scores.mean(), scores.std()))"
      ],
      "metadata": {
        "colab": {
          "base_uri": "https://localhost:8080/"
        },
        "id": "v578eOBLtoZ3",
        "outputId": "87aa5623-f4ac-402f-9ec8-0eee6a2b82cf"
      },
      "execution_count": null,
      "outputs": [
        {
          "output_type": "stream",
          "name": "stdout",
          "text": [
            "1.00 accuracy with a standard deviation of 0.00\n"
          ]
        }
      ]
    },
    {
      "cell_type": "markdown",
      "source": [
        "ROC-AUC"
      ],
      "metadata": {
        "id": "WuuiVmvJudBY"
      }
    },
    {
      "cell_type": "code",
      "source": [
        "from sklearn.metrics import RocCurveDisplay\n",
        "svc_disp = RocCurveDisplay.from_estimator(clf_nsvm_shuffled, X_test_shuffled, y_test_shuffled)\n",
        "plt.show()"
      ],
      "metadata": {
        "colab": {
          "base_uri": "https://localhost:8080/",
          "height": 449
        },
        "id": "KdgU6cVtvB6s",
        "outputId": "1f70d35e-311d-4c17-e5e2-e887578ed06f"
      },
      "execution_count": null,
      "outputs": [
        {
          "output_type": "display_data",
          "data": {
            "text/plain": [
              "<Figure size 640x480 with 1 Axes>"
            ],
            "image/png": "[encoded data removed]"
          },
          "metadata": {}
        }
      ]
    },
    {
      "cell_type": "markdown",
      "source": [
        "## Training a Random Forest and Plotting the ROC Curve"
      ],
      "metadata": {
        "id": "LEaD8fYPwjGc"
      }
    },
    {
      "cell_type": "code",
      "source": [
        "clf_shuffled_rf = RandomForestClassifier(n_estimators=10, random_state=42)\n",
        "clf_shuffled_rf.fit(X_train_shuffled, y_train_shuffled)\n",
        "ax = plt.gca()\n",
        "rfc_disp = RocCurveDisplay.from_estimator(clf_shuffled_rf, X_test_shuffled, y_test_shuffled, ax=ax, alpha=0.8)\n",
        "svc_disp.plot(ax=ax, alpha=0.8)\n",
        "\n",
        "plt.show()"
      ],
      "metadata": {
        "colab": {
          "base_uri": "https://localhost:8080/",
          "height": 449
        },
        "id": "s13wSNsMwOyD",
        "outputId": "dfabf8f6-00c0-418d-fdb9-57f190095689"
      },
      "execution_count": null,
      "outputs": [
        {
          "output_type": "display_data",
          "data": {
            "text/plain": [
              "<Figure size 640x480 with 1 Axes>"
            ],
            "image/png": "[encoded data removed]"
          },
          "metadata": {}
        }
      ]
    },
    {
      "cell_type": "code",
      "source": [
        "clf_shuffled_rf.score(X_test_shuffled,y_test_shuffled)"
      ],
      "metadata": {
        "colab": {
          "base_uri": "https://localhost:8080/"
        },
        "id": "yc4DD-jpw4u9",
        "outputId": "1229af0c-605a-4f02-c743-d53f4d4d07a8"
      },
      "execution_count": null,
      "outputs": [
        {
          "output_type": "execute_result",
          "data": {
            "text/plain": [
              "0.9857779054733515"
            ]
          },
          "metadata": {},
          "execution_count": 62
        }
      ]
    },
    {
      "cell_type": "code",
      "source": [
        "clf_nsvm_shuffled.score(X_test_shuffled,y_test_shuffled)"
      ],
      "metadata": {
        "colab": {
          "base_uri": "https://localhost:8080/"
        },
        "id": "VqN7nKf2xGLa",
        "outputId": "3837d83a-297d-4a3c-9adb-e6e3c6b15e9c"
      },
      "execution_count": null,
      "outputs": [
        {
          "output_type": "execute_result",
          "data": {
            "text/plain": [
              "0.896997557822152"
            ]
          },
          "metadata": {},
          "execution_count": 63
        }
      ]
    },
    {
      "cell_type": "code",
      "source": [
        "clf_svm_shuffled.score(X_test_shuffled,y_test_shuffled)"
      ],
      "metadata": {
        "colab": {
          "base_uri": "https://localhost:8080/"
        },
        "id": "OcldKYHVxMjU",
        "outputId": "316e7643-ebb0-4489-99d3-50f870c02642"
      },
      "execution_count": null,
      "outputs": [
        {
          "output_type": "execute_result",
          "data": {
            "text/plain": [
              "0.9984197672748168"
            ]
          },
          "metadata": {},
          "execution_count": 64
        }
      ]
    },
    {
      "cell_type": "markdown",
      "source": [
        "# DEEP LEARNING MODEL!\n",
        "now lets create our first deep learning model using tensorflow!"
      ],
      "metadata": {
        "id": "WQ9-IU_J9baY"
      }
    },
    {
      "cell_type": "code",
      "source": [
        "import tensorflow as tf\n",
        "from tensorflow.keras.models import Sequential\n",
        "from tensorflow.keras.layers import Dense\n",
        "\n",
        "dl_model=Sequential()\n",
        "dl_model.add(Dense(128, activation=\"relu\", input_shape=(X_train.shape[1],)))\n",
        "dl_model.add(Dense(64, activation=\"relu\"))\n",
        "dl_model.add(Dense(32, activation=\"relu\"))\n",
        "dl_model.add(Dense(1, activation=\"sigmoid\"))\n",
        "\n",
        "#compile the model\n",
        "dl_model.compile(optimizer=tf.keras.optimizers.Adam(), loss=tf.keras.losses.BinaryCrossentropy(), metrics=['accuracy'])\n",
        "\n",
        "#train the model\n",
        "history=dl_model.fit(X_train,y_train,validation_data=(X_test,y_test),epochs=50)\n"
      ],
      "metadata": {
        "colab": {
          "base_uri": "https://localhost:8080/"
        },
        "id": "pEZw0EJs9QgE",
        "outputId": "be84e558-e41e-4995-b32d-27b0ff771ef6"
      },
      "execution_count": null,
      "outputs": [
        {
          "output_type": "stream",
          "name": "stdout",
          "text": [
            "Epoch 1/50\n",
            "508/508 [==============================] - 4s 5ms/step - loss: 0.4587 - accuracy: 0.8158 - val_loss: 0.4136 - val_accuracy: 0.8355\n",
            "Epoch 2/50\n",
            "508/508 [==============================] - 2s 3ms/step - loss: 0.3936 - accuracy: 0.8515 - val_loss: 0.3733 - val_accuracy: 0.8555\n",
            "Epoch 3/50\n",
            "508/508 [==============================] - 3s 5ms/step - loss: 0.3614 - accuracy: 0.8583 - val_loss: 0.3546 - val_accuracy: 0.8589\n",
            "Epoch 4/50\n",
            "508/508 [==============================] - 3s 5ms/step - loss: 0.3425 - accuracy: 0.8667 - val_loss: 0.3267 - val_accuracy: 0.8680\n",
            "Epoch 5/50\n",
            "508/508 [==============================] - 2s 3ms/step - loss: 0.3175 - accuracy: 0.8722 - val_loss: 0.3025 - val_accuracy: 0.8760\n",
            "Epoch 6/50\n",
            "508/508 [==============================] - 2s 3ms/step - loss: 0.2944 - accuracy: 0.8792 - val_loss: 0.3029 - val_accuracy: 0.8693\n",
            "Epoch 7/50\n",
            "508/508 [==============================] - 2s 3ms/step - loss: 0.2746 - accuracy: 0.8845 - val_loss: 0.2982 - val_accuracy: 0.8849\n",
            "Epoch 8/50\n",
            "508/508 [==============================] - 2s 3ms/step - loss: 0.2588 - accuracy: 0.8884 - val_loss: 0.2726 - val_accuracy: 0.8729\n",
            "Epoch 9/50\n",
            "508/508 [==============================] - 2s 4ms/step - loss: 0.2429 - accuracy: 0.8921 - val_loss: 0.2547 - val_accuracy: 0.8773\n",
            "Epoch 10/50\n",
            "508/508 [==============================] - 2s 4ms/step - loss: 0.2307 - accuracy: 0.8969 - val_loss: 0.2499 - val_accuracy: 0.8885\n",
            "Epoch 11/50\n",
            "508/508 [==============================] - 3s 6ms/step - loss: 0.2144 - accuracy: 0.8986 - val_loss: 0.2079 - val_accuracy: 0.8987\n",
            "Epoch 12/50\n",
            "508/508 [==============================] - 2s 4ms/step - loss: 0.1998 - accuracy: 0.9063 - val_loss: 0.4106 - val_accuracy: 0.8803\n",
            "Epoch 13/50\n",
            "508/508 [==============================] - 2s 3ms/step - loss: 0.1863 - accuracy: 0.9124 - val_loss: 0.1841 - val_accuracy: 0.9211\n",
            "Epoch 14/50\n",
            "508/508 [==============================] - 2s 4ms/step - loss: 0.1694 - accuracy: 0.9208 - val_loss: 0.1562 - val_accuracy: 0.9122\n",
            "Epoch 15/50\n",
            "508/508 [==============================] - 2s 4ms/step - loss: 0.1355 - accuracy: 0.9437 - val_loss: 0.1661 - val_accuracy: 0.9184\n",
            "Epoch 16/50\n",
            "508/508 [==============================] - 2s 3ms/step - loss: 0.1229 - accuracy: 0.9472 - val_loss: 0.1131 - val_accuracy: 0.9563\n",
            "Epoch 17/50\n",
            "508/508 [==============================] - 2s 4ms/step - loss: 0.1122 - accuracy: 0.9534 - val_loss: 0.1454 - val_accuracy: 0.9378\n",
            "Epoch 18/50\n",
            "508/508 [==============================] - 3s 5ms/step - loss: 0.0988 - accuracy: 0.9599 - val_loss: 0.0762 - val_accuracy: 0.9760\n",
            "Epoch 19/50\n",
            "508/508 [==============================] - 2s 4ms/step - loss: 0.0895 - accuracy: 0.9632 - val_loss: 0.0911 - val_accuracy: 0.9598\n",
            "Epoch 20/50\n",
            "508/508 [==============================] - 2s 3ms/step - loss: 0.0862 - accuracy: 0.9639 - val_loss: 0.0974 - val_accuracy: 0.9602\n",
            "Epoch 21/50\n",
            "508/508 [==============================] - 2s 3ms/step - loss: 0.0868 - accuracy: 0.9644 - val_loss: 0.0961 - val_accuracy: 0.9591\n",
            "Epoch 22/50\n",
            "508/508 [==============================] - 2s 3ms/step - loss: 0.0907 - accuracy: 0.9645 - val_loss: 0.1022 - val_accuracy: 0.9601\n",
            "Epoch 23/50\n",
            "508/508 [==============================] - 2s 3ms/step - loss: 0.0779 - accuracy: 0.9684 - val_loss: 0.1051 - val_accuracy: 0.9553\n",
            "Epoch 24/50\n",
            "508/508 [==============================] - 2s 3ms/step - loss: 0.0778 - accuracy: 0.9687 - val_loss: 0.1044 - val_accuracy: 0.9547\n",
            "Epoch 25/50\n",
            "508/508 [==============================] - 3s 5ms/step - loss: 0.0780 - accuracy: 0.9688 - val_loss: 0.0940 - val_accuracy: 0.9595\n",
            "Epoch 26/50\n",
            "508/508 [==============================] - 3s 5ms/step - loss: 0.0710 - accuracy: 0.9719 - val_loss: 0.0572 - val_accuracy: 0.9785\n",
            "Epoch 27/50\n",
            "508/508 [==============================] - 2s 3ms/step - loss: 0.0686 - accuracy: 0.9740 - val_loss: 0.0643 - val_accuracy: 0.9749\n",
            "Epoch 28/50\n",
            "508/508 [==============================] - 2s 4ms/step - loss: 0.0501 - accuracy: 0.9802 - val_loss: 0.0659 - val_accuracy: 0.9737\n",
            "Epoch 29/50\n",
            "508/508 [==============================] - 2s 4ms/step - loss: 0.0561 - accuracy: 0.9774 - val_loss: 0.0633 - val_accuracy: 0.9733\n",
            "Epoch 30/50\n",
            "508/508 [==============================] - 2s 4ms/step - loss: 0.0565 - accuracy: 0.9781 - val_loss: 0.0535 - val_accuracy: 0.9839\n",
            "Epoch 31/50\n",
            "508/508 [==============================] - 2s 4ms/step - loss: 0.0864 - accuracy: 0.9652 - val_loss: 0.1268 - val_accuracy: 0.9591\n",
            "Epoch 32/50\n",
            "508/508 [==============================] - 3s 5ms/step - loss: 0.0590 - accuracy: 0.9765 - val_loss: 0.0950 - val_accuracy: 0.9582\n",
            "Epoch 33/50\n",
            "508/508 [==============================] - 3s 6ms/step - loss: 0.0624 - accuracy: 0.9762 - val_loss: 0.0750 - val_accuracy: 0.9701\n",
            "Epoch 34/50\n",
            "508/508 [==============================] - 3s 6ms/step - loss: 0.0515 - accuracy: 0.9793 - val_loss: 0.0616 - val_accuracy: 0.9740\n",
            "Epoch 35/50\n",
            "508/508 [==============================] - 2s 3ms/step - loss: 0.0496 - accuracy: 0.9801 - val_loss: 0.0548 - val_accuracy: 0.9780\n",
            "Epoch 36/50\n",
            "508/508 [==============================] - 2s 3ms/step - loss: 0.0485 - accuracy: 0.9817 - val_loss: 0.0709 - val_accuracy: 0.9711\n",
            "Epoch 37/50\n",
            "508/508 [==============================] - 2s 4ms/step - loss: 0.0613 - accuracy: 0.9754 - val_loss: 0.0639 - val_accuracy: 0.9744\n",
            "Epoch 38/50\n",
            "508/508 [==============================] - 3s 5ms/step - loss: 0.0469 - accuracy: 0.9817 - val_loss: 0.1731 - val_accuracy: 0.9312\n",
            "Epoch 39/50\n",
            "508/508 [==============================] - 2s 4ms/step - loss: 0.0451 - accuracy: 0.9827 - val_loss: 0.0627 - val_accuracy: 0.9740\n",
            "Epoch 40/50\n",
            "508/508 [==============================] - 2s 3ms/step - loss: 0.0537 - accuracy: 0.9787 - val_loss: 0.0467 - val_accuracy: 0.9845\n",
            "Epoch 41/50\n",
            "508/508 [==============================] - 2s 3ms/step - loss: 0.0387 - accuracy: 0.9851 - val_loss: 0.0446 - val_accuracy: 0.9865\n",
            "Epoch 42/50\n",
            "508/508 [==============================] - 2s 3ms/step - loss: 0.0617 - accuracy: 0.9770 - val_loss: 0.0342 - val_accuracy: 0.9899\n",
            "Epoch 43/50\n",
            "508/508 [==============================] - 2s 3ms/step - loss: 0.0431 - accuracy: 0.9836 - val_loss: 0.1757 - val_accuracy: 0.9320\n",
            "Epoch 44/50\n",
            "508/508 [==============================] - 2s 3ms/step - loss: 0.0522 - accuracy: 0.9811 - val_loss: 0.0470 - val_accuracy: 0.9825\n",
            "Epoch 45/50\n",
            "508/508 [==============================] - 3s 5ms/step - loss: 0.0394 - accuracy: 0.9849 - val_loss: 0.0429 - val_accuracy: 0.9841\n",
            "Epoch 46/50\n",
            "508/508 [==============================] - 3s 6ms/step - loss: 0.0442 - accuracy: 0.9818 - val_loss: 0.0628 - val_accuracy: 0.9751\n",
            "Epoch 47/50\n",
            "508/508 [==============================] - 1s 3ms/step - loss: 0.0486 - accuracy: 0.9805 - val_loss: 0.0657 - val_accuracy: 0.9751\n",
            "Epoch 48/50\n",
            "508/508 [==============================] - 2s 3ms/step - loss: 0.0557 - accuracy: 0.9797 - val_loss: 0.0389 - val_accuracy: 0.9869\n",
            "Epoch 49/50\n",
            "508/508 [==============================] - 2s 3ms/step - loss: 0.0487 - accuracy: 0.9809 - val_loss: 0.0619 - val_accuracy: 0.9759\n",
            "Epoch 50/50\n",
            "508/508 [==============================] - 2s 3ms/step - loss: 0.0335 - accuracy: 0.9869 - val_loss: 0.0368 - val_accuracy: 0.9891\n"
          ]
        }
      ]
    },
    {
      "cell_type": "code",
      "source": [
        "dl_model.summary()"
      ],
      "metadata": {
        "colab": {
          "base_uri": "https://localhost:8080/"
        },
        "id": "3v0C5hOt_E57",
        "outputId": "5c05dfe7-4cd1-4ead-a151-e1b971d12cf2"
      },
      "execution_count": null,
      "outputs": [
        {
          "output_type": "stream",
          "name": "stdout",
          "text": [
            "Model: \"sequential\"\n",
            "_________________________________________________________________\n",
            " Layer (type)                Output Shape              Param #   \n",
            "=================================================================\n",
            " dense (Dense)               (None, 128)               5376      \n",
            "                                                                 \n",
            " dense_1 (Dense)             (None, 64)                8256      \n",
            "                                                                 \n",
            " dense_2 (Dense)             (None, 32)                2080      \n",
            "                                                                 \n",
            " dense_3 (Dense)             (None, 1)                 33        \n",
            "                                                                 \n",
            "=================================================================\n",
            "Total params: 15,745\n",
            "Trainable params: 15,745\n",
            "Non-trainable params: 0\n",
            "_________________________________________________________________\n"
          ]
        }
      ]
    },
    {
      "cell_type": "code",
      "source": [
        "dl_model.evaluate(X_test,y_test)"
      ],
      "metadata": {
        "colab": {
          "base_uri": "https://localhost:8080/"
        },
        "id": "5dL8KhVgAc9o",
        "outputId": "7a78873c-73f2-4c13-90f9-86b59fcd5774"
      },
      "execution_count": null,
      "outputs": [
        {
          "output_type": "stream",
          "name": "stdout",
          "text": [
            "218/218 [==============================] - 1s 3ms/step - loss: 0.0368 - accuracy: 0.9891\n"
          ]
        },
        {
          "output_type": "execute_result",
          "data": {
            "text/plain": [
              "[0.036807943135499954, 0.9890820384025574]"
            ]
          },
          "metadata": {},
          "execution_count": 28
        }
      ]
    },
    {
      "cell_type": "code",
      "source": [
        "len(X_test)"
      ],
      "metadata": {
        "colab": {
          "base_uri": "https://localhost:8080/"
        },
        "id": "f_g7zy1cAiZV",
        "outputId": "562d9def-84b1-4cd6-c179-bec599c9c894"
      },
      "execution_count": null,
      "outputs": [
        {
          "output_type": "execute_result",
          "data": {
            "text/plain": [
              "6961"
            ]
          },
          "metadata": {},
          "execution_count": 29
        }
      ]
    },
    {
      "cell_type": "code",
      "source": [
        "X_train.shape[1]"
      ],
      "metadata": {
        "colab": {
          "base_uri": "https://localhost:8080/"
        },
        "id": "e-PwX27gAoSo",
        "outputId": "5a94dc6d-9f53-492d-8992-e3ff4800f9c0"
      },
      "execution_count": null,
      "outputs": [
        {
          "output_type": "execute_result",
          "data": {
            "text/plain": [
              "41"
            ]
          },
          "metadata": {},
          "execution_count": 30
        }
      ]
    },
    {
      "cell_type": "code",
      "source": [
        "dl_predictions= dl_model.predict(X_test)"
      ],
      "metadata": {
        "colab": {
          "base_uri": "https://localhost:8080/"
        },
        "id": "gISSeHHEBifN",
        "outputId": "ed28c8b7-085f-46b5-ac69-c8bbe112c370"
      },
      "execution_count": null,
      "outputs": [
        {
          "output_type": "stream",
          "name": "stdout",
          "text": [
            "218/218 [==============================] - 1s 2ms/step\n"
          ]
        }
      ]
    },
    {
      "cell_type": "code",
      "source": [
        "dl_predictions.shape"
      ],
      "metadata": {
        "colab": {
          "base_uri": "https://localhost:8080/"
        },
        "id": "mY-JeG7uIdxm",
        "outputId": "508d72a7-8898-4bc1-8d87-435d5341105a"
      },
      "execution_count": null,
      "outputs": [
        {
          "output_type": "execute_result",
          "data": {
            "text/plain": [
              "(6961, 1)"
            ]
          },
          "metadata": {},
          "execution_count": 32
        }
      ]
    },
    {
      "cell_type": "code",
      "source": [
        "len(dl_predictions)"
      ],
      "metadata": {
        "colab": {
          "base_uri": "https://localhost:8080/"
        },
        "id": "qREhGaR2Bxc3",
        "outputId": "fa38bb4f-18a0-4367-97a3-3e037383c326"
      },
      "execution_count": null,
      "outputs": [
        {
          "output_type": "execute_result",
          "data": {
            "text/plain": [
              "6961"
            ]
          },
          "metadata": {},
          "execution_count": 33
        }
      ]
    },
    {
      "cell_type": "code",
      "source": [
        "from keras.losses import mean_squared_error\n",
        "#calculate the error metric\n",
        "dl_mse=mean_squared_error(y_test,dl_predictions)\n",
        "print('Deep Learning MSE: ',dl_mse)"
      ],
      "metadata": {
        "colab": {
          "base_uri": "https://localhost:8080/"
        },
        "id": "vmhk20u1B1ba",
        "outputId": "843cff91-b7fa-408a-b607-703bab730e71"
      },
      "execution_count": null,
      "outputs": [
        {
          "output_type": "stream",
          "name": "stdout",
          "text": [
            "Deep Learning MSE:  tf.Tensor([0.6004884  0.39921677 0.39916125 ... 0.5850258  0.3995013  0.5525538 ], shape=(6961,), dtype=float32)\n"
          ]
        }
      ]
    },
    {
      "cell_type": "code",
      "source": [
        "#lets visualize the loss of training and validaton\n",
        "import matplotlib.pyplot as plt\n",
        "plt.figure(figsize=(10,8))\n",
        "plt.plot(history.history['loss'])\n",
        "plt.plot(history.history['val_loss'])\n",
        "plt.title('model loss')\n",
        "plt.ylabel('loss')\n",
        "plt.xlabel('Epoch')\n",
        "plt.legend(['train','test'],loc='upper right')\n",
        "plt.show()"
      ],
      "metadata": {
        "colab": {
          "base_uri": "https://localhost:8080/",
          "height": 718
        },
        "id": "5ythlIqDB7um",
        "outputId": "8a438cc3-1137-4049-94d9-036611d28e18"
      },
      "execution_count": null,
      "outputs": [
        {
          "output_type": "display_data",
          "data": {
            "text/plain": [
              "<Figure size 1000x800 with 1 Axes>"
            ],
            "image/png": "[encoded data removed]"
          },
          "metadata": {}
        }
      ]
    },
    {
      "cell_type": "code",
      "source": [
        "def compute_accuracy(Y_true, Y_pred):  \n",
        "    correctly_predicted = 0  \n",
        "    # iterating over every label and checking it with the true sample  \n",
        "    for true_label, predicted in zip(Y_true, Y_pred):  \n",
        "        if true_label == predicted:  \n",
        "            correctly_predicted += 1  \n",
        "    # computing the accuracy score  \n",
        "    accuracy_score = correctly_predicted / len(Y_true)  \n",
        "    return accuracy_score  "
      ],
      "metadata": {
        "id": "rHIKGI0rEuXa"
      },
      "execution_count": null,
      "outputs": []
    },
    {
      "cell_type": "code",
      "source": [
        "dl_predictions[10]"
      ],
      "metadata": {
        "colab": {
          "base_uri": "https://localhost:8080/"
        },
        "id": "VEIvTR0XFtLz",
        "outputId": "3cb1cf08-1efc-433a-b32d-95a87f74280a"
      },
      "execution_count": null,
      "outputs": [
        {
          "output_type": "execute_result",
          "data": {
            "text/plain": [
              "array([7.707924e-09], dtype=float32)"
            ]
          },
          "metadata": {},
          "execution_count": 66
        }
      ]
    },
    {
      "cell_type": "code",
      "source": [],
      "metadata": {
        "id": "8hkmmB2gGHrE"
      },
      "execution_count": null,
      "outputs": []
    }
  ],
  "metadata": {
    "accelerator": "GPU",
    "colab": {
      "provenance": [],
      "gpuType": "T4",
      "include_colab_link": true
    },
    "kernelspec": {
      "display_name": "Python 3",
      "name": "python3"
    },
    "language_info": {
      "name": "python"
    }
  },
  "nbformat": 4,
  "nbformat_minor": 0
}